{
 "cells": [
  {
   "cell_type": "code",
   "execution_count": 68,
   "id": "bdb6c690",
   "metadata": {},
   "outputs": [],
   "source": [
    "import numpy as np\n",
    "from sklearn.datasets import load_diabetes\n",
    "diabetes=load_diabetes()"
   ]
  },
  {
   "cell_type": "code",
   "execution_count": 69,
   "id": "35e49539",
   "metadata": {},
   "outputs": [
    {
     "name": "stdout",
     "output_type": "stream",
     "text": [
      "(442, 10)\n",
      "(442,)\n"
     ]
    }
   ],
   "source": [
    "df_X=diabetes.data\n",
    "df_y=diabetes.target\n",
    "\n",
    "print(df_X.shape)\n",
    "print(df_y.shape)"
   ]
  },
  {
   "cell_type": "code",
   "execution_count": 70,
   "id": "eddfda24",
   "metadata": {},
   "outputs": [
    {
     "data": {
      "text/plain": [
       "array([ 0.03807591,  0.05068012,  0.06169621,  0.02187235, -0.0442235 ,\n",
       "       -0.03482076, -0.04340085, -0.00259226,  0.01990842, -0.01764613])"
      ]
     },
     "execution_count": 70,
     "metadata": {},
     "output_type": "execute_result"
    }
   ],
   "source": [
    "df_X[0]"
   ]
  },
  {
   "cell_type": "code",
   "execution_count": 71,
   "id": "a09891a9",
   "metadata": {},
   "outputs": [],
   "source": [
    "X = np.array(df_X)\n",
    "y = np.array(df_y)"
   ]
  },
  {
   "cell_type": "code",
   "execution_count": 72,
   "id": "bbea4351",
   "metadata": {},
   "outputs": [],
   "source": [
    "from sklearn.model_selection import train_test_split"
   ]
  },
  {
   "cell_type": "code",
   "execution_count": 81,
   "id": "3247959a",
   "metadata": {},
   "outputs": [],
   "source": [
    "X_train, X_test, y_train, y_test = train_test_split(X, y, test_size=0.2, random_state=2020)"
   ]
  },
  {
   "cell_type": "code",
   "execution_count": 82,
   "id": "f40ffa0d",
   "metadata": {},
   "outputs": [],
   "source": [
    "W = np.random.rand(10)\n",
    "b = np.random.rand()\n",
    "\n",
    "def model(X, W, b):\n",
    "    return np.dot(X,W) + b\n"
   ]
  },
  {
   "cell_type": "code",
   "execution_count": 83,
   "id": "0249c609",
   "metadata": {},
   "outputs": [],
   "source": [
    "def loss(X, W, b, y):\n",
    "    return np.mean((y-model(X, W, b))**2)"
   ]
  },
  {
   "cell_type": "code",
   "execution_count": 84,
   "id": "1d692e0a",
   "metadata": {},
   "outputs": [],
   "source": [
    "def gradient(X, W, b, y):\n",
    "    N = len(y)\n",
    "    \n",
    "    y_pred = model(X, W, b)\n",
    "    \n",
    "    dW = 1/N * 2 * X.T.dot(y_pred - y)\n",
    "    \n",
    "    db = 2 * (y_pred - y).mean()\n",
    "    return dW, db\n",
    "\n",
    "learning_rate = 0.1"
   ]
  },
  {
   "cell_type": "code",
   "execution_count": 85,
   "id": "268b9a9c",
   "metadata": {},
   "outputs": [
    {
     "name": "stdout",
     "output_type": "stream",
     "text": [
      "Iteration 100 : Loss 5317.7208\n",
      "Iteration 200 : Loss 4794.4224\n",
      "Iteration 300 : Loss 4414.7570\n",
      "Iteration 400 : Loss 4135.1784\n",
      "Iteration 500 : Loss 3925.8029\n",
      "Iteration 600 : Loss 3766.0739\n",
      "Iteration 700 : Loss 3641.8074\n",
      "Iteration 800 : Loss 3543.1779\n",
      "Iteration 900 : Loss 3463.3452\n",
      "Iteration 1000 : Loss 3397.5175\n",
      "Iteration 1100 : Loss 3342.3113\n",
      "Iteration 1200 : Loss 3295.3151\n",
      "Iteration 1300 : Loss 3254.7899\n",
      "Iteration 1400 : Loss 3219.4648\n",
      "Iteration 1500 : Loss 3188.3965\n",
      "Iteration 1600 : Loss 3160.8729\n",
      "Iteration 1700 : Loss 3136.3462\n",
      "Iteration 1800 : Loss 3114.3869\n",
      "Iteration 1900 : Loss 3094.6519\n",
      "Iteration 2000 : Loss 3076.8620\n",
      "Iteration 2100 : Loss 3060.7859\n",
      "Iteration 2200 : Loss 3046.2294\n",
      "Iteration 2300 : Loss 3033.0267\n",
      "Iteration 2400 : Loss 3021.0352\n",
      "Iteration 2500 : Loss 3010.1305\n",
      "Iteration 2600 : Loss 3000.2038\n",
      "Iteration 2700 : Loss 2991.1588\n",
      "Iteration 2800 : Loss 2982.9102\n",
      "Iteration 2900 : Loss 2975.3820\n",
      "Iteration 3000 : Loss 2968.5060\n",
      "Iteration 3100 : Loss 2962.2215\n",
      "Iteration 3200 : Loss 2956.4737\n",
      "Iteration 3300 : Loss 2951.2132\n",
      "Iteration 3400 : Loss 2946.3956\n",
      "Iteration 3500 : Loss 2941.9809\n",
      "Iteration 3600 : Loss 2937.9328\n",
      "Iteration 3700 : Loss 2934.2187\n",
      "Iteration 3800 : Loss 2930.8088\n",
      "Iteration 3900 : Loss 2927.6763\n",
      "Iteration 4000 : Loss 2924.7969\n",
      "Iteration 4100 : Loss 2922.1485\n",
      "Iteration 4200 : Loss 2919.7111\n",
      "Iteration 4300 : Loss 2917.4665\n",
      "Iteration 4400 : Loss 2915.3983\n",
      "Iteration 4500 : Loss 2913.4913\n",
      "Iteration 4600 : Loss 2911.7320\n",
      "Iteration 4700 : Loss 2910.1079\n",
      "Iteration 4800 : Loss 2908.6077\n",
      "Iteration 4900 : Loss 2907.2212\n",
      "Iteration 5000 : Loss 2905.9388\n",
      "Iteration 5100 : Loss 2904.7521\n",
      "Iteration 5200 : Loss 2903.6532\n",
      "Iteration 5300 : Loss 2902.6350\n",
      "Iteration 5400 : Loss 2901.6910\n",
      "Iteration 5500 : Loss 2900.8153\n",
      "Iteration 5600 : Loss 2900.0024\n",
      "Iteration 5700 : Loss 2899.2473\n",
      "Iteration 5800 : Loss 2898.5455\n",
      "Iteration 5900 : Loss 2897.8929\n",
      "Iteration 6000 : Loss 2897.2855\n",
      "Iteration 6100 : Loss 2896.7200\n",
      "Iteration 6200 : Loss 2896.1930\n",
      "Iteration 6300 : Loss 2895.7018\n",
      "Iteration 6400 : Loss 2895.2434\n",
      "Iteration 6500 : Loss 2894.8156\n",
      "Iteration 6600 : Loss 2894.4160\n",
      "Iteration 6700 : Loss 2894.0425\n",
      "Iteration 6800 : Loss 2893.6931\n",
      "Iteration 6900 : Loss 2893.3662\n",
      "Iteration 7000 : Loss 2893.0601\n",
      "Iteration 7100 : Loss 2892.7733\n",
      "Iteration 7200 : Loss 2892.5044\n",
      "Iteration 7300 : Loss 2892.2521\n",
      "Iteration 7400 : Loss 2892.0152\n",
      "Iteration 7500 : Loss 2891.7927\n",
      "Iteration 7600 : Loss 2891.5836\n",
      "Iteration 7700 : Loss 2891.3869\n",
      "Iteration 7800 : Loss 2891.2018\n",
      "Iteration 7900 : Loss 2891.0275\n",
      "Iteration 8000 : Loss 2890.8633\n",
      "Iteration 8100 : Loss 2890.7084\n",
      "Iteration 8200 : Loss 2890.5623\n",
      "Iteration 8300 : Loss 2890.4244\n",
      "Iteration 8400 : Loss 2890.2941\n",
      "Iteration 8500 : Loss 2890.1709\n",
      "Iteration 8600 : Loss 2890.0544\n",
      "Iteration 8700 : Loss 2889.9441\n",
      "Iteration 8800 : Loss 2889.8397\n",
      "Iteration 8900 : Loss 2889.7407\n",
      "Iteration 9000 : Loss 2889.6469\n",
      "Iteration 9100 : Loss 2889.5579\n",
      "Iteration 9200 : Loss 2889.4733\n",
      "Iteration 9300 : Loss 2889.3930\n",
      "Iteration 9400 : Loss 2889.3167\n",
      "Iteration 9500 : Loss 2889.2441\n",
      "Iteration 9600 : Loss 2889.1749\n",
      "Iteration 9700 : Loss 2889.1091\n",
      "Iteration 9800 : Loss 2889.0463\n",
      "Iteration 9900 : Loss 2888.9865\n",
      "Iteration 10000 : Loss 2888.9293\n",
      "Iteration 10100 : Loss 2888.8748\n",
      "Iteration 10200 : Loss 2888.8227\n",
      "Iteration 10300 : Loss 2888.7728\n",
      "Iteration 10400 : Loss 2888.7251\n",
      "Iteration 10500 : Loss 2888.6795\n",
      "Iteration 10600 : Loss 2888.6357\n",
      "Iteration 10700 : Loss 2888.5938\n",
      "Iteration 10800 : Loss 2888.5536\n",
      "Iteration 10900 : Loss 2888.5149\n",
      "Iteration 11000 : Loss 2888.4778\n",
      "Iteration 11100 : Loss 2888.4422\n",
      "Iteration 11200 : Loss 2888.4079\n",
      "Iteration 11300 : Loss 2888.3748\n",
      "Iteration 11400 : Loss 2888.3430\n",
      "Iteration 11500 : Loss 2888.3124\n",
      "Iteration 11600 : Loss 2888.2828\n",
      "Iteration 11700 : Loss 2888.2543\n",
      "Iteration 11800 : Loss 2888.2267\n",
      "Iteration 11900 : Loss 2888.2001\n",
      "Iteration 12000 : Loss 2888.1743\n",
      "Iteration 12100 : Loss 2888.1494\n",
      "Iteration 12200 : Loss 2888.1252\n",
      "Iteration 12300 : Loss 2888.1018\n",
      "Iteration 12400 : Loss 2888.0791\n",
      "Iteration 12500 : Loss 2888.0571\n",
      "Iteration 12600 : Loss 2888.0358\n",
      "Iteration 12700 : Loss 2888.0150\n",
      "Iteration 12800 : Loss 2887.9948\n",
      "Iteration 12900 : Loss 2887.9752\n",
      "Iteration 13000 : Loss 2887.9561\n",
      "Iteration 13100 : Loss 2887.9375\n",
      "Iteration 13200 : Loss 2887.9193\n",
      "Iteration 13300 : Loss 2887.9016\n",
      "Iteration 13400 : Loss 2887.8843\n",
      "Iteration 13500 : Loss 2887.8675\n",
      "Iteration 13600 : Loss 2887.8510\n",
      "Iteration 13700 : Loss 2887.8349\n",
      "Iteration 13800 : Loss 2887.8191\n",
      "Iteration 13900 : Loss 2887.8037\n",
      "Iteration 14000 : Loss 2887.7886\n",
      "Iteration 14100 : Loss 2887.7738\n",
      "Iteration 14200 : Loss 2887.7593\n",
      "Iteration 14300 : Loss 2887.7451\n",
      "Iteration 14400 : Loss 2887.7311\n",
      "Iteration 14500 : Loss 2887.7174\n",
      "Iteration 14600 : Loss 2887.7039\n",
      "Iteration 14700 : Loss 2887.6906\n",
      "Iteration 14800 : Loss 2887.6776\n",
      "Iteration 14900 : Loss 2887.6648\n",
      "Iteration 15000 : Loss 2887.6522\n",
      "Iteration 15100 : Loss 2887.6397\n",
      "Iteration 15200 : Loss 2887.6275\n",
      "Iteration 15300 : Loss 2887.6154\n",
      "Iteration 15400 : Loss 2887.6035\n",
      "Iteration 15500 : Loss 2887.5917\n",
      "Iteration 15600 : Loss 2887.5801\n",
      "Iteration 15700 : Loss 2887.5687\n",
      "Iteration 15800 : Loss 2887.5574\n",
      "Iteration 15900 : Loss 2887.5462\n",
      "Iteration 16000 : Loss 2887.5351\n",
      "Iteration 16100 : Loss 2887.5242\n",
      "Iteration 16200 : Loss 2887.5134\n",
      "Iteration 16300 : Loss 2887.5027\n",
      "Iteration 16400 : Loss 2887.4921\n",
      "Iteration 16500 : Loss 2887.4816\n",
      "Iteration 16600 : Loss 2887.4712\n",
      "Iteration 16700 : Loss 2887.4610\n",
      "Iteration 16800 : Loss 2887.4508\n",
      "Iteration 16900 : Loss 2887.4406\n",
      "Iteration 17000 : Loss 2887.4306\n",
      "Iteration 17100 : Loss 2887.4207\n",
      "Iteration 17200 : Loss 2887.4108\n",
      "Iteration 17300 : Loss 2887.4010\n",
      "Iteration 17400 : Loss 2887.3913\n",
      "Iteration 17500 : Loss 2887.3817\n",
      "Iteration 17600 : Loss 2887.3721\n",
      "Iteration 17700 : Loss 2887.3626\n",
      "Iteration 17800 : Loss 2887.3531\n",
      "Iteration 17900 : Loss 2887.3437\n",
      "Iteration 18000 : Loss 2887.3344\n",
      "Iteration 18100 : Loss 2887.3251\n",
      "Iteration 18200 : Loss 2887.3159\n",
      "Iteration 18300 : Loss 2887.3067\n",
      "Iteration 18400 : Loss 2887.2975\n",
      "Iteration 18500 : Loss 2887.2885\n",
      "Iteration 18600 : Loss 2887.2794\n",
      "Iteration 18700 : Loss 2887.2704\n",
      "Iteration 18800 : Loss 2887.2615\n",
      "Iteration 18900 : Loss 2887.2526\n",
      "Iteration 19000 : Loss 2887.2437\n",
      "Iteration 19100 : Loss 2887.2349\n",
      "Iteration 19200 : Loss 2887.2261\n",
      "Iteration 19300 : Loss 2887.2174\n",
      "Iteration 19400 : Loss 2887.2087\n",
      "Iteration 19500 : Loss 2887.2000\n",
      "Iteration 19600 : Loss 2887.1914\n",
      "Iteration 19700 : Loss 2887.1827\n",
      "Iteration 19800 : Loss 2887.1742\n",
      "Iteration 19900 : Loss 2887.1656\n",
      "Iteration 20000 : Loss 2887.1571\n",
      "Iteration 20100 : Loss 2887.1486\n",
      "Iteration 20200 : Loss 2887.1402\n",
      "Iteration 20300 : Loss 2887.1317\n",
      "Iteration 20400 : Loss 2887.1233\n",
      "Iteration 20500 : Loss 2887.1149\n",
      "Iteration 20600 : Loss 2887.1066\n",
      "Iteration 20700 : Loss 2887.0983\n",
      "Iteration 20800 : Loss 2887.0900\n",
      "Iteration 20900 : Loss 2887.0817\n",
      "Iteration 21000 : Loss 2887.0734\n",
      "Iteration 21100 : Loss 2887.0652\n",
      "Iteration 21200 : Loss 2887.0570\n",
      "Iteration 21300 : Loss 2887.0488\n",
      "Iteration 21400 : Loss 2887.0406\n",
      "Iteration 21500 : Loss 2887.0325\n",
      "Iteration 21600 : Loss 2887.0243\n",
      "Iteration 21700 : Loss 2887.0162\n",
      "Iteration 21800 : Loss 2887.0081\n",
      "Iteration 21900 : Loss 2887.0000\n",
      "Iteration 22000 : Loss 2886.9920\n",
      "Iteration 22100 : Loss 2886.9840\n",
      "Iteration 22200 : Loss 2886.9759\n",
      "Iteration 22300 : Loss 2886.9679\n",
      "Iteration 22400 : Loss 2886.9600\n",
      "Iteration 22500 : Loss 2886.9520\n",
      "Iteration 22600 : Loss 2886.9440\n",
      "Iteration 22700 : Loss 2886.9361\n",
      "Iteration 22800 : Loss 2886.9282\n",
      "Iteration 22900 : Loss 2886.9203\n",
      "Iteration 23000 : Loss 2886.9124\n",
      "Iteration 23100 : Loss 2886.9045\n",
      "Iteration 23200 : Loss 2886.8967\n",
      "Iteration 23300 : Loss 2886.8888\n",
      "Iteration 23400 : Loss 2886.8810\n",
      "Iteration 23500 : Loss 2886.8732\n",
      "Iteration 23600 : Loss 2886.8654\n",
      "Iteration 23700 : Loss 2886.8576\n",
      "Iteration 23800 : Loss 2886.8498\n",
      "Iteration 23900 : Loss 2886.8421\n",
      "Iteration 24000 : Loss 2886.8343\n",
      "Iteration 24100 : Loss 2886.8266\n",
      "Iteration 24200 : Loss 2886.8189\n",
      "Iteration 24300 : Loss 2886.8112\n",
      "Iteration 24400 : Loss 2886.8035\n",
      "Iteration 24500 : Loss 2886.7958\n",
      "Iteration 24600 : Loss 2886.7881\n",
      "Iteration 24700 : Loss 2886.7805\n",
      "Iteration 24800 : Loss 2886.7728\n",
      "Iteration 24900 : Loss 2886.7652\n",
      "Iteration 25000 : Loss 2886.7576\n",
      "Iteration 25100 : Loss 2886.7500\n",
      "Iteration 25200 : Loss 2886.7424\n",
      "Iteration 25300 : Loss 2886.7348\n",
      "Iteration 25400 : Loss 2886.7272\n",
      "Iteration 25500 : Loss 2886.7197\n",
      "Iteration 25600 : Loss 2886.7121\n",
      "Iteration 25700 : Loss 2886.7046\n",
      "Iteration 25800 : Loss 2886.6971\n",
      "Iteration 25900 : Loss 2886.6895\n",
      "Iteration 26000 : Loss 2886.6820\n",
      "Iteration 26100 : Loss 2886.6745\n",
      "Iteration 26200 : Loss 2886.6671\n",
      "Iteration 26300 : Loss 2886.6596\n",
      "Iteration 26400 : Loss 2886.6521\n",
      "Iteration 26500 : Loss 2886.6447\n",
      "Iteration 26600 : Loss 2886.6372\n",
      "Iteration 26700 : Loss 2886.6298\n",
      "Iteration 26800 : Loss 2886.6224\n",
      "Iteration 26900 : Loss 2886.6150\n",
      "Iteration 27000 : Loss 2886.6076\n",
      "Iteration 27100 : Loss 2886.6002\n",
      "Iteration 27200 : Loss 2886.5928\n",
      "Iteration 27300 : Loss 2886.5854\n",
      "Iteration 27400 : Loss 2886.5781\n",
      "Iteration 27500 : Loss 2886.5707\n",
      "Iteration 27600 : Loss 2886.5634\n",
      "Iteration 27700 : Loss 2886.5560\n",
      "Iteration 27800 : Loss 2886.5487\n",
      "Iteration 27900 : Loss 2886.5414\n",
      "Iteration 28000 : Loss 2886.5341\n",
      "Iteration 28100 : Loss 2886.5268\n",
      "Iteration 28200 : Loss 2886.5195\n",
      "Iteration 28300 : Loss 2886.5123\n",
      "Iteration 28400 : Loss 2886.5050\n",
      "Iteration 28500 : Loss 2886.4977\n",
      "Iteration 28600 : Loss 2886.4905\n",
      "Iteration 28700 : Loss 2886.4833\n",
      "Iteration 28800 : Loss 2886.4760\n",
      "Iteration 28900 : Loss 2886.4688\n",
      "Iteration 29000 : Loss 2886.4616\n",
      "Iteration 29100 : Loss 2886.4544\n",
      "Iteration 29200 : Loss 2886.4472\n",
      "Iteration 29300 : Loss 2886.4400\n",
      "Iteration 29400 : Loss 2886.4328\n",
      "Iteration 29500 : Loss 2886.4257\n",
      "Iteration 29600 : Loss 2886.4185\n",
      "Iteration 29700 : Loss 2886.4114\n",
      "Iteration 29800 : Loss 2886.4042\n",
      "Iteration 29900 : Loss 2886.3971\n",
      "Iteration 30000 : Loss 2886.3900\n"
     ]
    }
   ],
   "source": [
    "losses = []\n",
    "\n",
    "for i in range(1, 30001):\n",
    "    dW, db = gradient(X_train, W, b, y_train)\n",
    "    W -= learning_rate * dW\n",
    "    b -= learning_rate * db\n",
    "    L = loss(X_train, W, b, y_train)\n",
    "    losses.append(L)\n",
    "    if i % 100 == 0:\n",
    "        print('Iteration %d : Loss %0.4f' % (i, L))"
   ]
  },
  {
   "cell_type": "code",
   "execution_count": 86,
   "id": "702ad434",
   "metadata": {},
   "outputs": [
    {
     "data": {
      "text/plain": [
       "(array([  10.77482453, -213.08889235,  514.04422601,  280.4446647 ,\n",
       "        -106.17650117, -131.17996969, -187.74607085,   89.18118761,\n",
       "         517.75908271,  106.90372167]),\n",
       " 151.44285435610604)"
      ]
     },
     "execution_count": 86,
     "metadata": {},
     "output_type": "execute_result"
    }
   ],
   "source": [
    "W, b"
   ]
  },
  {
   "cell_type": "code",
   "execution_count": 87,
   "id": "98db28bb",
   "metadata": {},
   "outputs": [
    {
     "data": {
      "text/plain": [
       "2916.407891831756"
      ]
     },
     "execution_count": 87,
     "metadata": {},
     "output_type": "execute_result"
    }
   ],
   "source": [
    "prediction = model(X_test, W, b)\n",
    "mse = loss(X_test, W, b, y_test)\n",
    "mse"
   ]
  },
  {
   "cell_type": "code",
   "execution_count": 90,
   "id": "4fe40a0c",
   "metadata": {},
   "outputs": [
    {
     "data": {
      "image/png": "[encoded data removed]",
      "text/plain": [
       "<Figure size 432x288 with 1 Axes>"
      ]
     },
     "metadata": {
      "needs_background": "light"
     },
     "output_type": "display_data"
    }
   ],
   "source": [
    "import matplotlib.pyplot as plt\n",
    "\n",
    "plt.scatter(X_test[:, 0], y_test, label='Y', color='b')\n",
    "plt.scatter(X_test[:, 0], prediction, label='Y_pred', color='r')\n",
    "plt.legend()\n",
    "plt.show()"
   ]
  },
  {
   "cell_type": "code",
   "execution_count": null,
   "id": "943acbd4",
   "metadata": {},
   "outputs": [],
   "source": []
  }
 ],
 "metadata": {
  "kernelspec": {
   "display_name": "Python 3 (ipykernel)",
   "language": "python",
   "name": "python3"
  },
  "language_info": {
   "codemirror_mode": {
    "name": "ipython",
    "version": 3
   },
   "file_extension": ".py",
   "mimetype": "text/x-python",
   "name": "python",
   "nbconvert_exporter": "python",
   "pygments_lexer": "ipython3",
   "version": "3.9.7"
  }
 },
 "nbformat": 4,
 "nbformat_minor": 5
}
