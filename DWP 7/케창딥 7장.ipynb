{
 "cells": [
  {
   "cell_type": "markdown",
   "id": "ffb1cb83",
   "metadata": {},
   "source": [
    "# 케라스 모델 만드는 방법"
   ]
  },
  {
   "cell_type": "markdown",
   "id": "f696a6c0",
   "metadata": {},
   "source": [
    "## Sequential 모델"
   ]
  },
  {
   "cell_type": "markdown",
   "id": "240cce2e",
   "metadata": {},
   "source": [
    "### 7-1"
   ]
  },
  {
   "cell_type": "code",
   "execution_count": 1,
   "id": "7ee68f5e",
   "metadata": {},
   "outputs": [],
   "source": [
    "from tensorflow import keras\n",
    "from tensorflow.keras import layers\n",
    "\n",
    "model = keras.Sequential([\n",
    "    layers.Dense(64, activation=\"relu\"),\n",
    "    layers.Dense(10, activation=\"softmax\")\n",
    "])"
   ]
  },
  {
   "cell_type": "markdown",
   "id": "520732bc",
   "metadata": {},
   "source": [
    "### 7-2"
   ]
  },
  {
   "cell_type": "code",
   "execution_count": 2,
   "id": "06739fa4",
   "metadata": {},
   "outputs": [],
   "source": [
    "model = keras.Sequential()\n",
    "model.add(layers.Dense(64, activation=\"relu\"))\n",
    "model.add(layers.Dense(10, activation=\"softmax\"))"
   ]
  },
  {
   "cell_type": "code",
   "execution_count": null,
   "id": "c1d25bcf",
   "metadata": {},
   "outputs": [],
   "source": [
    "# 여기서 summary()를 해봤는데 에러가 난다. build 메서드를 호출 하기 전에는 summary 메서드 호출이 불가"
   ]
  },
  {
   "cell_type": "markdown",
   "id": "51162234",
   "metadata": {},
   "source": [
    "### 7-4"
   ]
  },
  {
   "cell_type": "code",
   "execution_count": 3,
   "id": "e6f2c159",
   "metadata": {},
   "outputs": [
    {
     "data": {
      "text/plain": [
       "[<tf.Variable 'dense_2/kernel:0' shape=(3, 64) dtype=float32, numpy=\n",
       " array([[-1.68659121e-01, -2.62618035e-01, -3.80187035e-02,\n",
       "         -1.00591749e-01, -9.12773311e-02,  1.07885599e-01,\n",
       "          2.25728273e-01,  2.33989656e-01,  2.16289520e-01,\n",
       "         -2.02521324e-01,  7.38521516e-02,  3.69947851e-02,\n",
       "         -1.78001285e-01, -2.85656691e-01,  1.50426626e-01,\n",
       "          1.92107648e-01, -2.78663516e-01, -2.35535353e-01,\n",
       "          2.87260950e-01, -2.70334780e-02, -7.12394863e-02,\n",
       "          8.79868567e-02,  1.70439482e-04, -1.34636670e-01,\n",
       "         -1.84608832e-01,  7.22190142e-02,  6.01913929e-02,\n",
       "         -7.52626210e-02, -8.98910612e-02, -2.50555992e-01,\n",
       "          1.29148632e-01,  3.44344676e-02, -1.02616504e-01,\n",
       "          2.08188593e-01,  2.53718495e-01, -1.21733263e-01,\n",
       "          1.30847126e-01,  1.51616573e-01,  2.49947309e-01,\n",
       "         -6.12378567e-02,  1.98332369e-02,  1.00436509e-02,\n",
       "         -2.41808921e-01,  2.05249727e-01,  1.77079469e-01,\n",
       "         -1.48009032e-01, -4.46473658e-02,  9.23463702e-03,\n",
       "          7.29856491e-02,  2.64984310e-01, -1.43025905e-01,\n",
       "         -2.78320402e-01,  2.70948410e-01, -1.48866832e-01,\n",
       "          1.10316753e-01, -1.63075328e-02,  2.32423484e-01,\n",
       "         -1.70262575e-01,  2.88018525e-01, -1.39378697e-01,\n",
       "          2.16499448e-01, -2.38260671e-01,  1.77318335e-01,\n",
       "          1.85641050e-02],\n",
       "        [ 1.73572809e-01,  1.82752311e-01, -6.12573326e-02,\n",
       "          6.65685833e-02,  1.59140378e-01, -9.10138488e-02,\n",
       "         -1.08561397e-01,  2.52303064e-01, -3.59070301e-03,\n",
       "         -2.16022179e-01, -2.47828215e-01, -1.77141547e-01,\n",
       "         -5.59424460e-02,  1.45956874e-03,  5.67391813e-02,\n",
       "          4.57987189e-03, -1.97702229e-01,  2.29347169e-01,\n",
       "         -1.76460147e-02, -7.79078901e-02,  1.35970294e-01,\n",
       "         -4.16262448e-02, -2.11503103e-01, -2.29758486e-01,\n",
       "         -2.58074850e-01, -2.75342286e-01,  2.43084073e-01,\n",
       "         -1.22541785e-01,  2.25646615e-01,  6.21665716e-02,\n",
       "         -1.50066122e-01, -2.92963743e-01, -2.94059157e-01,\n",
       "          3.76416147e-02, -8.97749066e-02, -1.56075850e-01,\n",
       "         -2.33082563e-01, -8.24900419e-02,  2.90280104e-01,\n",
       "          4.27228212e-03, -1.26967534e-01, -2.88831294e-01,\n",
       "          7.82694817e-02, -1.04853541e-01,  1.68441355e-01,\n",
       "          2.88656056e-01,  2.04150677e-01,  1.34723216e-01,\n",
       "         -1.32126883e-01, -3.05024385e-02,  1.68979108e-01,\n",
       "          1.25161439e-01,  2.88709402e-02,  2.26429045e-01,\n",
       "         -6.15084767e-02,  1.33263439e-01, -9.34262425e-02,\n",
       "          1.97956949e-01,  1.17255777e-01,  2.30137527e-01,\n",
       "         -3.33258808e-02,  2.92196035e-01,  1.71765953e-01,\n",
       "         -3.51806283e-02],\n",
       "        [-1.32330358e-01, -1.18322298e-01, -2.05403835e-01,\n",
       "         -7.43365288e-02, -1.69056594e-01,  5.76128960e-02,\n",
       "         -2.03854233e-01, -2.83697844e-01,  1.51823342e-01,\n",
       "          1.41545087e-01,  1.00424945e-01,  6.57420158e-02,\n",
       "         -1.91732436e-01,  1.73783720e-01, -1.57776207e-01,\n",
       "          1.33465499e-01, -2.30723247e-01, -1.69887543e-02,\n",
       "          1.96906418e-01,  1.28329188e-01, -1.16589904e-01,\n",
       "         -5.01203537e-02,  1.84228480e-01, -1.76042438e-01,\n",
       "         -7.58817047e-02, -3.23236585e-02,  2.83295155e-01,\n",
       "          1.55220181e-01,  1.21058047e-01,  2.15931416e-01,\n",
       "          1.34992540e-01,  7.50246644e-03, -1.75907940e-01,\n",
       "         -2.90668488e-01,  2.66706765e-01, -2.38882393e-01,\n",
       "          1.83133006e-01, -6.30053431e-02,  7.55944550e-02,\n",
       "          2.54210830e-02, -2.19159335e-01, -1.20545626e-01,\n",
       "         -5.12453914e-03, -5.72251379e-02,  2.05332816e-01,\n",
       "          2.14371562e-01,  1.95849419e-01, -2.55975097e-01,\n",
       "         -1.38173699e-02, -2.26508826e-01, -2.64175981e-01,\n",
       "          1.55634791e-01,  1.36491209e-01,  8.16057026e-02,\n",
       "         -2.01053411e-01,  2.78490543e-01, -7.23442882e-02,\n",
       "         -1.33132443e-01, -2.02571541e-01,  2.20610440e-01,\n",
       "         -5.10782003e-03,  6.83946311e-02,  1.43325418e-01,\n",
       "         -1.32414192e-01]], dtype=float32)>,\n",
       " <tf.Variable 'dense_2/bias:0' shape=(64,) dtype=float32, numpy=\n",
       " array([0., 0., 0., 0., 0., 0., 0., 0., 0., 0., 0., 0., 0., 0., 0., 0., 0.,\n",
       "        0., 0., 0., 0., 0., 0., 0., 0., 0., 0., 0., 0., 0., 0., 0., 0., 0.,\n",
       "        0., 0., 0., 0., 0., 0., 0., 0., 0., 0., 0., 0., 0., 0., 0., 0., 0.,\n",
       "        0., 0., 0., 0., 0., 0., 0., 0., 0., 0., 0., 0., 0.], dtype=float32)>,\n",
       " <tf.Variable 'dense_3/kernel:0' shape=(64, 10) dtype=float32, numpy=\n",
       " array([[ 0.09367469,  0.16111413, -0.2386302 ,  0.17721361,  0.18411773,\n",
       "         -0.12797686, -0.20012061,  0.23534468, -0.2830467 ,  0.01661035],\n",
       "        [ 0.26266417,  0.269698  ,  0.23501739,  0.14687243, -0.09218168,\n",
       "          0.14571145,  0.05836362,  0.1853542 ,  0.22316876,  0.16042376],\n",
       "        [ 0.15536162,  0.18989101, -0.03023785,  0.19324711,  0.06226236,\n",
       "          0.00747791, -0.2770525 , -0.01484543, -0.05863117,  0.24126425],\n",
       "        [-0.0494303 , -0.27853182, -0.11405323,  0.110549  , -0.02190834,\n",
       "         -0.24772334, -0.27127635, -0.17422113,  0.28174052, -0.06165807],\n",
       "        [ 0.09421876, -0.04530495,  0.19780716, -0.07804133, -0.20110357,\n",
       "          0.27628866, -0.1621984 ,  0.24263725, -0.176439  ,  0.14543325],\n",
       "        [ 0.23792371,  0.00869849,  0.2389529 ,  0.17391157,  0.02596092,\n",
       "         -0.2705048 , -0.09625638, -0.19127189, -0.07905819, -0.23656991],\n",
       "        [ 0.06160215, -0.18849123, -0.11955407,  0.03658339, -0.09739114,\n",
       "          0.04527563, -0.15371993,  0.23365131,  0.03177181, -0.25757772],\n",
       "        [-0.1642716 , -0.00483826, -0.02801383, -0.19979373,  0.21880403,\n",
       "         -0.01588619,  0.12021476,  0.13223481, -0.23326229,  0.16927427],\n",
       "        [ 0.03955802,  0.13450357,  0.17629915,  0.23221305, -0.08635992,\n",
       "         -0.00523844, -0.24191849,  0.09744227, -0.16953436, -0.13579695],\n",
       "        [ 0.05864224, -0.26481673, -0.08574083,  0.22941783,  0.19158167,\n",
       "          0.2425678 , -0.03890926,  0.10049286,  0.2760243 ,  0.1965791 ],\n",
       "        [ 0.28255805,  0.1114797 ,  0.27522036,  0.00643051,  0.21810219,\n",
       "         -0.23431423,  0.26226524,  0.07327157, -0.03578588, -0.05968168],\n",
       "        [ 0.13517264,  0.09183517, -0.08937854,  0.11928213,  0.09932151,\n",
       "         -0.24965377,  0.16904202, -0.2624442 , -0.07157396,  0.24666622],\n",
       "        [-0.0038971 ,  0.24626753, -0.00821736, -0.16252086, -0.0646735 ,\n",
       "          0.2747816 ,  0.22737941,  0.24833998,  0.17399526,  0.06433296],\n",
       "        [-0.21069977,  0.07638267,  0.27892467, -0.22354926,  0.23721507,\n",
       "         -0.13114743, -0.19926432,  0.06369367,  0.15539998,  0.12068951],\n",
       "        [-0.17702685,  0.14328414, -0.20457584, -0.0675393 ,  0.13739076,\n",
       "         -0.05110608, -0.04170385,  0.11004987, -0.24099289, -0.19017941],\n",
       "        [ 0.2834665 ,  0.16033944,  0.09445351, -0.2619984 ,  0.27123562,\n",
       "         -0.0904668 ,  0.2500172 ,  0.01490253,  0.01410767,  0.01244447],\n",
       "        [-0.17729427, -0.01339886, -0.12636288,  0.27421805,  0.22439882,\n",
       "         -0.28284705,  0.25295565,  0.13833117,  0.21848431, -0.2025452 ],\n",
       "        [-0.22557318,  0.04525724,  0.05355999, -0.02444476, -0.26813146,\n",
       "         -0.04926439,  0.06381166,  0.16809162, -0.207221  , -0.04015292],\n",
       "        [-0.268117  , -0.05890253, -0.02222356,  0.254625  , -0.25685027,\n",
       "         -0.18745896,  0.00066143,  0.18795252,  0.02266788, -0.25106037],\n",
       "        [-0.15651037, -0.14117274, -0.18908286,  0.1979295 , -0.06353915,\n",
       "         -0.20703627, -0.26296872, -0.23120369,  0.20039386, -0.24342589],\n",
       "        [ 0.03208587,  0.04827362,  0.05886221, -0.06144279,  0.03143841,\n",
       "         -0.2131302 ,  0.02679148,  0.14506787, -0.05329666, -0.16120952],\n",
       "        [-0.28180453,  0.22983721,  0.25585195,  0.22110984,  0.26942334,\n",
       "          0.11528194,  0.19298533,  0.23218659,  0.25213805,  0.03158253],\n",
       "        [ 0.20148784, -0.00808892,  0.13164437, -0.06414708,  0.00831559,\n",
       "          0.20521888,  0.01550213,  0.250191  , -0.010122  ,  0.14813021],\n",
       "        [ 0.19126529,  0.08278638,  0.05265361,  0.18673092,  0.078197  ,\n",
       "         -0.13614331,  0.25788388, -0.2168279 ,  0.28155032,  0.20436803],\n",
       "        [-0.1435223 , -0.0884987 , -0.25435692, -0.0176191 , -0.06920856,\n",
       "         -0.05563305,  0.17618516,  0.21401247,  0.07767582,  0.11614761],\n",
       "        [ 0.16753325,  0.23005214, -0.23934549,  0.2618476 , -0.11411338,\n",
       "          0.15602368,  0.12506896, -0.05769974,  0.08927691,  0.18243238],\n",
       "        [-0.01937872, -0.02944905, -0.20135395, -0.02425635, -0.17837594,\n",
       "          0.01210049, -0.09808864, -0.05233636, -0.21687576, -0.08717994],\n",
       "        [-0.15483752,  0.1491817 , -0.14385734,  0.26082042,  0.20128465,\n",
       "          0.07700488,  0.23934993,  0.2548466 , -0.1593387 ,  0.20108497],\n",
       "        [ 0.2009367 ,  0.08074096,  0.22550264,  0.10950324,  0.2829717 ,\n",
       "          0.02330089,  0.18362567,  0.21149203,  0.21806672,  0.04946709],\n",
       "        [-0.23064944,  0.03581542, -0.02211913,  0.04776552, -0.03649384,\n",
       "          0.2625927 ,  0.2558261 , -0.02500176,  0.12789059,  0.01753893],\n",
       "        [-0.07906321, -0.1972335 ,  0.01302329, -0.15237926, -0.24053423,\n",
       "          0.10112146, -0.09910005, -0.20428458, -0.16833359,  0.13748053],\n",
       "        [-0.01584646, -0.09636371, -0.16264531,  0.16730621, -0.17289987,\n",
       "         -0.08216682, -0.1502011 , -0.11912291, -0.26713833,  0.10260698],\n",
       "        [ 0.13827476,  0.26252148,  0.10646066,  0.09660193,  0.04804495,\n",
       "         -0.25163695, -0.13367717,  0.27575788,  0.12952271,  0.14307138],\n",
       "        [ 0.2730135 ,  0.12334248,  0.256861  ,  0.21241179,  0.03775889,\n",
       "         -0.07121964, -0.14998074,  0.23499921,  0.19066522, -0.07471721],\n",
       "        [ 0.25809678, -0.08584525, -0.01345846,  0.06951672,  0.14605173,\n",
       "          0.23351154,  0.06386828,  0.13791224, -0.12410699, -0.10784023],\n",
       "        [-0.11146475,  0.27786097,  0.16813278,  0.11752352, -0.20712595,\n",
       "          0.2176666 ,  0.03881001, -0.10010155,  0.01732123, -0.00908858],\n",
       "        [-0.18498102,  0.02135676,  0.26541814, -0.05604894, -0.08700609,\n",
       "          0.25089934,  0.06356061, -0.19050902, -0.17092457,  0.08375338],\n",
       "        [ 0.11781055,  0.0667226 , -0.02703065, -0.22547597, -0.14640148,\n",
       "         -0.02028015,  0.2081762 , -0.04411235,  0.2688662 , -0.11691217],\n",
       "        [-0.24785288,  0.16536698, -0.02039129,  0.28464952,  0.23618856,\n",
       "         -0.20633912,  0.20517191, -0.18273646, -0.12666477,  0.1363104 ],\n",
       "        [ 0.25726852, -0.02476552,  0.26210698,  0.00148651,  0.05818135,\n",
       "          0.0409877 ,  0.07030612,  0.01964629, -0.05225387, -0.13839784],\n",
       "        [ 0.03893554,  0.26334956, -0.15176058, -0.224057  ,  0.18495488,\n",
       "         -0.07418883, -0.18402955,  0.20372653, -0.01959115,  0.11419839],\n",
       "        [-0.14313154,  0.16155025, -0.15468585,  0.2257441 ,  0.12591428,\n",
       "          0.01821953,  0.05380377,  0.04650164, -0.20217928, -0.2696652 ],\n",
       "        [ 0.14955893, -0.13367786, -0.22748324, -0.0163992 ,  0.08446255,\n",
       "         -0.08953075,  0.23339984,  0.11283481,  0.27138355,  0.26184472],\n",
       "        [ 0.17707783, -0.2186098 , -0.01126382, -0.09660798,  0.12573186,\n",
       "          0.16743481, -0.06584181,  0.02021545,  0.23983213,  0.13898039],\n",
       "        [ 0.07233921,  0.10231522, -0.15959851,  0.06661242,  0.17757982,\n",
       "          0.02789903, -0.12381832,  0.22241166, -0.06296304, -0.01638332],\n",
       "        [-0.04448709,  0.07580623, -0.2731234 , -0.09079804, -0.25101873,\n",
       "          0.03504434, -0.0668795 ,  0.22610721, -0.0228034 , -0.06916001],\n",
       "        [-0.11989753, -0.01578012,  0.18828672, -0.23806912, -0.01430157,\n",
       "         -0.02720511, -0.25821084, -0.15475258, -0.025866  , -0.04449938],\n",
       "        [ 0.25367042, -0.08966088, -0.17405719, -0.24118046, -0.13097484,\n",
       "          0.22663352, -0.1943256 ,  0.195817  , -0.19331819,  0.1604656 ],\n",
       "        [-0.05726796, -0.2543491 , -0.1794006 ,  0.19254282, -0.1936167 ,\n",
       "         -0.11356497,  0.12597135,  0.18446878,  0.04400989, -0.12485439],\n",
       "        [-0.2331925 , -0.0526405 , -0.00184277,  0.2546201 , -0.2827389 ,\n",
       "          0.21306461,  0.04694963,  0.26516154, -0.18832889,  0.22238436],\n",
       "        [ 0.17293397,  0.03517959,  0.16843605, -0.17132851, -0.27137786,\n",
       "         -0.24366961,  0.2195709 , -0.20166856, -0.05345219,  0.25245753],\n",
       "        [-0.25443873,  0.02284107, -0.2732129 , -0.06758723, -0.15271184,\n",
       "          0.21133175,  0.04630855, -0.20639092, -0.26577008, -0.14973415],\n",
       "        [-0.19340828, -0.14542238,  0.16735035,  0.1666435 ,  0.18875259,\n",
       "         -0.16096953, -0.05908047, -0.28200033, -0.07005778,  0.00552392],\n",
       "        [-0.06549694,  0.00183836,  0.12033242,  0.18014574,  0.1713    ,\n",
       "          0.07215577,  0.24248955,  0.07532978,  0.12143365, -0.21456558],\n",
       "        [ 0.20472085, -0.12686478, -0.15390174, -0.2162567 , -0.1970785 ,\n",
       "          0.03069177,  0.14116696, -0.12532899, -0.15589401,  0.20548066],\n",
       "        [-0.19927844,  0.16431692, -0.24955106, -0.14389455,  0.20754334,\n",
       "          0.05329081, -0.07834446, -0.25999713, -0.1869083 , -0.08074394],\n",
       "        [ 0.18624884, -0.24055962,  0.27834085,  0.25685993, -0.23939566,\n",
       "          0.16081378,  0.12801903, -0.09638958, -0.13770829, -0.17289609],\n",
       "        [-0.10844173,  0.21637055, -0.00104624,  0.05868337,  0.1770595 ,\n",
       "          0.05798352,  0.0376161 ,  0.10427257,  0.0211964 ,  0.17871967],\n",
       "        [-0.18094921,  0.2359964 , -0.11807159,  0.20015177, -0.2353608 ,\n",
       "          0.02063516,  0.05913919,  0.16723168, -0.04299238, -0.01349172],\n",
       "        [ 0.1715787 ,  0.18268079, -0.12358235,  0.1547418 ,  0.07833454,\n",
       "          0.00648749, -0.06373738,  0.12118402,  0.10595399,  0.03139123],\n",
       "        [-0.03692214,  0.2042256 ,  0.08850339,  0.05102882,  0.01530859,\n",
       "          0.26436988, -0.04178402, -0.04647686,  0.02887112,  0.10717627],\n",
       "        [-0.26675782,  0.12591869, -0.02993903,  0.16449842, -0.13439646,\n",
       "          0.07895315, -0.20380509,  0.2785652 , -0.09749964, -0.23867583],\n",
       "        [-0.17742997, -0.24291456, -0.09051676, -0.06428939, -0.23502849,\n",
       "         -0.22403814,  0.15814501, -0.21767442, -0.01620486,  0.23745778],\n",
       "        [ 0.21606389, -0.09141603,  0.05590856, -0.2752537 , -0.10133618,\n",
       "         -0.2069411 ,  0.06269285,  0.13213909, -0.01258385,  0.06868148]],\n",
       "       dtype=float32)>,\n",
       " <tf.Variable 'dense_3/bias:0' shape=(10,) dtype=float32, numpy=array([0., 0., 0., 0., 0., 0., 0., 0., 0., 0.], dtype=float32)>]"
      ]
     },
     "execution_count": 3,
     "metadata": {},
     "output_type": "execute_result"
    }
   ],
   "source": [
    "model.build(input_shape=(None, 3))\n",
    "model.weights"
   ]
  },
  {
   "cell_type": "markdown",
   "id": "444ba3cf",
   "metadata": {},
   "source": [
    "### 7-5"
   ]
  },
  {
   "cell_type": "code",
   "execution_count": 4,
   "id": "fe695f8b",
   "metadata": {},
   "outputs": [
    {
     "name": "stdout",
     "output_type": "stream",
     "text": [
      "Model: \"sequential_1\"\n",
      "_________________________________________________________________\n",
      "Layer (type)                 Output Shape              Param #   \n",
      "=================================================================\n",
      "dense_2 (Dense)              (None, 64)                256       \n",
      "_________________________________________________________________\n",
      "dense_3 (Dense)              (None, 10)                650       \n",
      "=================================================================\n",
      "Total params: 906\n",
      "Trainable params: 906\n",
      "Non-trainable params: 0\n",
      "_________________________________________________________________\n"
     ]
    }
   ],
   "source": [
    "model.summary()"
   ]
  },
  {
   "cell_type": "markdown",
   "id": "c4a6a631",
   "metadata": {},
   "source": [
    "### 7-6"
   ]
  },
  {
   "cell_type": "code",
   "execution_count": 5,
   "id": "816fe0ca",
   "metadata": {},
   "outputs": [
    {
     "name": "stdout",
     "output_type": "stream",
     "text": [
      "Model: \"내 모델\"\n",
      "_________________________________________________________________\n",
      "Layer (type)                 Output Shape              Param #   \n",
      "=================================================================\n",
      "1floor (Dense)               (None, 64)                256       \n",
      "_________________________________________________________________\n",
      "2floor (Dense)               (None, 10)                650       \n",
      "=================================================================\n",
      "Total params: 906\n",
      "Trainable params: 906\n",
      "Non-trainable params: 0\n",
      "_________________________________________________________________\n"
     ]
    }
   ],
   "source": [
    "model = keras.Sequential(name=\"내 모델\")\n",
    "model.add(layers.Dense(64, activation=\"relu\", name=\"1floor\"))\n",
    "model.add(layers.Dense(10, activation=\"softmax\", name=\"2floor\"))\n",
    "model.build((None, 3))\n",
    "model.summary()"
   ]
  },
  {
   "cell_type": "code",
   "execution_count": 8,
   "id": "bdd8e8bf",
   "metadata": {},
   "outputs": [],
   "source": [
    "# 모델 명에는 한글이 들어가도 되는데, add 메서드 안의 layer name으로는 한글이 못들어가는 듯 하다."
   ]
  },
  {
   "cell_type": "markdown",
   "id": "51b3b92b",
   "metadata": {},
   "source": [
    "### 7-7 "
   ]
  },
  {
   "cell_type": "code",
   "execution_count": 9,
   "id": "0273b8d9",
   "metadata": {},
   "outputs": [],
   "source": [
    "model = keras.Sequential()\n",
    "model.add(keras.Input(shape=(3,)))\n",
    "model.add(layers.Dense(64, activation=\"relu\"))"
   ]
  },
  {
   "cell_type": "code",
   "execution_count": 10,
   "id": "e6441bd1",
   "metadata": {},
   "outputs": [
    {
     "name": "stdout",
     "output_type": "stream",
     "text": [
      "Model: \"sequential_2\"\n",
      "_________________________________________________________________\n",
      "Layer (type)                 Output Shape              Param #   \n",
      "=================================================================\n",
      "dense_4 (Dense)              (None, 64)                256       \n",
      "=================================================================\n",
      "Total params: 256\n",
      "Trainable params: 256\n",
      "Non-trainable params: 0\n",
      "_________________________________________________________________\n"
     ]
    }
   ],
   "source": [
    "model.summary()\n"
   ]
  },
  {
   "cell_type": "code",
   "execution_count": 11,
   "id": "d1d5420a",
   "metadata": {},
   "outputs": [],
   "source": [
    "# input layer를 사용하면 summary를 바로 활용할 수 있다."
   ]
  },
  {
   "cell_type": "code",
   "execution_count": 12,
   "id": "fd49ce47",
   "metadata": {},
   "outputs": [
    {
     "name": "stdout",
     "output_type": "stream",
     "text": [
      "Model: \"sequential_2\"\n",
      "_________________________________________________________________\n",
      "Layer (type)                 Output Shape              Param #   \n",
      "=================================================================\n",
      "dense_4 (Dense)              (None, 64)                256       \n",
      "_________________________________________________________________\n",
      "dense_5 (Dense)              (None, 10)                650       \n",
      "=================================================================\n",
      "Total params: 906\n",
      "Trainable params: 906\n",
      "Non-trainable params: 0\n",
      "_________________________________________________________________\n"
     ]
    }
   ],
   "source": [
    "model.add(layers.Dense(10, activation=\"softmax\"))\n",
    "model.summary()"
   ]
  },
  {
   "cell_type": "markdown",
   "id": "55578dc9",
   "metadata": {},
   "source": [
    "## 함수형 API"
   ]
  },
  {
   "cell_type": "markdown",
   "id": "254356c5",
   "metadata": {},
   "source": [
    "### 7-8"
   ]
  },
  {
   "cell_type": "code",
   "execution_count": 13,
   "id": "d80b2563",
   "metadata": {},
   "outputs": [],
   "source": [
    "inputs = keras.Input(shape=(3,), name=\"my_input\")\n",
    "features = layers.Dense(64, activation=\"relu\")(inputs)\n",
    "outputs = layers.Dense(10, activation=\"softmax\")(features)\n",
    "model = keras.Model(inputs=inputs, outputs=outputs)"
   ]
  },
  {
   "cell_type": "code",
   "execution_count": 14,
   "id": "f8a919ed",
   "metadata": {},
   "outputs": [
    {
     "data": {
      "text/plain": [
       "TensorShape([None, 10])"
      ]
     },
     "execution_count": 14,
     "metadata": {},
     "output_type": "execute_result"
    }
   ],
   "source": [
    "outputs.shape"
   ]
  },
  {
   "cell_type": "code",
   "execution_count": 15,
   "id": "e0d48a4f",
   "metadata": {},
   "outputs": [
    {
     "name": "stdout",
     "output_type": "stream",
     "text": [
      "Model: \"model\"\n",
      "_________________________________________________________________\n",
      "Layer (type)                 Output Shape              Param #   \n",
      "=================================================================\n",
      "my_input (InputLayer)        [(None, 3)]               0         \n",
      "_________________________________________________________________\n",
      "dense_6 (Dense)              (None, 64)                256       \n",
      "_________________________________________________________________\n",
      "dense_7 (Dense)              (None, 10)                650       \n",
      "=================================================================\n",
      "Total params: 906\n",
      "Trainable params: 906\n",
      "Non-trainable params: 0\n",
      "_________________________________________________________________\n"
     ]
    }
   ],
   "source": [
    "model.summary()"
   ]
  },
  {
   "cell_type": "markdown",
   "id": "5affe88e",
   "metadata": {},
   "source": [
    "### 7-9"
   ]
  },
  {
   "cell_type": "code",
   "execution_count": 16,
   "id": "4a893ad0",
   "metadata": {},
   "outputs": [],
   "source": [
    "vocab = 10000\n",
    "num_tags = 100\n",
    "num_departm = 4 \n",
    "\n",
    "title = keras.Input(shape=(vocab,), name=\"title\")\n",
    "text_body = keras.Input(shape=(vocab,), name=\"text_body\")\n",
    "tags = keras.Input(shape=(num_tags,), name=\"tags\")\n",
    "\n",
    "features = layers.Concatenate()([title, text_body, tags])\n",
    "features = layers.Dense(64, activation=\"relu\")(features)\n",
    "\n",
    "priority = layers.Dense(1, activation=\"sigmoid\", name=\"priority\")(features)\n",
    "department = layers.Dense(\n",
    "    num_departm, activation=\"softmax\", name=\"department\")(features)\n",
    "\n",
    "model = keras.Model(inputs=[title, text_body, tags], outputs=[priority, department])\n",
    "\n"
   ]
  },
  {
   "cell_type": "markdown",
   "id": "ab2c6dd9",
   "metadata": {},
   "source": [
    "### 7-10"
   ]
  },
  {
   "cell_type": "code",
   "execution_count": 18,
   "id": "469d60d8",
   "metadata": {},
   "outputs": [
    {
     "name": "stdout",
     "output_type": "stream",
     "text": [
      "40/40 [==============================] - 2s 25ms/step - loss: 25.0045 - priority_loss: 0.3224 - department_loss: 24.6821 - priority_mean_absolute_error: 0.4922 - department_accuracy: 0.3070\n",
      "40/40 [==============================] - 1s 8ms/step - loss: 25.8758 - priority_loss: 0.3315 - department_loss: 25.5443 - priority_mean_absolute_error: 0.5007 - department_accuracy: 0.1258\n"
     ]
    }
   ],
   "source": [
    "import numpy as np\n",
    "\n",
    "num_samples = 1280\n",
    "\n",
    "title_data = np.random.randint(0, 2, size=(num_samples, vocab))\n",
    "text_body_data = np.random.randint(0, 2, size=(num_samples, vocab))\n",
    "tags_data = np.random.randint(0, 2, size=(num_samples, num_tags))\n",
    "\n",
    "priority_data = np.random.random(size=(num_samples, 1))\n",
    "department_data = np.random.randint(0, 2, size=(num_samples, num_departm))\n",
    "\n",
    "model.compile(optimizer=\"rmsprop\",\n",
    "              loss=[\"mean_squared_error\", \"categorical_crossentropy\"],\n",
    "              metrics=[[\"mean_absolute_error\"], [\"accuracy\"]])\n",
    "model.fit([title_data, text_body_data, tags_data],\n",
    "          [priority_data, department_data],\n",
    "          epochs=1)\n",
    "model.evaluate([title_data, text_body_data, tags_data],\n",
    "               [priority_data, department_data])\n",
    "priority_preds, department_preds = model.predict([title_data, text_body_data, tags_data])"
   ]
  },
  {
   "cell_type": "code",
   "execution_count": 19,
   "id": "7f044af1",
   "metadata": {},
   "outputs": [
    {
     "name": "stdout",
     "output_type": "stream",
     "text": [
      "40/40 [==============================] - 2s 23ms/step - loss: 32.8459 - priority_loss: 0.3315 - department_loss: 32.5144 - priority_mean_absolute_error: 0.5007 - department_accuracy: 0.2477\n",
      "40/40 [==============================] - 0s 7ms/step - loss: 43.3138 - priority_loss: 0.3315 - department_loss: 42.9823 - priority_mean_absolute_error: 0.5007 - department_accuracy: 0.0609\n"
     ]
    }
   ],
   "source": [
    "model.compile(optimizer=\"rmsprop\",\n",
    "              loss={\"priority\": \"mean_squared_error\", \"department\": \"categorical_crossentropy\"},\n",
    "              metrics={\"priority\": [\"mean_absolute_error\"], \"department\": [\"accuracy\"]})\n",
    "model.fit({\"text_body\": text_body_data, \"title\": title_data, \"tags\": tags_data},\n",
    "          {\"priority\": priority_data, \"department\": department_data},\n",
    "          epochs=1)\n",
    "model.evaluate({\"title\": title_data, \"tags\": tags_data, \"text_body\": text_body_data},\n",
    "               {\"priority\": priority_data, \"department\": department_data})\n",
    "priority_preds, department_preds = model.predict(\n",
    "    {\"text_body\": text_body_data, \"title\": title_data, \"tags\": tags_data})"
   ]
  },
  {
   "cell_type": "code",
   "execution_count": 20,
   "id": "5791f9bc",
   "metadata": {},
   "outputs": [],
   "source": [
    "# 입출력이 굉장히 많은 경우, 순서를 하나하나 지켜가면서 추가하기 어려우니까 쓰는 방법"
   ]
  },
  {
   "cell_type": "code",
   "execution_count": 21,
   "id": "9ec66c3c",
   "metadata": {},
   "outputs": [
    {
     "data": {
      "image/png": "[encoded data removed]",
      "text/plain": [
       "<IPython.core.display.Image object>"
      ]
     },
     "execution_count": 21,
     "metadata": {},
     "output_type": "execute_result"
    }
   ],
   "source": [
    "keras.utils.plot_model(model, \"ticket_classifier.png\")"
   ]
  },
  {
   "cell_type": "code",
   "execution_count": 22,
   "id": "89712a9c",
   "metadata": {},
   "outputs": [
    {
     "data": {
      "image/png": "[encoded data removed]",
      "text/plain": [
       "<IPython.core.display.Image object>"
      ]
     },
     "execution_count": 22,
     "metadata": {},
     "output_type": "execute_result"
    }
   ],
   "source": [
    "keras.utils.plot_model(model, \"ticket_classifier_with_shape_info.png\", show_shapes=True)"
   ]
  },
  {
   "cell_type": "code",
   "execution_count": 23,
   "id": "c22b2984",
   "metadata": {},
   "outputs": [
    {
     "data": {
      "text/plain": [
       "[<keras.engine.input_layer.InputLayer at 0x7eb1a43051c0>,\n",
       " <keras.engine.input_layer.InputLayer at 0x7eb1a4305220>,\n",
       " <keras.engine.input_layer.InputLayer at 0x7eb1a4305820>,\n",
       " <keras.layers.merge.Concatenate at 0x7eb1a42f5e20>,\n",
       " <keras.layers.core.Dense at 0x7eb1a42f5eb0>,\n",
       " <keras.layers.core.Dense at 0x7eb1a42f57f0>,\n",
       " <keras.layers.core.Dense at 0x7eb1a42ec250>]"
      ]
     },
     "execution_count": 23,
     "metadata": {},
     "output_type": "execute_result"
    }
   ],
   "source": [
    "model.layers"
   ]
  },
  {
   "cell_type": "code",
   "execution_count": 24,
   "id": "8ab2f0cb",
   "metadata": {},
   "outputs": [
    {
     "data": {
      "text/plain": [
       "<KerasTensor: shape=(None, 10000) dtype=float32 (created by layer 'title')>"
      ]
     },
     "execution_count": 24,
     "metadata": {},
     "output_type": "execute_result"
    }
   ],
   "source": [
    "model.layers[0].input"
   ]
  },
  {
   "cell_type": "code",
   "execution_count": 25,
   "id": "28d779eb",
   "metadata": {},
   "outputs": [
    {
     "data": {
      "text/plain": [
       "<KerasTensor: shape=(None, 64) dtype=float32 (created by layer 'dense_8')>"
      ]
     },
     "execution_count": 25,
     "metadata": {},
     "output_type": "execute_result"
    }
   ],
   "source": [
    "model.layers[4].output"
   ]
  },
  {
   "cell_type": "markdown",
   "id": "4c018e4d",
   "metadata": {},
   "source": [
    "### 7-13"
   ]
  },
  {
   "cell_type": "code",
   "execution_count": 27,
   "id": "979ef7b6",
   "metadata": {},
   "outputs": [],
   "source": [
    "features = model.layers[4].output\n",
    "difficulty = layers.Dense(3, activation=\"softmax\", name=\"difficulty\")(features)\n",
    "\n",
    "new_model = keras.Model(\n",
    "    inputs=[title, text_body, tags],\n",
    "    outputs=[priority, department, difficulty])"
   ]
  },
  {
   "cell_type": "code",
   "execution_count": 29,
   "id": "e2f62aa3",
   "metadata": {},
   "outputs": [
    {
     "data": {
      "image/png": "[encoded data removed]",
      "text/plain": [
       "<IPython.core.display.Image object>"
      ]
     },
     "execution_count": 29,
     "metadata": {},
     "output_type": "execute_result"
    }
   ],
   "source": [
    "keras.utils.plot_model(new_model, \"ticket_classifier_with_shape_info.png\", show_shapes=True)"
   ]
  },
  {
   "cell_type": "markdown",
   "id": "15451029",
   "metadata": {},
   "source": [
    "### 7-14"
   ]
  },
  {
   "cell_type": "code",
   "execution_count": 30,
   "id": "2f119860",
   "metadata": {},
   "outputs": [
    {
     "name": "stdout",
     "output_type": "stream",
     "text": [
      "40/40 [==============================] - 1s 20ms/step - loss: 28.8425 - output_1_loss: 0.3306 - output_2_loss: 28.5118 - output_1_mean_absolute_error: 0.4995 - output_2_accuracy: 0.2156\n",
      "40/40 [==============================] - 0s 7ms/step - loss: 17.0786 - output_1_loss: 0.3315 - output_2_loss: 16.7471 - output_1_mean_absolute_error: 0.5007 - output_2_accuracy: 0.1273\n"
     ]
    }
   ],
   "source": [
    "class CustomerTicketModel(keras.Model):   # keras.Model 클래스를 상속받음. keras.Model이 갖는 모든 속성과 메서드를 사용할 수 있게 된다.\n",
    "\n",
    "    def __init__(self, num_departments):\n",
    "        super().__init__()    # 상속받은 클래시의 init 초기화 method를 수행한다.\n",
    "        self.concat_layer = layers.Concatenate()\n",
    "        self.mixing_layer = layers.Dense(64, activation=\"relu\")\n",
    "        self.priority_scorer = layers.Dense(1, activation=\"sigmoid\")\n",
    "        self.department_classifier = layers.Dense(\n",
    "            num_departments, activation=\"softmax\")\n",
    "\n",
    "    def call(self, inputs):\n",
    "        title = inputs[\"title\"]\n",
    "        text_body = inputs[\"text_body\"]\n",
    "        tags = inputs[\"tags\"]\n",
    "\n",
    "        features = self.concat_layer([title, text_body, tags])\n",
    "        features = self.mixing_layer(features)\n",
    "        priority = self.priority_scorer(features)\n",
    "        department = self.department_classifier(features)\n",
    "        return priority, department  # forward passing\n",
    "    \n",
    "model = CustomerTicketModel(num_departments=4)\n",
    "\n",
    "priority, department = model(\n",
    "    {\"title\": title_data, \"text_body\": text_body_data, \"tags\": tags_data})\n",
    "\n",
    "\n",
    "model.compile(optimizer=\"rmsprop\",\n",
    "              loss=[\"mean_squared_error\", \"categorical_crossentropy\"],\n",
    "              metrics=[[\"mean_absolute_error\"], [\"accuracy\"]])\n",
    "model.fit({\"title\": title_data,\n",
    "           \"text_body\": text_body_data,\n",
    "           \"tags\": tags_data},\n",
    "          [priority_data, department_data],\n",
    "          epochs=1)\n",
    "model.evaluate({\"title\": title_data,\n",
    "                \"text_body\": text_body_data,\n",
    "                \"tags\": tags_data},\n",
    "               [priority_data, department_data])\n",
    "priority_preds, department_preds = model.predict({\"title\": title_data,\n",
    "                                                  \"text_body\": text_body_data,\n",
    "                                                  \"tags\": tags_data})"
   ]
  },
  {
   "cell_type": "markdown",
   "id": "1f3f1085",
   "metadata": {},
   "source": [
    "### 7-15"
   ]
  },
  {
   "cell_type": "code",
   "execution_count": 31,
   "id": "09fd4b3a",
   "metadata": {},
   "outputs": [],
   "source": [
    "class Classifier(keras.Model):\n",
    "\n",
    "    def __init__(self, num_classes=2):\n",
    "        super().__init__()\n",
    "        if num_classes == 2:\n",
    "            num_units = 1\n",
    "            activation = \"sigmoid\"\n",
    "        else:\n",
    "            num_units = num_classes\n",
    "            activation = \"softmax\"\n",
    "        self.dense = layers.Dense(num_units, activation=activation)   # 이진 분류와 다중 분류 구분\n",
    "\n",
    "    def call(self, inputs):\n",
    "        return self.dense(inputs)\n",
    "\n",
    "inputs = keras.Input(shape=(3,))\n",
    "features = layers.Dense(64, activation=\"relu\")(inputs)\n",
    "outputs = Classifier(num_classes=10)(features)   \n",
    "model = keras.Model(inputs=inputs, outputs=outputs)"
   ]
  },
  {
   "cell_type": "code",
   "execution_count": 32,
   "id": "e6617451",
   "metadata": {},
   "outputs": [],
   "source": [
    "inputs = keras.Input(shape=(64,))\n",
    "outputs = layers.Dense(1, activation=\"sigmoid\")(inputs)\n",
    "binary_classifier = keras.Model(inputs=inputs, outputs=outputs)\n",
    "\n",
    "class MyModel(keras.Model):\n",
    "\n",
    "    def __init__(self, num_classes=2):\n",
    "        super().__init__()\n",
    "        self.dense = layers.Dense(64, activation=\"relu\")\n",
    "        self.classifier = binary_classifier\n",
    "\n",
    "    def call(self, inputs):\n",
    "        features = self.dense(inputs)\n",
    "        return self.classifier(features)\n",
    "\n",
    "model = MyModel()"
   ]
  },
  {
   "cell_type": "markdown",
   "id": "be6ce7a8",
   "metadata": {},
   "source": [
    "### 7-17"
   ]
  },
  {
   "cell_type": "code",
   "execution_count": 33,
   "id": "3cd5151f",
   "metadata": {},
   "outputs": [
    {
     "name": "stdout",
     "output_type": "stream",
     "text": [
      "Downloading data from https://storage.googleapis.com/tensorflow/tf-keras-datasets/mnist.npz\n",
      "11493376/11490434 [==============================] - 0s 0us/step\n",
      "11501568/11490434 [==============================] - 0s 0us/step\n",
      "Epoch 1/3\n",
      "1563/1563 [==============================] - 10s 6ms/step - loss: 0.2951 - accuracy: 0.9123 - val_loss: 0.1593 - val_accuracy: 0.9544\n",
      "Epoch 2/3\n",
      "1563/1563 [==============================] - 9s 6ms/step - loss: 0.1666 - accuracy: 0.9539 - val_loss: 0.1276 - val_accuracy: 0.9652\n",
      "Epoch 3/3\n",
      "1563/1563 [==============================] - 9s 6ms/step - loss: 0.1396 - accuracy: 0.9613 - val_loss: 0.1185 - val_accuracy: 0.9696\n",
      "313/313 [==============================] - 1s 2ms/step - loss: 0.1066 - accuracy: 0.9727\n"
     ]
    }
   ],
   "source": [
    "from tensorflow.keras.datasets import mnist\n",
    "\n",
    "def get_mnist_model():\n",
    "    inputs = keras.Input(shape=(28 * 28,))\n",
    "    features = layers.Dense(512, activation=\"relu\")(inputs)\n",
    "    features = layers.Dropout(0.5)(features)\n",
    "    outputs = layers.Dense(10, activation=\"softmax\")(features)\n",
    "    model = keras.Model(inputs, outputs)\n",
    "    return model\n",
    "\n",
    "(images, labels), (test_images, test_labels) = mnist.load_data()\n",
    "images = images.reshape((60000, 28 * 28)).astype(\"float32\") / 255\n",
    "test_images = test_images.reshape((10000, 28 * 28)).astype(\"float32\") / 255\n",
    "train_images, val_images = images[10000:], images[:10000]\n",
    "train_labels, val_labels = labels[10000:], labels[:10000]\n",
    "\n",
    "model = get_mnist_model()\n",
    "model.compile(optimizer=\"rmsprop\",\n",
    "              loss=\"sparse_categorical_crossentropy\",\n",
    "              metrics=[\"accuracy\"])\n",
    "model.fit(train_images, train_labels,\n",
    "          epochs=3,\n",
    "          validation_data=(val_images, val_labels))\n",
    "test_metrics = model.evaluate(test_images, test_labels)\n",
    "predictions = model.predict(test_images)"
   ]
  },
  {
   "cell_type": "markdown",
   "id": "fffb915b",
   "metadata": {},
   "source": [
    "### 7-18"
   ]
  },
  {
   "cell_type": "code",
   "execution_count": 34,
   "id": "a4f82296",
   "metadata": {},
   "outputs": [],
   "source": [
    "import tensorflow as tf\n",
    "\n",
    "class RootMeanSquaredError(keras.metrics.Metric):\n",
    "\n",
    "    def __init__(self, name=\"rmse\", **kwargs):\n",
    "        super().__init__(name=name, **kwargs)\n",
    "        self.mse_sum = self.add_weight(name=\"mse_sum\", initializer=\"zeros\")\n",
    "        self.total_samples = self.add_weight(\n",
    "            name=\"total_samples\", initializer=\"zeros\", dtype=\"int32\")\n",
    "\n",
    "    def update_state(self, y_true, y_pred, sample_weight=None):\n",
    "        y_true = tf.one_hot(y_true, depth=tf.shape(y_pred)[1])\n",
    "        mse = tf.reduce_sum(tf.square(y_true - y_pred))\n",
    "        self.mse_sum.assign_add(mse)\n",
    "        num_samples = tf.shape(y_pred)[0]\n",
    "        self.total_samples.assign_add(num_samples)\n",
    "\n",
    "    def result(self):\n",
    "        return tf.sqrt(self.mse_sum / tf.cast(self.total_samples, tf.float32))\n",
    "\n",
    "    def reset_state(self):\n",
    "        self.mse_sum.assign(0.)\n",
    "        self.total_samples.assign(0)"
   ]
  },
  {
   "cell_type": "code",
   "execution_count": 35,
   "id": "1d541432",
   "metadata": {},
   "outputs": [
    {
     "name": "stdout",
     "output_type": "stream",
     "text": [
      "Epoch 1/3\n",
      "1563/1563 [==============================] - 10s 6ms/step - loss: 0.2928 - accuracy: 0.9143 - rmse: 7.1851 - val_loss: 0.1716 - val_accuracy: 0.9536 - val_rmse: 7.3413\n",
      "Epoch 2/3\n",
      "1563/1563 [==============================] - 9s 6ms/step - loss: 0.1667 - accuracy: 0.9523 - rmse: 7.3522 - val_loss: 0.1173 - val_accuracy: 0.9677 - val_rmse: 7.4053\n",
      "Epoch 3/3\n",
      "1563/1563 [==============================] - 9s 6ms/step - loss: 0.1368 - accuracy: 0.9627 - rmse: 7.3892 - val_loss: 0.1109 - val_accuracy: 0.9701 - val_rmse: 7.4208\n",
      "313/313 [==============================] - 1s 2ms/step - loss: 0.1053 - accuracy: 0.9717 - rmse: 7.4324\n"
     ]
    }
   ],
   "source": [
    "model = get_mnist_model()\n",
    "model.compile(optimizer=\"rmsprop\",\n",
    "              loss=\"sparse_categorical_crossentropy\",\n",
    "              metrics=[\"accuracy\", RootMeanSquaredError()])\n",
    "model.fit(train_images, train_labels,\n",
    "          epochs=3,\n",
    "          validation_data=(val_images, val_labels))\n",
    "test_metrics = model.evaluate(test_images, test_labels)"
   ]
  },
  {
   "cell_type": "markdown",
   "id": "97e81d36",
   "metadata": {},
   "source": []
  }
 ],
 "metadata": {
  "kernelspec": {
   "display_name": "Python 3 (ipykernel)",
   "language": "python",
   "name": "python3"
  },
  "language_info": {
   "codemirror_mode": {
    "name": "ipython",
    "version": 3
   },
   "file_extension": ".py",
   "mimetype": "text/x-python",
   "name": "python",
   "nbconvert_exporter": "python",
   "pygments_lexer": "ipython3",
   "version": "3.9.7"
  }
 },
 "nbformat": 4,
 "nbformat_minor": 5
}
