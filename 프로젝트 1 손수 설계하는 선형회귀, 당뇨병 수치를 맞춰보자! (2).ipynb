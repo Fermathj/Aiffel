{
 "cells": [
  {
   "cell_type": "code",
   "execution_count": 1,
   "id": "5fd968aa",
   "metadata": {},
   "outputs": [],
   "source": [
    "import numpy as np\n",
    "from sklearn.datasets import load_diabetes\n",
    "diabetes=load_diabetes()"
   ]
  },
  {
   "cell_type": "code",
   "execution_count": 2,
   "id": "ec708bd4",
   "metadata": {},
   "outputs": [
    {
     "name": "stdout",
     "output_type": "stream",
     "text": [
      "(442, 10)\n",
      "(442,)\n"
     ]
    }
   ],
   "source": [
    "df_X=diabetes.data\n",
    "df_y=diabetes.target\n",
    "\n",
    "print(df_X.shape)\n",
    "print(df_y.shape)"
   ]
  },
  {
   "cell_type": "code",
   "execution_count": 3,
   "id": "3a0be87a",
   "metadata": {},
   "outputs": [
    {
     "data": {
      "text/plain": [
       "array([ 0.03807591,  0.05068012,  0.06169621,  0.02187235, -0.0442235 ,\n",
       "       -0.03482076, -0.04340085, -0.00259226,  0.01990842, -0.01764613])"
      ]
     },
     "execution_count": 3,
     "metadata": {},
     "output_type": "execute_result"
    }
   ],
   "source": [
    "df_X[0]"
   ]
  },
  {
   "cell_type": "code",
   "execution_count": 4,
   "id": "bedd7879",
   "metadata": {},
   "outputs": [],
   "source": [
    "X = np.array(df_X)\n",
    "y = np.array(df_y)"
   ]
  },
  {
   "cell_type": "code",
   "execution_count": 5,
   "id": "f9c24e88",
   "metadata": {},
   "outputs": [],
   "source": [
    "from sklearn.model_selection import train_test_split"
   ]
  },
  {
   "cell_type": "code",
   "execution_count": 6,
   "id": "c9416308",
   "metadata": {},
   "outputs": [],
   "source": [
    "X_train, X_test, y_train, y_test = train_test_split(X, y, test_size=0.2, random_state=2020)"
   ]
  },
  {
   "cell_type": "code",
   "execution_count": 7,
   "id": "456be5c8",
   "metadata": {},
   "outputs": [],
   "source": [
    "W = np.random.rand(10)\n",
    "b = np.random.rand()\n",
    "\n",
    "def model(X, W, b):\n",
    "    return np.dot(X,W) + b\n"
   ]
  },
  {
   "cell_type": "code",
   "execution_count": 8,
   "id": "8fc3ea10",
   "metadata": {},
   "outputs": [],
   "source": [
    "def loss(X, W, b, y):\n",
    "    return np.mean((y-model(X, W, b))**2)"
   ]
  },
  {
   "cell_type": "code",
   "execution_count": 9,
   "id": "d694f120",
   "metadata": {},
   "outputs": [],
   "source": [
    "def gradient(X, W, b, y):\n",
    "    N = len(y)\n",
    "    \n",
    "    y_pred = model(X, W, b)\n",
    "    \n",
    "    dW = 1/N * 2 * X.T.dot(y_pred - y)\n",
    "    \n",
    "    db = 2 * (y_pred - y).mean()\n",
    "    return dW, db\n",
    "\n",
    "learning_rate = 0.1"
   ]
  },
  {
   "cell_type": "code",
   "execution_count": 10,
   "id": "9ba1d538",
   "metadata": {},
   "outputs": [
    {
     "name": "stdout",
     "output_type": "stream",
     "text": [
      "Iteration 100 : Loss 5315.2919\n",
      "Iteration 200 : Loss 4792.3158\n",
      "Iteration 300 : Loss 4412.9023\n",
      "Iteration 400 : Loss 4133.5254\n",
      "Iteration 500 : Loss 3924.3154\n",
      "Iteration 600 : Loss 3764.7253\n",
      "Iteration 700 : Loss 3640.5776\n",
      "Iteration 800 : Loss 3542.0516\n",
      "Iteration 900 : Loss 3462.3105\n",
      "Iteration 1000 : Loss 3396.5646\n",
      "Iteration 1100 : Loss 3341.4323\n",
      "Iteration 1200 : Loss 3294.5031\n",
      "Iteration 1300 : Loss 3254.0392\n",
      "Iteration 1400 : Loss 3218.7704\n",
      "Iteration 1500 : Loss 3187.7540\n",
      "Iteration 1600 : Loss 3160.2781\n",
      "Iteration 1700 : Loss 3135.7955\n",
      "Iteration 1800 : Loss 3113.8770\n",
      "Iteration 1900 : Loss 3094.1798\n",
      "Iteration 2000 : Loss 3076.4249\n",
      "Iteration 2100 : Loss 3060.3813\n",
      "Iteration 2200 : Loss 3045.8549\n",
      "Iteration 2300 : Loss 3032.6801\n",
      "Iteration 2400 : Loss 3020.7144\n",
      "Iteration 2500 : Loss 3009.8337\n",
      "Iteration 2600 : Loss 2999.9292\n",
      "Iteration 2700 : Loss 2990.9049\n",
      "Iteration 2800 : Loss 2982.6754\n",
      "Iteration 2900 : Loss 2975.1649\n",
      "Iteration 3000 : Loss 2968.3055\n",
      "Iteration 3100 : Loss 2962.0363\n",
      "Iteration 3200 : Loss 2956.3026\n",
      "Iteration 3300 : Loss 2951.0553\n",
      "Iteration 3400 : Loss 2946.2500\n",
      "Iteration 3500 : Loss 2941.8466\n",
      "Iteration 3600 : Loss 2937.8091\n",
      "Iteration 3700 : Loss 2934.1047\n",
      "Iteration 3800 : Loss 2930.7039\n",
      "Iteration 3900 : Loss 2927.5798\n",
      "Iteration 4000 : Loss 2924.7083\n",
      "Iteration 4100 : Loss 2922.0672\n",
      "Iteration 4200 : Loss 2919.6365\n",
      "Iteration 4300 : Loss 2917.3983\n",
      "Iteration 4400 : Loss 2915.3359\n",
      "Iteration 4500 : Loss 2913.4343\n",
      "Iteration 4600 : Loss 2911.6801\n",
      "Iteration 4700 : Loss 2910.0607\n",
      "Iteration 4800 : Loss 2908.5649\n",
      "Iteration 4900 : Loss 2907.1824\n",
      "Iteration 5000 : Loss 2905.9038\n",
      "Iteration 5100 : Loss 2904.7206\n",
      "Iteration 5200 : Loss 2903.6250\n",
      "Iteration 5300 : Loss 2902.6098\n",
      "Iteration 5400 : Loss 2901.6687\n",
      "Iteration 5500 : Loss 2900.7956\n",
      "Iteration 5600 : Loss 2899.9852\n",
      "Iteration 5700 : Loss 2899.2324\n",
      "Iteration 5800 : Loss 2898.5328\n",
      "Iteration 5900 : Loss 2897.8821\n",
      "Iteration 6000 : Loss 2897.2766\n",
      "Iteration 6100 : Loss 2896.7128\n",
      "Iteration 6200 : Loss 2896.1875\n",
      "Iteration 6300 : Loss 2895.6977\n",
      "Iteration 6400 : Loss 2895.2408\n",
      "Iteration 6500 : Loss 2894.8143\n",
      "Iteration 6600 : Loss 2894.4159\n",
      "Iteration 6700 : Loss 2894.0435\n",
      "Iteration 6800 : Loss 2893.6953\n",
      "Iteration 6900 : Loss 2893.3694\n",
      "Iteration 7000 : Loss 2893.0642\n",
      "Iteration 7100 : Loss 2892.7783\n",
      "Iteration 7200 : Loss 2892.5101\n",
      "Iteration 7300 : Loss 2892.2586\n",
      "Iteration 7400 : Loss 2892.0225\n",
      "Iteration 7500 : Loss 2891.8007\n",
      "Iteration 7600 : Loss 2891.5922\n",
      "Iteration 7700 : Loss 2891.3961\n",
      "Iteration 7800 : Loss 2891.2115\n",
      "Iteration 7900 : Loss 2891.0377\n",
      "Iteration 8000 : Loss 2890.8740\n",
      "Iteration 8100 : Loss 2890.7196\n",
      "Iteration 8200 : Loss 2890.5739\n",
      "Iteration 8300 : Loss 2890.4363\n",
      "Iteration 8400 : Loss 2890.3064\n",
      "Iteration 8500 : Loss 2890.1835\n",
      "Iteration 8600 : Loss 2890.0674\n",
      "Iteration 8700 : Loss 2889.9574\n",
      "Iteration 8800 : Loss 2889.8533\n",
      "Iteration 8900 : Loss 2889.7546\n",
      "Iteration 9000 : Loss 2889.6610\n",
      "Iteration 9100 : Loss 2889.5722\n",
      "Iteration 9200 : Loss 2889.4879\n",
      "Iteration 9300 : Loss 2889.4077\n",
      "Iteration 9400 : Loss 2889.3316\n",
      "Iteration 9500 : Loss 2889.2591\n",
      "Iteration 9600 : Loss 2889.1902\n",
      "Iteration 9700 : Loss 2889.1245\n",
      "Iteration 9800 : Loss 2889.0618\n",
      "Iteration 9900 : Loss 2889.0021\n",
      "Iteration 10000 : Loss 2888.9451\n",
      "Iteration 10100 : Loss 2888.8907\n",
      "Iteration 10200 : Loss 2888.8386\n",
      "Iteration 10300 : Loss 2888.7889\n",
      "Iteration 10400 : Loss 2888.7413\n",
      "Iteration 10500 : Loss 2888.6957\n",
      "Iteration 10600 : Loss 2888.6520\n",
      "Iteration 10700 : Loss 2888.6102\n",
      "Iteration 10800 : Loss 2888.5700\n",
      "Iteration 10900 : Loss 2888.5314\n",
      "Iteration 11000 : Loss 2888.4944\n",
      "Iteration 11100 : Loss 2888.4588\n",
      "Iteration 11200 : Loss 2888.4245\n",
      "Iteration 11300 : Loss 2888.3915\n",
      "Iteration 11400 : Loss 2888.3597\n",
      "Iteration 11500 : Loss 2888.3291\n",
      "Iteration 11600 : Loss 2888.2996\n",
      "Iteration 11700 : Loss 2888.2710\n",
      "Iteration 11800 : Loss 2888.2435\n",
      "Iteration 11900 : Loss 2888.2169\n",
      "Iteration 12000 : Loss 2888.1911\n",
      "Iteration 12100 : Loss 2888.1662\n",
      "Iteration 12200 : Loss 2888.1421\n",
      "Iteration 12300 : Loss 2888.1187\n",
      "Iteration 12400 : Loss 2888.0960\n",
      "Iteration 12500 : Loss 2888.0740\n",
      "Iteration 12600 : Loss 2888.0526\n",
      "Iteration 12700 : Loss 2888.0319\n",
      "Iteration 12800 : Loss 2888.0117\n",
      "Iteration 12900 : Loss 2887.9920\n",
      "Iteration 13000 : Loss 2887.9729\n",
      "Iteration 13100 : Loss 2887.9543\n",
      "Iteration 13200 : Loss 2887.9361\n",
      "Iteration 13300 : Loss 2887.9184\n",
      "Iteration 13400 : Loss 2887.9012\n",
      "Iteration 13500 : Loss 2887.8843\n",
      "Iteration 13600 : Loss 2887.8678\n",
      "Iteration 13700 : Loss 2887.8517\n",
      "Iteration 13800 : Loss 2887.8359\n",
      "Iteration 13900 : Loss 2887.8204\n",
      "Iteration 14000 : Loss 2887.8053\n",
      "Iteration 14100 : Loss 2887.7905\n",
      "Iteration 14200 : Loss 2887.7760\n",
      "Iteration 14300 : Loss 2887.7617\n",
      "Iteration 14400 : Loss 2887.7477\n",
      "Iteration 14500 : Loss 2887.7340\n",
      "Iteration 14600 : Loss 2887.7205\n",
      "Iteration 14700 : Loss 2887.7072\n",
      "Iteration 14800 : Loss 2887.6941\n",
      "Iteration 14900 : Loss 2887.6813\n",
      "Iteration 15000 : Loss 2887.6686\n",
      "Iteration 15100 : Loss 2887.6562\n",
      "Iteration 15200 : Loss 2887.6439\n",
      "Iteration 15300 : Loss 2887.6318\n",
      "Iteration 15400 : Loss 2887.6199\n",
      "Iteration 15500 : Loss 2887.6081\n",
      "Iteration 15600 : Loss 2887.5965\n",
      "Iteration 15700 : Loss 2887.5850\n",
      "Iteration 15800 : Loss 2887.5736\n",
      "Iteration 15900 : Loss 2887.5624\n",
      "Iteration 16000 : Loss 2887.5513\n",
      "Iteration 16100 : Loss 2887.5404\n",
      "Iteration 16200 : Loss 2887.5296\n",
      "Iteration 16300 : Loss 2887.5188\n",
      "Iteration 16400 : Loss 2887.5082\n",
      "Iteration 16500 : Loss 2887.4977\n",
      "Iteration 16600 : Loss 2887.4873\n",
      "Iteration 16700 : Loss 2887.4770\n",
      "Iteration 16800 : Loss 2887.4667\n",
      "Iteration 16900 : Loss 2887.4566\n",
      "Iteration 17000 : Loss 2887.4465\n",
      "Iteration 17100 : Loss 2887.4366\n",
      "Iteration 17200 : Loss 2887.4267\n",
      "Iteration 17300 : Loss 2887.4168\n",
      "Iteration 17400 : Loss 2887.4071\n",
      "Iteration 17500 : Loss 2887.3974\n",
      "Iteration 17600 : Loss 2887.3878\n",
      "Iteration 17700 : Loss 2887.3783\n",
      "Iteration 17800 : Loss 2887.3688\n",
      "Iteration 17900 : Loss 2887.3593\n",
      "Iteration 18000 : Loss 2887.3500\n",
      "Iteration 18100 : Loss 2887.3407\n",
      "Iteration 18200 : Loss 2887.3314\n",
      "Iteration 18300 : Loss 2887.3222\n",
      "Iteration 18400 : Loss 2887.3130\n",
      "Iteration 18500 : Loss 2887.3039\n",
      "Iteration 18600 : Loss 2887.2949\n",
      "Iteration 18700 : Loss 2887.2858\n",
      "Iteration 18800 : Loss 2887.2769\n",
      "Iteration 18900 : Loss 2887.2679\n",
      "Iteration 19000 : Loss 2887.2591\n",
      "Iteration 19100 : Loss 2887.2502\n",
      "Iteration 19200 : Loss 2887.2414\n",
      "Iteration 19300 : Loss 2887.2326\n",
      "Iteration 19400 : Loss 2887.2239\n",
      "Iteration 19500 : Loss 2887.2152\n",
      "Iteration 19600 : Loss 2887.2065\n",
      "Iteration 19700 : Loss 2887.1979\n",
      "Iteration 19800 : Loss 2887.1892\n",
      "Iteration 19900 : Loss 2887.1807\n",
      "Iteration 20000 : Loss 2887.1721\n",
      "Iteration 20100 : Loss 2887.1636\n",
      "Iteration 20200 : Loss 2887.1551\n",
      "Iteration 20300 : Loss 2887.1467\n",
      "Iteration 20400 : Loss 2887.1382\n",
      "Iteration 20500 : Loss 2887.1298\n",
      "Iteration 20600 : Loss 2887.1214\n",
      "Iteration 20700 : Loss 2887.1131\n",
      "Iteration 20800 : Loss 2887.1047\n",
      "Iteration 20900 : Loss 2887.0964\n",
      "Iteration 21000 : Loss 2887.0882\n",
      "Iteration 21100 : Loss 2887.0799\n",
      "Iteration 21200 : Loss 2887.0716\n",
      "Iteration 21300 : Loss 2887.0634\n",
      "Iteration 21400 : Loss 2887.0552\n",
      "Iteration 21500 : Loss 2887.0470\n",
      "Iteration 21600 : Loss 2887.0389\n",
      "Iteration 21700 : Loss 2887.0308\n",
      "Iteration 21800 : Loss 2887.0226\n",
      "Iteration 21900 : Loss 2887.0145\n",
      "Iteration 22000 : Loss 2887.0065\n",
      "Iteration 22100 : Loss 2886.9984\n",
      "Iteration 22200 : Loss 2886.9903\n",
      "Iteration 22300 : Loss 2886.9823\n",
      "Iteration 22400 : Loss 2886.9743\n",
      "Iteration 22500 : Loss 2886.9663\n",
      "Iteration 22600 : Loss 2886.9583\n",
      "Iteration 22700 : Loss 2886.9504\n",
      "Iteration 22800 : Loss 2886.9424\n",
      "Iteration 22900 : Loss 2886.9345\n",
      "Iteration 23000 : Loss 2886.9266\n",
      "Iteration 23100 : Loss 2886.9187\n",
      "Iteration 23200 : Loss 2886.9108\n",
      "Iteration 23300 : Loss 2886.9029\n",
      "Iteration 23400 : Loss 2886.8951\n",
      "Iteration 23500 : Loss 2886.8873\n",
      "Iteration 23600 : Loss 2886.8794\n",
      "Iteration 23700 : Loss 2886.8716\n",
      "Iteration 23800 : Loss 2886.8638\n",
      "Iteration 23900 : Loss 2886.8560\n",
      "Iteration 24000 : Loss 2886.8483\n",
      "Iteration 24100 : Loss 2886.8405\n",
      "Iteration 24200 : Loss 2886.8328\n",
      "Iteration 24300 : Loss 2886.8250\n",
      "Iteration 24400 : Loss 2886.8173\n",
      "Iteration 24500 : Loss 2886.8096\n",
      "Iteration 24600 : Loss 2886.8019\n",
      "Iteration 24700 : Loss 2886.7943\n",
      "Iteration 24800 : Loss 2886.7866\n",
      "Iteration 24900 : Loss 2886.7789\n",
      "Iteration 25000 : Loss 2886.7713\n",
      "Iteration 25100 : Loss 2886.7637\n",
      "Iteration 25200 : Loss 2886.7560\n",
      "Iteration 25300 : Loss 2886.7484\n",
      "Iteration 25400 : Loss 2886.7408\n",
      "Iteration 25500 : Loss 2886.7333\n",
      "Iteration 25600 : Loss 2886.7257\n",
      "Iteration 25700 : Loss 2886.7181\n",
      "Iteration 25800 : Loss 2886.7106\n",
      "Iteration 25900 : Loss 2886.7030\n",
      "Iteration 26000 : Loss 2886.6955\n",
      "Iteration 26100 : Loss 2886.6880\n",
      "Iteration 26200 : Loss 2886.6805\n",
      "Iteration 26300 : Loss 2886.6730\n",
      "Iteration 26400 : Loss 2886.6655\n",
      "Iteration 26500 : Loss 2886.6580\n",
      "Iteration 26600 : Loss 2886.6506\n",
      "Iteration 26700 : Loss 2886.6431\n",
      "Iteration 26800 : Loss 2886.6357\n",
      "Iteration 26900 : Loss 2886.6282\n",
      "Iteration 27000 : Loss 2886.6208\n",
      "Iteration 27100 : Loss 2886.6134\n",
      "Iteration 27200 : Loss 2886.6060\n",
      "Iteration 27300 : Loss 2886.5986\n",
      "Iteration 27400 : Loss 2886.5912\n",
      "Iteration 27500 : Loss 2886.5839\n",
      "Iteration 27600 : Loss 2886.5765\n",
      "Iteration 27700 : Loss 2886.5692\n",
      "Iteration 27800 : Loss 2886.5618\n",
      "Iteration 27900 : Loss 2886.5545\n",
      "Iteration 28000 : Loss 2886.5472\n",
      "Iteration 28100 : Loss 2886.5398\n",
      "Iteration 28200 : Loss 2886.5325\n",
      "Iteration 28300 : Loss 2886.5252\n",
      "Iteration 28400 : Loss 2886.5180\n",
      "Iteration 28500 : Loss 2886.5107\n",
      "Iteration 28600 : Loss 2886.5034\n",
      "Iteration 28700 : Loss 2886.4962\n",
      "Iteration 28800 : Loss 2886.4889\n",
      "Iteration 28900 : Loss 2886.4817\n",
      "Iteration 29000 : Loss 2886.4744\n",
      "Iteration 29100 : Loss 2886.4672\n",
      "Iteration 29200 : Loss 2886.4600\n",
      "Iteration 29300 : Loss 2886.4528\n",
      "Iteration 29400 : Loss 2886.4456\n",
      "Iteration 29500 : Loss 2886.4384\n",
      "Iteration 29600 : Loss 2886.4312\n",
      "Iteration 29700 : Loss 2886.4241\n",
      "Iteration 29800 : Loss 2886.4169\n",
      "Iteration 29900 : Loss 2886.4098\n",
      "Iteration 30000 : Loss 2886.4026\n"
     ]
    }
   ],
   "source": [
    "losses = []\n",
    "\n",
    "for i in range(1, 30001):\n",
    "    dW, db = gradient(X_train, W, b, y_train)\n",
    "    W -= learning_rate * dW\n",
    "    b -= learning_rate * db\n",
    "    L = loss(X_train, W, b, y_train)\n",
    "    losses.append(L)\n",
    "    if i % 100 == 0:\n",
    "        print('Iteration %d : Loss %0.4f' % (i, L))"
   ]
  },
  {
   "cell_type": "code",
   "execution_count": 11,
   "id": "68f23d55",
   "metadata": {},
   "outputs": [
    {
     "data": {
      "text/plain": [
       "(array([  10.77796732, -213.0902366 ,  514.0571747 ,  280.44996322,\n",
       "        -105.88384483, -131.50248043, -187.77662666,   89.31518637,\n",
       "         517.6026463 ,  106.90642751]),\n",
       " 151.44271140356972)"
      ]
     },
     "execution_count": 11,
     "metadata": {},
     "output_type": "execute_result"
    }
   ],
   "source": [
    "W, b"
   ]
  },
  {
   "cell_type": "code",
   "execution_count": 12,
   "id": "de0f95b4",
   "metadata": {},
   "outputs": [
    {
     "data": {
      "text/plain": [
       "2916.45315637462"
      ]
     },
     "execution_count": 12,
     "metadata": {},
     "output_type": "execute_result"
    }
   ],
   "source": [
    "prediction = model(X_test, W, b)\n",
    "mse = loss(X_test, W, b, y_test)\n",
    "mse"
   ]
  },
  {
   "cell_type": "code",
   "execution_count": 13,
   "id": "26779511",
   "metadata": {},
   "outputs": [
    {
     "data": {
      "image/png": "[encoded data removed]",
      "text/plain": [
       "<Figure size 432x288 with 1 Axes>"
      ]
     },
     "metadata": {
      "needs_background": "light"
     },
     "output_type": "display_data"
    }
   ],
   "source": [
    "import matplotlib.pyplot as plt\n",
    "\n",
    "plt.scatter(X_test[:, 0], y_test, label='Y', color='b')\n",
    "plt.scatter(X_test[:, 0], prediction, label='Y_pred', color='r')\n",
    "plt.legend()\n",
    "plt.show()"
   ]
  },
  {
   "cell_type": "code",
   "execution_count": 14,
   "id": "2bc2b9f2",
   "metadata": {},
   "outputs": [],
   "source": [
    "# learning rate 바꿔가면서 loss 변화 양상 확인하기\n",
    "\n",
    "lr_list = [\n",
    "    0.001,\n",
    "    0.01,\n",
    "    0.1,\n",
    "    0.5,\n",
    "    1.,\n",
    "]\n",
    "lr_losses = {lr:[] for lr in lr_list}\n",
    "\n",
    "W_rand = np.random.rand(10)\n",
    "b_rand = np.random.rand(1)\n",
    "\n",
    "for lr in lr_list:\n",
    "    W = W_rand.copy()\n",
    "    b = b_rand.copy()\n",
    "    learning_rate = lr\n",
    "    \n",
    "    for i in range(5000):\n",
    "        y_pred = model(X_train, W, b)\n",
    "        losses = loss(X_train, W, b, y_train)\n",
    "        lr_losses[lr].append(losses)\n",
    "        \n",
    "        dW, db = gradient(X_train, W, b, y_train)\n",
    "        W -= learning_rate * dW\n",
    "        b -= learning_rate * db"
   ]
  },
  {
   "cell_type": "code",
   "execution_count": 15,
   "id": "c2ece0f9",
   "metadata": {},
   "outputs": [
    {
     "data": {
      "text/plain": [
       "<matplotlib.legend.Legend at 0x79fd1674bb50>"
      ]
     },
     "execution_count": 15,
     "metadata": {},
     "output_type": "execute_result"
    },
    {
     "data": {
      "image/png": "[encoded data removed]",
      "text/plain": [
       "<Figure size 432x288 with 1 Axes>"
      ]
     },
     "metadata": {
      "needs_background": "light"
     },
     "output_type": "display_data"
    }
   ],
   "source": [
    "for lr in lr_list:\n",
    "    plt.plot(lr_losses[lr], label=f\"lr: {lr}\")\n",
    "plt.legend()"
   ]
  },
  {
   "cell_type": "code",
   "execution_count": null,
   "id": "6f6c018e",
   "metadata": {},
   "outputs": [],
   "source": []
  }
 ],
 "metadata": {
  "kernelspec": {
   "display_name": "Python 3 (ipykernel)",
   "language": "python",
   "name": "python3"
  },
  "language_info": {
   "codemirror_mode": {
    "name": "ipython",
    "version": 3
   },
   "file_extension": ".py",
   "mimetype": "text/x-python",
   "name": "python",
   "nbconvert_exporter": "python",
   "pygments_lexer": "ipython3",
   "version": "3.9.7"
  }
 },
 "nbformat": 4,
 "nbformat_minor": 5
}
