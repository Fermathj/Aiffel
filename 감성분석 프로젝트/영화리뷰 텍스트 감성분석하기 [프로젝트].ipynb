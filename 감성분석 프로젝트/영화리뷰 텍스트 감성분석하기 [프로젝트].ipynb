{
 "cells": [
  {
   "cell_type": "code",
   "execution_count": 9,
   "id": "3d47262d",
   "metadata": {},
   "outputs": [
    {
     "data": {
      "text/html": [
       "<div>\n",
       "<style scoped>\n",
       "    .dataframe tbody tr th:only-of-type {\n",
       "        vertical-align: middle;\n",
       "    }\n",
       "\n",
       "    .dataframe tbody tr th {\n",
       "        vertical-align: top;\n",
       "    }\n",
       "\n",
       "    .dataframe thead th {\n",
       "        text-align: right;\n",
       "    }\n",
       "</style>\n",
       "<table border=\"1\" class=\"dataframe\">\n",
       "  <thead>\n",
       "    <tr style=\"text-align: right;\">\n",
       "      <th></th>\n",
       "      <th>id</th>\n",
       "      <th>document</th>\n",
       "      <th>label</th>\n",
       "    </tr>\n",
       "  </thead>\n",
       "  <tbody>\n",
       "    <tr>\n",
       "      <th>0</th>\n",
       "      <td>9976970</td>\n",
       "      <td>아 더빙.. 진짜 짜증나네요 목소리</td>\n",
       "      <td>0</td>\n",
       "    </tr>\n",
       "    <tr>\n",
       "      <th>1</th>\n",
       "      <td>3819312</td>\n",
       "      <td>흠...포스터보고 초딩영화줄....오버연기조차 가볍지 않구나</td>\n",
       "      <td>1</td>\n",
       "    </tr>\n",
       "    <tr>\n",
       "      <th>2</th>\n",
       "      <td>10265843</td>\n",
       "      <td>너무재밓었다그래서보는것을추천한다</td>\n",
       "      <td>0</td>\n",
       "    </tr>\n",
       "    <tr>\n",
       "      <th>3</th>\n",
       "      <td>9045019</td>\n",
       "      <td>교도소 이야기구먼 ..솔직히 재미는 없다..평점 조정</td>\n",
       "      <td>0</td>\n",
       "    </tr>\n",
       "    <tr>\n",
       "      <th>4</th>\n",
       "      <td>6483659</td>\n",
       "      <td>사이몬페그의 익살스런 연기가 돋보였던 영화!스파이더맨에서 늙어보이기만 했던 커스틴 ...</td>\n",
       "      <td>1</td>\n",
       "    </tr>\n",
       "  </tbody>\n",
       "</table>\n",
       "</div>"
      ],
      "text/plain": [
       "         id                                           document  label\n",
       "0   9976970                                아 더빙.. 진짜 짜증나네요 목소리      0\n",
       "1   3819312                  흠...포스터보고 초딩영화줄....오버연기조차 가볍지 않구나      1\n",
       "2  10265843                                  너무재밓었다그래서보는것을추천한다      0\n",
       "3   9045019                      교도소 이야기구먼 ..솔직히 재미는 없다..평점 조정      0\n",
       "4   6483659  사이몬페그의 익살스런 연기가 돋보였던 영화!스파이더맨에서 늙어보이기만 했던 커스틴 ...      1"
      ]
     },
     "execution_count": 9,
     "metadata": {},
     "output_type": "execute_result"
    }
   ],
   "source": [
    "import pandas as pd\n",
    "import konlpy\n",
    "import gensim\n",
    "\n",
    "train_data = pd.read_table('~/aiffel/sentiment_classification/data/ratings_train.txt')\n",
    "test_data = pd.read_table('~/aiffel/sentiment_classification/data/ratings_test.txt')\n",
    "\n",
    "train_data.head()"
   ]
  },
  {
   "cell_type": "code",
   "execution_count": 10,
   "id": "2e0f7486",
   "metadata": {},
   "outputs": [
    {
     "data": {
      "text/plain": [
       "False"
      ]
     },
     "execution_count": 10,
     "metadata": {},
     "output_type": "execute_result"
    }
   ],
   "source": [
    "duplicates = train_data.duplicated()\n",
    "duplicates.any()"
   ]
  },
  {
   "cell_type": "code",
   "execution_count": 11,
   "id": "a34af261",
   "metadata": {},
   "outputs": [],
   "source": [
    "from konlpy.tag import Mecab\n",
    "import numpy as np\n",
    "from collections import Counter\n",
    "\n",
    "tokenizer = Mecab()\n",
    "stopwords = ['의','가','이','은','들','는','좀','잘','걍','과','도','를','으로','자','에','와','한','하다']\n",
    "\n",
    "'''\n",
    "1. 데이터의 중복 제거\n",
    "2. NaN 결측치 제거\n",
    "3. 한국어 토크나이저로 토큰화\n",
    "4. 불용어(Stopwords) 제거\n",
    "5. 사전word_to_index 구성\n",
    "6. 텍스트 스트링을 사전 인덱스 스트링으로 변환\n",
    "7. X_train, y_train, X_test, y_test, word_to_index 리턴\n",
    "\n",
    "'''\n",
    "\n",
    "def load_data(train_data, test_data, num_words=10000):\n",
    "    train_data.drop_duplicates(subset=['document'], inplace=True)  #1\n",
    "    train_data = train_data.dropna()  #2\n",
    "    test_data.drop_duplicates(subset=['document'], inplace=True)  #1\n",
    "    test_data = test_data.dropna()  #2\n",
    "    \n",
    "    X_train = []\n",
    "    for sentence in train_data['document']:\n",
    "        temp_X = tokenizer.morphs(sentence) # 3\n",
    "        temp_X = [word for word in temp_X if not word in stopwords] # 4\n",
    "        X_train.append(temp_X)\n",
    "\n",
    "    X_test = []\n",
    "    for sentence in test_data['document']:\n",
    "        temp_X = tokenizer.morphs(sentence) # 3\n",
    "        temp_X = [word for word in temp_X if not word in stopwords] # 4\n",
    "        X_test.append(temp_X)\n",
    "        \n",
    "    words = np.concatenate(X_train).tolist() \n",
    "    counter = Counter(words)\n",
    "    counter = counter.most_common(10000-4)\n",
    "    vocab = ['', '', '', ''] + [key for key, _ in counter]\n",
    "    word_to_index = {word:index for index, word in enumerate(vocab)} #5\n",
    "    \n",
    "    def wordlist_to_indexlist(wordlist):\n",
    "        return [word_to_index[word] if word in word_to_index else word_to_index[''] for word in wordlist] #6\n",
    "        \n",
    "    X_train = list(map(wordlist_to_indexlist, X_train))\n",
    "    X_test = list(map(wordlist_to_indexlist, X_test))\n",
    "        \n",
    "    return X_train, np.array(list(train_data['label'])), X_test, np.array(list(test_data['label'])), word_to_index #7\n",
    "        \n",
    "    \n",
    "    \n",
    "\n",
    "X_train, y_train, X_test, y_test, word_to_index = load_data(train_data, test_data)"
   ]
  },
  {
   "cell_type": "code",
   "execution_count": 12,
   "id": "68236950",
   "metadata": {
    "scrolled": true
   },
   "outputs": [],
   "source": [
    "index_to_word = {index:word for word, index in word_to_index.items()}"
   ]
  },
  {
   "cell_type": "code",
   "execution_count": 13,
   "id": "d01b3a87",
   "metadata": {},
   "outputs": [],
   "source": [
    "def get_encoded_sentence(sentence, word_to_index):\n",
    "    return [word_to_index['<BOS>']]+[word_to_index[word] if word in word_to_index else word_to_index['<UNK>'] for word in sentence.split()]\n",
    "\n",
    "# 여러 개의 문장 리스트를 한꺼번에 단어 인덱스 리스트 벡터로 encode해 주는 함수입니다. \n",
    "def get_encoded_sentences(sentences, word_to_index):\n",
    "    return [get_encoded_sentence(sentence, word_to_index) for sentence in sentences]\n",
    "\n",
    "# 숫자 벡터로 encode된 문장을 원래대로 decode하는 함수입니다. \n",
    "def get_decoded_sentence(encoded_sentence, index_to_word):\n",
    "    return ' '.join(index_to_word[index] if index in index_to_word else '<UNK>' for index in encoded_sentence[1:])  #[1:]를 통해 <BOS>를 제외\n",
    "\n",
    "# 여러 개의 숫자 벡터로 encode된 문장을 한꺼번에 원래대로 decode하는 함수입니다. \n",
    "def get_decoded_sentences(encoded_sentences, index_to_word):\n",
    "    return [get_decoded_sentence(encoded_sentence, index_to_word) for encoded_sentence in encoded_sentences]"
   ]
  },
  {
   "cell_type": "code",
   "execution_count": 14,
   "id": "903e86c5",
   "metadata": {},
   "outputs": [
    {
     "name": "stdout",
     "output_type": "stream",
     "text": [
      "문장길이 평균 :  15.96940191154864\n",
      "문장길이 최대 :  116\n",
      "문장길이 표준편차 :  12.843571191092\n"
     ]
    }
   ],
   "source": [
    "total_data = X_train + X_test\n",
    "\n",
    "num_tokens = [len(tokens) for tokens in total_data]\n",
    "num_tokens = np.array(num_tokens)\n",
    "\n",
    "print('문장길이 평균 : ', np.mean(num_tokens))\n",
    "print('문장길이 최대 : ', np.max(num_tokens))\n",
    "print('문장길이 표준편차 : ', np.std(num_tokens))"
   ]
  },
  {
   "cell_type": "code",
   "execution_count": 15,
   "id": "d69f2a7d",
   "metadata": {},
   "outputs": [],
   "source": [
    "max_tokens = np.mean(num_tokens) + 2 * np.std(num_tokens)\n",
    "maxlen = int(max_tokens)"
   ]
  },
  {
   "cell_type": "code",
   "execution_count": 16,
   "id": "f4aca28a",
   "metadata": {},
   "outputs": [
    {
     "name": "stdout",
     "output_type": "stream",
     "text": [
      "(146182, 41)\n"
     ]
    }
   ],
   "source": [
    "import tensorflow as tf\n",
    "\n",
    "X_train = tf.keras.preprocessing.sequence.pad_sequences(X_train,\n",
    "                                                        value=0,\n",
    "                                                        padding='pre',\n",
    "                                                        maxlen=maxlen)\n",
    "\n",
    "X_test = tf.keras.preprocessing.sequence.pad_sequences(X_test,\n",
    "                                                       value=0,\n",
    "                                                       padding='pre',\n",
    "                                                       maxlen=maxlen)\n",
    "\n",
    "print(X_train.shape)"
   ]
  },
  {
   "cell_type": "code",
   "execution_count": 17,
   "id": "6c3c94a9",
   "metadata": {},
   "outputs": [],
   "source": [
    "# validation set 25000건 분리\n",
    "X_val = X_train[:25000]   \n",
    "y_val = y_train[:25000]\n",
    "\n",
    "# validation set을 제외한 나머지 25000건\n",
    "partial_X_train = X_train[25000:]  \n",
    "partial_y_train = y_train[25000:]"
   ]
  },
  {
   "cell_type": "code",
   "execution_count": 18,
   "id": "f4f29daf",
   "metadata": {
    "scrolled": true
   },
   "outputs": [
    {
     "name": "stdout",
     "output_type": "stream",
     "text": [
      "Model: \"sequential\"\n",
      "_________________________________________________________________\n",
      "Layer (type)                 Output Shape              Param #   \n",
      "=================================================================\n",
      "embedding (Embedding)        (None, None, 41)          410000    \n",
      "_________________________________________________________________\n",
      "global_max_pooling1d (Global (None, 41)                0         \n",
      "_________________________________________________________________\n",
      "dense (Dense)                (None, 8)                 336       \n",
      "_________________________________________________________________\n",
      "dense_1 (Dense)              (None, 1)                 9         \n",
      "=================================================================\n",
      "Total params: 410,345\n",
      "Trainable params: 410,345\n",
      "Non-trainable params: 0\n",
      "_________________________________________________________________\n"
     ]
    }
   ],
   "source": [
    "vocab_size = 10000\n",
    "word_vector_dim = 41\n",
    "\n",
    "model = tf.keras.Sequential()\n",
    "model.add(tf.keras.layers.Embedding(vocab_size, word_vector_dim, input_shape=(None,)))\n",
    "model.add(tf.keras.layers.GlobalMaxPooling1D())\n",
    "model.add(tf.keras.layers.Dense(8, activation='relu'))\n",
    "model.add(tf.keras.layers.Dense(1, activation='sigmoid'))  \n",
    "\n",
    "model.summary()"
   ]
  },
  {
   "cell_type": "code",
   "execution_count": 19,
   "id": "ba505828",
   "metadata": {},
   "outputs": [
    {
     "name": "stdout",
     "output_type": "stream",
     "text": [
      "Epoch 1/20\n",
      "237/237 [==============================] - 2s 5ms/step - loss: 0.5378 - accuracy: 0.7829 - val_loss: 0.3828 - val_accuracy: 0.8336\n",
      "Epoch 2/20\n",
      "237/237 [==============================] - 1s 4ms/step - loss: 0.3466 - accuracy: 0.8518 - val_loss: 0.3462 - val_accuracy: 0.8481\n",
      "Epoch 3/20\n",
      "237/237 [==============================] - 1s 4ms/step - loss: 0.3014 - accuracy: 0.8736 - val_loss: 0.3423 - val_accuracy: 0.8506\n",
      "Epoch 4/20\n",
      "237/237 [==============================] - 1s 4ms/step - loss: 0.2718 - accuracy: 0.8891 - val_loss: 0.3460 - val_accuracy: 0.8515\n",
      "Epoch 5/20\n",
      "237/237 [==============================] - 1s 4ms/step - loss: 0.2473 - accuracy: 0.9009 - val_loss: 0.3555 - val_accuracy: 0.8504\n",
      "Epoch 6/20\n",
      "237/237 [==============================] - 1s 4ms/step - loss: 0.2255 - accuracy: 0.9113 - val_loss: 0.3680 - val_accuracy: 0.8498\n",
      "Epoch 7/20\n",
      "237/237 [==============================] - 1s 4ms/step - loss: 0.2052 - accuracy: 0.9218 - val_loss: 0.3832 - val_accuracy: 0.8495\n",
      "Epoch 8/20\n",
      "237/237 [==============================] - 1s 4ms/step - loss: 0.1861 - accuracy: 0.9300 - val_loss: 0.4024 - val_accuracy: 0.8463\n",
      "Epoch 9/20\n",
      "237/237 [==============================] - 1s 4ms/step - loss: 0.1681 - accuracy: 0.9387 - val_loss: 0.4228 - val_accuracy: 0.8456\n",
      "Epoch 10/20\n",
      "237/237 [==============================] - 1s 4ms/step - loss: 0.1511 - accuracy: 0.9465 - val_loss: 0.4460 - val_accuracy: 0.8423\n",
      "Epoch 11/20\n",
      "237/237 [==============================] - 1s 4ms/step - loss: 0.1356 - accuracy: 0.9532 - val_loss: 0.4709 - val_accuracy: 0.8395\n",
      "Epoch 12/20\n",
      "237/237 [==============================] - 1s 4ms/step - loss: 0.1211 - accuracy: 0.9600 - val_loss: 0.4986 - val_accuracy: 0.8374\n",
      "Epoch 13/20\n",
      "237/237 [==============================] - 1s 4ms/step - loss: 0.1085 - accuracy: 0.9646 - val_loss: 0.5222 - val_accuracy: 0.8368\n",
      "Epoch 14/20\n",
      "237/237 [==============================] - 1s 4ms/step - loss: 0.0970 - accuracy: 0.9690 - val_loss: 0.5529 - val_accuracy: 0.8333\n",
      "Epoch 15/20\n",
      "237/237 [==============================] - 1s 4ms/step - loss: 0.0867 - accuracy: 0.9733 - val_loss: 0.5811 - val_accuracy: 0.8322\n",
      "Epoch 16/20\n",
      "237/237 [==============================] - 1s 4ms/step - loss: 0.0779 - accuracy: 0.9770 - val_loss: 0.6106 - val_accuracy: 0.8298\n",
      "Epoch 17/20\n",
      "237/237 [==============================] - 1s 4ms/step - loss: 0.0693 - accuracy: 0.9795 - val_loss: 0.6425 - val_accuracy: 0.8275\n",
      "Epoch 18/20\n",
      "237/237 [==============================] - 1s 4ms/step - loss: 0.0624 - accuracy: 0.9823 - val_loss: 0.6724 - val_accuracy: 0.8258\n",
      "Epoch 19/20\n",
      "237/237 [==============================] - 1s 4ms/step - loss: 0.0556 - accuracy: 0.9841 - val_loss: 0.7071 - val_accuracy: 0.8258\n",
      "Epoch 20/20\n",
      "237/237 [==============================] - 1s 4ms/step - loss: 0.0504 - accuracy: 0.9863 - val_loss: 0.7454 - val_accuracy: 0.8226\n"
     ]
    }
   ],
   "source": [
    "model.compile(optimizer='adam',\n",
    "              loss='binary_crossentropy',\n",
    "              metrics=['accuracy'])\n",
    "              \n",
    "epochs=20  \n",
    "\n",
    "history = model.fit(partial_X_train,\n",
    "                    partial_y_train,\n",
    "                    epochs=epochs,\n",
    "                    batch_size=512,\n",
    "                    validation_data=(X_val, y_val),\n",
    "                    verbose=1)\n",
    "\n"
   ]
  },
  {
   "cell_type": "code",
   "execution_count": 20,
   "id": "afaf1f29",
   "metadata": {},
   "outputs": [
    {
     "name": "stdout",
     "output_type": "stream",
     "text": [
      "1537/1537 - 2s - loss: 0.7435 - accuracy: 0.8182\n",
      "[0.7435395121574402, 0.818235456943512]\n"
     ]
    }
   ],
   "source": [
    "results = model.evaluate(X_test,  y_test, verbose=2)\n",
    "\n",
    "print(results)"
   ]
  },
  {
   "cell_type": "code",
   "execution_count": 21,
   "id": "c91c0a4d",
   "metadata": {},
   "outputs": [
    {
     "data": {
      "image/png": "[encoded data removed]",
      "text/plain": [
       "<Figure size 432x288 with 1 Axes>"
      ]
     },
     "metadata": {
      "needs_background": "light"
     },
     "output_type": "display_data"
    }
   ],
   "source": [
    "import matplotlib.pyplot as plt\n",
    "\n",
    "history_dict = history.history\n",
    "acc = history_dict['accuracy']\n",
    "val_acc = history_dict['val_accuracy']\n",
    "loss = history_dict['loss']\n",
    "val_loss = history_dict['val_loss']\n",
    "\n",
    "epochs = range(1, len(acc) + 1)\n",
    "\n",
    "\n",
    "plt.plot(epochs, loss, 'bo', label='Training loss')\n",
    "plt.plot(epochs, val_loss, 'b', label='Validation loss')\n",
    "plt.title('Training and validation loss')\n",
    "plt.xlabel('Epochs')\n",
    "plt.ylabel('Loss')\n",
    "plt.legend()\n",
    "\n",
    "plt.show()"
   ]
  },
  {
   "cell_type": "code",
   "execution_count": 22,
   "id": "0bd79f9b",
   "metadata": {},
   "outputs": [
    {
     "name": "stdout",
     "output_type": "stream",
     "text": [
      "Epoch 1/3\n",
      "237/237 [==============================] - 2s 4ms/step - loss: 0.5236 - accuracy: 0.7823 - val_loss: 0.3774 - val_accuracy: 0.8350\n",
      "Epoch 2/3\n",
      "237/237 [==============================] - 1s 4ms/step - loss: 0.3420 - accuracy: 0.8538 - val_loss: 0.3440 - val_accuracy: 0.8482\n",
      "Epoch 3/3\n",
      "237/237 [==============================] - 1s 4ms/step - loss: 0.2975 - accuracy: 0.8755 - val_loss: 0.3416 - val_accuracy: 0.8525\n",
      "1537/1537 - 2s - loss: 0.3513 - accuracy: 0.8475\n",
      "[0.3513391613960266, 0.8475293517112732]\n"
     ]
    }
   ],
   "source": [
    "# model2 = epoch 조절해서 다시 \n",
    "\n",
    "model2 = tf.keras.Sequential()\n",
    "model2.add(tf.keras.layers.Embedding(vocab_size, word_vector_dim, input_shape=(None,)))\n",
    "model2.add(tf.keras.layers.GlobalMaxPooling1D())\n",
    "model2.add(tf.keras.layers.Dense(8, activation='relu'))\n",
    "model2.add(tf.keras.layers.Dense(1, activation='sigmoid'))  \n",
    "model2.compile(optimizer='adam',\n",
    "              loss='binary_crossentropy',\n",
    "              metrics=['accuracy'])\n",
    "\n",
    "history = model2.fit(partial_X_train,\n",
    "                    partial_y_train,\n",
    "                    epochs=3,\n",
    "                    batch_size=512,\n",
    "                    validation_data=(X_val, y_val),\n",
    "                    verbose=1)\n",
    "\n",
    "results = model2.evaluate(X_test,  y_test, verbose=2)\n",
    "\n",
    "print(results)"
   ]
  },
  {
   "cell_type": "code",
   "execution_count": 23,
   "id": "8cc56398",
   "metadata": {},
   "outputs": [
    {
     "name": "stdout",
     "output_type": "stream",
     "text": [
      "Epoch 1/20\n",
      "237/237 [==============================] - 5s 8ms/step - loss: 0.4814 - accuracy: 0.7882 - val_loss: 0.3584 - val_accuracy: 0.8484\n",
      "Epoch 2/20\n",
      "237/237 [==============================] - 1s 6ms/step - loss: 0.3317 - accuracy: 0.8609 - val_loss: 0.3426 - val_accuracy: 0.8514\n",
      "Epoch 3/20\n",
      "237/237 [==============================] - 1s 6ms/step - loss: 0.3046 - accuracy: 0.8736 - val_loss: 0.3423 - val_accuracy: 0.8539\n",
      "Epoch 4/20\n",
      "237/237 [==============================] - 1s 6ms/step - loss: 0.2878 - accuracy: 0.8808 - val_loss: 0.3458 - val_accuracy: 0.8530\n",
      "Epoch 5/20\n",
      "237/237 [==============================] - 1s 6ms/step - loss: 0.2720 - accuracy: 0.8884 - val_loss: 0.3534 - val_accuracy: 0.8524\n",
      "Epoch 6/20\n",
      "237/237 [==============================] - 2s 6ms/step - loss: 0.2587 - accuracy: 0.8946 - val_loss: 0.3567 - val_accuracy: 0.8496\n",
      "Epoch 7/20\n",
      "237/237 [==============================] - 1s 6ms/step - loss: 0.2468 - accuracy: 0.9002 - val_loss: 0.3735 - val_accuracy: 0.8482\n",
      "Epoch 8/20\n",
      "237/237 [==============================] - 1s 6ms/step - loss: 0.2355 - accuracy: 0.9051 - val_loss: 0.3731 - val_accuracy: 0.8466\n",
      "Epoch 9/20\n",
      "237/237 [==============================] - 1s 6ms/step - loss: 0.2266 - accuracy: 0.9089 - val_loss: 0.3826 - val_accuracy: 0.8465\n",
      "Epoch 10/20\n",
      "237/237 [==============================] - 1s 6ms/step - loss: 0.2171 - accuracy: 0.9127 - val_loss: 0.4029 - val_accuracy: 0.8463\n",
      "Epoch 11/20\n",
      "237/237 [==============================] - 1s 6ms/step - loss: 0.2084 - accuracy: 0.9167 - val_loss: 0.4117 - val_accuracy: 0.8452\n",
      "Epoch 12/20\n",
      "237/237 [==============================] - 1s 6ms/step - loss: 0.2008 - accuracy: 0.9200 - val_loss: 0.4296 - val_accuracy: 0.8438\n",
      "Epoch 13/20\n",
      "237/237 [==============================] - 1s 6ms/step - loss: 0.1927 - accuracy: 0.9240 - val_loss: 0.4389 - val_accuracy: 0.8424\n",
      "Epoch 14/20\n",
      "237/237 [==============================] - 1s 6ms/step - loss: 0.1864 - accuracy: 0.9272 - val_loss: 0.4595 - val_accuracy: 0.8417\n",
      "Epoch 15/20\n",
      "237/237 [==============================] - 1s 6ms/step - loss: 0.1784 - accuracy: 0.9307 - val_loss: 0.4742 - val_accuracy: 0.8408\n",
      "Epoch 16/20\n",
      "237/237 [==============================] - 1s 6ms/step - loss: 0.1706 - accuracy: 0.9347 - val_loss: 0.4736 - val_accuracy: 0.8383\n",
      "Epoch 17/20\n",
      "237/237 [==============================] - 1s 6ms/step - loss: 0.1641 - accuracy: 0.9383 - val_loss: 0.4996 - val_accuracy: 0.8361\n",
      "Epoch 18/20\n",
      "237/237 [==============================] - 1s 6ms/step - loss: 0.1580 - accuracy: 0.9410 - val_loss: 0.5045 - val_accuracy: 0.8390\n",
      "Epoch 19/20\n",
      "237/237 [==============================] - 1s 6ms/step - loss: 0.1530 - accuracy: 0.9431 - val_loss: 0.5352 - val_accuracy: 0.8370\n",
      "Epoch 20/20\n",
      "237/237 [==============================] - 2s 6ms/step - loss: 0.1465 - accuracy: 0.9466 - val_loss: 0.5341 - val_accuracy: 0.8380\n",
      "1537/1537 - 3s - loss: 0.5299 - accuracy: 0.8358\n",
      "[0.5299215912818909, 0.8358117938041687]\n"
     ]
    },
    {
     "data": {
      "image/png": "[encoded data removed]",
      "text/plain": [
       "<Figure size 432x288 with 1 Axes>"
      ]
     },
     "metadata": {
      "needs_background": "light"
     },
     "output_type": "display_data"
    }
   ],
   "source": [
    "# model3 LSTM 사용\n",
    "\n",
    "\n",
    "model = tf.keras.Sequential()\n",
    "model.add(tf.keras.layers.Embedding(vocab_size, word_vector_dim, input_shape=(None,)))\n",
    "model.add(tf.keras.layers.LSTM(8))   \n",
    "model.add(tf.keras.layers.Dense(8, activation='relu'))\n",
    "model.add(tf.keras.layers.Dense(1, activation='sigmoid'))\n",
    "model.compile(optimizer='adam',\n",
    "              loss='binary_crossentropy',\n",
    "              metrics=['accuracy'])\n",
    "\n",
    "epochs=20  \n",
    "\n",
    "history = model.fit(partial_X_train,\n",
    "                    partial_y_train,\n",
    "                    epochs=epochs,\n",
    "                    batch_size=512,\n",
    "                    validation_data=(X_val, y_val),\n",
    "                    verbose=1)\n",
    "\n",
    "results = model.evaluate(X_test,  y_test, verbose=2)\n",
    "\n",
    "print(results)\n",
    "\n",
    "history_dict = history.history\n",
    "acc = history_dict['accuracy']\n",
    "val_acc = history_dict['val_accuracy']\n",
    "loss = history_dict['loss']\n",
    "val_loss = history_dict['val_loss']\n",
    "\n",
    "epochs = range(1, len(acc) + 1)\n",
    "\n",
    "\n",
    "plt.plot(epochs, loss, 'bo', label='Training loss')\n",
    "plt.plot(epochs, val_loss, 'b', label='Validation loss')\n",
    "plt.title('Training and validation loss')\n",
    "plt.xlabel('Epochs')\n",
    "plt.ylabel('Loss')\n",
    "plt.legend()\n",
    "\n",
    "plt.show()"
   ]
  },
  {
   "cell_type": "code",
   "execution_count": 24,
   "id": "38d27906",
   "metadata": {},
   "outputs": [
    {
     "name": "stdout",
     "output_type": "stream",
     "text": [
      "Epoch 1/9\n",
      "237/237 [==============================] - 3s 8ms/step - loss: 0.4901 - accuracy: 0.7933 - val_loss: 0.3704 - val_accuracy: 0.8450\n",
      "Epoch 2/9\n",
      "237/237 [==============================] - 1s 6ms/step - loss: 0.3426 - accuracy: 0.8586 - val_loss: 0.3541 - val_accuracy: 0.8489\n",
      "Epoch 3/9\n",
      "237/237 [==============================] - 1s 6ms/step - loss: 0.3179 - accuracy: 0.8705 - val_loss: 0.3554 - val_accuracy: 0.8492\n",
      "Epoch 4/9\n",
      "237/237 [==============================] - 1s 6ms/step - loss: 0.3026 - accuracy: 0.8780 - val_loss: 0.3546 - val_accuracy: 0.8490\n",
      "Epoch 5/9\n",
      "237/237 [==============================] - 1s 6ms/step - loss: 0.2899 - accuracy: 0.8836 - val_loss: 0.3544 - val_accuracy: 0.8510\n",
      "Epoch 6/9\n",
      "237/237 [==============================] - 1s 6ms/step - loss: 0.2776 - accuracy: 0.8893 - val_loss: 0.3556 - val_accuracy: 0.8520\n",
      "Epoch 7/9\n",
      "237/237 [==============================] - 1s 6ms/step - loss: 0.2672 - accuracy: 0.8944 - val_loss: 0.3579 - val_accuracy: 0.8518\n",
      "Epoch 8/9\n",
      "237/237 [==============================] - 1s 6ms/step - loss: 0.2547 - accuracy: 0.9007 - val_loss: 0.3643 - val_accuracy: 0.8525\n",
      "Epoch 9/9\n",
      "237/237 [==============================] - 1s 6ms/step - loss: 0.2454 - accuracy: 0.9046 - val_loss: 0.3687 - val_accuracy: 0.8520\n",
      "1537/1537 - 3s - loss: 0.3760 - accuracy: 0.8455\n",
      "[0.37595441937446594, 0.8455357551574707]\n"
     ]
    }
   ],
   "source": [
    "model = tf.keras.Sequential()\n",
    "model.add(tf.keras.layers.Embedding(vocab_size, word_vector_dim, input_shape=(None,)))\n",
    "model.add(tf.keras.layers.LSTM(8))   \n",
    "model.add(tf.keras.layers.Dense(8, activation='relu'))\n",
    "model.add(tf.keras.layers.Dense(1, activation='sigmoid'))\n",
    "model.compile(optimizer='adam',\n",
    "              loss='binary_crossentropy',\n",
    "              metrics=['accuracy'])\n",
    "\n",
    "epochs=9 \n",
    "\n",
    "history = model.fit(partial_X_train,\n",
    "                    partial_y_train,\n",
    "                    epochs=epochs,\n",
    "                    batch_size=512,\n",
    "                    validation_data=(X_val, y_val),\n",
    "                    verbose=1)\n",
    "\n",
    "results = model.evaluate(X_test,  y_test, verbose=2)\n",
    "\n",
    "print(results)\n"
   ]
  },
  {
   "cell_type": "code",
   "execution_count": 25,
   "id": "df58f4dc",
   "metadata": {},
   "outputs": [
    {
     "name": "stdout",
     "output_type": "stream",
     "text": [
      "Epoch 1/9\n",
      "237/237 [==============================] - 4s 8ms/step - loss: 0.4364 - accuracy: 0.7968 - val_loss: 0.3533 - val_accuracy: 0.8464\n",
      "Epoch 2/9\n",
      "237/237 [==============================] - 2s 6ms/step - loss: 0.3324 - accuracy: 0.8573 - val_loss: 0.3454 - val_accuracy: 0.8506\n",
      "Epoch 3/9\n",
      "237/237 [==============================] - 2s 6ms/step - loss: 0.3125 - accuracy: 0.8674 - val_loss: 0.3416 - val_accuracy: 0.8508\n",
      "Epoch 4/9\n",
      "237/237 [==============================] - 2s 6ms/step - loss: 0.2964 - accuracy: 0.8746 - val_loss: 0.3429 - val_accuracy: 0.8534\n",
      "Epoch 5/9\n",
      "237/237 [==============================] - 2s 6ms/step - loss: 0.2796 - accuracy: 0.8810 - val_loss: 0.3478 - val_accuracy: 0.8530\n",
      "Epoch 6/9\n",
      "237/237 [==============================] - 2s 6ms/step - loss: 0.2620 - accuracy: 0.8884 - val_loss: 0.3671 - val_accuracy: 0.8524\n",
      "Epoch 7/9\n",
      "237/237 [==============================] - 2s 6ms/step - loss: 0.2441 - accuracy: 0.8966 - val_loss: 0.3759 - val_accuracy: 0.8507\n",
      "Epoch 8/9\n",
      "237/237 [==============================] - 2s 7ms/step - loss: 0.2272 - accuracy: 0.9048 - val_loss: 0.3903 - val_accuracy: 0.8526\n",
      "Epoch 9/9\n",
      "237/237 [==============================] - 2s 6ms/step - loss: 0.2108 - accuracy: 0.9115 - val_loss: 0.4047 - val_accuracy: 0.8492\n",
      "1537/1537 - 3s - loss: 0.4070 - accuracy: 0.8422\n",
      "[0.40697094798088074, 0.8422198295593262]\n"
     ]
    }
   ],
   "source": [
    "# 차원수 수정\n",
    "\n",
    "model = tf.keras.Sequential()\n",
    "model.add(tf.keras.layers.Embedding(vocab_size, word_vector_dim, input_shape=(None,)))\n",
    "model.add(tf.keras.layers.LSTM(41))   \n",
    "model.add(tf.keras.layers.Dense(41, activation='relu'))\n",
    "model.add(tf.keras.layers.Dense(1, activation='sigmoid'))\n",
    "model.compile(optimizer='adam',\n",
    "              loss='binary_crossentropy',\n",
    "              metrics=['accuracy'])\n",
    "\n",
    "epochs=9 \n",
    "\n",
    "history = model.fit(partial_X_train,\n",
    "                    partial_y_train,\n",
    "                    epochs=epochs,\n",
    "                    batch_size=512,\n",
    "                    validation_data=(X_val, y_val),\n",
    "                    verbose=1)\n",
    "\n",
    "results = model.evaluate(X_test,  y_test, verbose=2)\n",
    "\n",
    "print(results)"
   ]
  },
  {
   "cell_type": "code",
   "execution_count": 26,
   "id": "503a8b4c",
   "metadata": {},
   "outputs": [
    {
     "name": "stdout",
     "output_type": "stream",
     "text": [
      "Epoch 1/5\n",
      "237/237 [==============================] - 3s 8ms/step - loss: 0.4353 - accuracy: 0.7951 - val_loss: 0.3503 - val_accuracy: 0.8490\n",
      "Epoch 2/5\n",
      "237/237 [==============================] - 2s 6ms/step - loss: 0.3312 - accuracy: 0.8594 - val_loss: 0.3489 - val_accuracy: 0.8488\n",
      "Epoch 3/5\n",
      "237/237 [==============================] - 2s 7ms/step - loss: 0.3128 - accuracy: 0.8680 - val_loss: 0.3469 - val_accuracy: 0.8498\n",
      "Epoch 4/5\n",
      "237/237 [==============================] - 2s 6ms/step - loss: 0.2965 - accuracy: 0.8756 - val_loss: 0.3440 - val_accuracy: 0.8491\n",
      "Epoch 5/5\n",
      "237/237 [==============================] - 2s 7ms/step - loss: 0.2755 - accuracy: 0.8841 - val_loss: 0.3406 - val_accuracy: 0.8544\n",
      "1537/1537 - 3s - loss: 0.3489 - accuracy: 0.8479\n",
      "[0.3489445447921753, 0.8478955030441284]\n"
     ]
    }
   ],
   "source": [
    "model = tf.keras.Sequential()\n",
    "model.add(tf.keras.layers.Embedding(vocab_size, word_vector_dim, input_shape=(None,)))\n",
    "model.add(tf.keras.layers.LSTM(41))   \n",
    "model.add(tf.keras.layers.Dense(41, activation='relu'))\n",
    "model.add(tf.keras.layers.Dense(1, activation='sigmoid'))\n",
    "model.compile(optimizer='adam',\n",
    "              loss='binary_crossentropy',\n",
    "              metrics=['accuracy'])\n",
    "\n",
    "epochs=5\n",
    "\n",
    "history = model.fit(partial_X_train,\n",
    "                    partial_y_train,\n",
    "                    epochs=epochs,\n",
    "                    batch_size=512,\n",
    "                    validation_data=(X_val, y_val),\n",
    "                    verbose=1)\n",
    "\n",
    "results = model.evaluate(X_test,  y_test, verbose=2)\n",
    "\n",
    "print(results)"
   ]
  },
  {
   "cell_type": "code",
   "execution_count": 27,
   "id": "ffd5f514",
   "metadata": {},
   "outputs": [
    {
     "name": "stdout",
     "output_type": "stream",
     "text": [
      "Epoch 1/10\n",
      "237/237 [==============================] - 10s 20ms/step - loss: 0.4429 - accuracy: 0.7889 - val_loss: 0.3469 - val_accuracy: 0.8473\n",
      "Epoch 2/10\n",
      "237/237 [==============================] - 3s 14ms/step - loss: 0.3324 - accuracy: 0.8595 - val_loss: 0.3513 - val_accuracy: 0.8448\n",
      "Epoch 3/10\n",
      "237/237 [==============================] - 3s 14ms/step - loss: 0.3098 - accuracy: 0.8685 - val_loss: 0.3483 - val_accuracy: 0.8508\n",
      "Epoch 4/10\n",
      "237/237 [==============================] - 3s 15ms/step - loss: 0.2925 - accuracy: 0.8758 - val_loss: 0.3447 - val_accuracy: 0.8514\n",
      "Epoch 5/10\n",
      "237/237 [==============================] - 3s 15ms/step - loss: 0.2759 - accuracy: 0.8834 - val_loss: 0.3599 - val_accuracy: 0.8497\n",
      "Epoch 6/10\n",
      "237/237 [==============================] - 3s 15ms/step - loss: 0.2587 - accuracy: 0.8909 - val_loss: 0.3746 - val_accuracy: 0.8485\n",
      "Epoch 7/10\n",
      "237/237 [==============================] - 3s 14ms/step - loss: 0.2416 - accuracy: 0.8979 - val_loss: 0.3928 - val_accuracy: 0.8495\n",
      "Epoch 8/10\n",
      "237/237 [==============================] - 3s 14ms/step - loss: 0.2258 - accuracy: 0.9048 - val_loss: 0.4069 - val_accuracy: 0.8466\n",
      "Epoch 9/10\n",
      "237/237 [==============================] - 3s 14ms/step - loss: 0.2129 - accuracy: 0.9114 - val_loss: 0.4273 - val_accuracy: 0.8462\n",
      "Epoch 10/10\n",
      "237/237 [==============================] - 3s 14ms/step - loss: 0.1987 - accuracy: 0.9177 - val_loss: 0.4698 - val_accuracy: 0.8450\n",
      "1537/1537 - 7s - loss: 0.4738 - accuracy: 0.8421\n",
      "[0.4737623631954193, 0.8420571088790894]\n"
     ]
    }
   ],
   "source": [
    "# Bidirection 층 with dropout\n",
    "from tensorflow.keras.layers import Dropout, Bidirectional, LSTM, Embedding, Dense\n",
    "\n",
    "model = tf.keras.Sequential()\n",
    "model.add(tf.keras.layers.Embedding(vocab_size, word_vector_dim, input_shape=(None,)))\n",
    "model.add(Bidirectional(LSTM(32, return_sequences=True)))\n",
    "model.add(Dropout(0.5))\n",
    "model.add(Bidirectional(LSTM(16)))\n",
    "model.add(Dropout(0.5))\n",
    "model.add(Dense(24, activation='relu'))\n",
    "model.add(Dense(1, activation='sigmoid'))\n",
    "\n",
    "model.compile(optimizer='adam',\n",
    "              loss='binary_crossentropy',\n",
    "              metrics=['accuracy'])\n",
    "\n",
    "epochs=10\n",
    "\n",
    "history = model.fit(partial_X_train,\n",
    "                    partial_y_train,\n",
    "                    epochs=epochs,\n",
    "                    batch_size=512,\n",
    "                    validation_data=(X_val, y_val),\n",
    "                    verbose=1)\n",
    "\n",
    "results = model.evaluate(X_test,  y_test, verbose=2)\n",
    "\n",
    "print(results)"
   ]
  },
  {
   "cell_type": "code",
   "execution_count": 28,
   "id": "e8461925",
   "metadata": {},
   "outputs": [
    {
     "name": "stdout",
     "output_type": "stream",
     "text": [
      "Epoch 1/5\n",
      "237/237 [==============================] - 10s 21ms/step - loss: 0.4498 - accuracy: 0.7835 - val_loss: 0.3512 - val_accuracy: 0.8460\n",
      "Epoch 2/5\n",
      "237/237 [==============================] - 3s 15ms/step - loss: 0.3368 - accuracy: 0.8586 - val_loss: 0.3467 - val_accuracy: 0.8502\n",
      "Epoch 3/5\n",
      "237/237 [==============================] - 3s 14ms/step - loss: 0.3140 - accuracy: 0.8687 - val_loss: 0.3412 - val_accuracy: 0.8507\n",
      "Epoch 4/5\n",
      "237/237 [==============================] - 3s 14ms/step - loss: 0.2912 - accuracy: 0.8790 - val_loss: 0.3483 - val_accuracy: 0.8498\n",
      "Epoch 5/5\n",
      "237/237 [==============================] - 3s 15ms/step - loss: 0.2696 - accuracy: 0.8864 - val_loss: 0.3658 - val_accuracy: 0.8498\n",
      "1537/1537 - 7s - loss: 0.3664 - accuracy: 0.8474\n",
      "[0.3664029836654663, 0.8474276065826416]\n"
     ]
    }
   ],
   "source": [
    "from tensorflow.keras.layers import Dropout, Bidirectional, LSTM, Embedding, Dense\n",
    "\n",
    "model = tf.keras.Sequential()\n",
    "model.add(tf.keras.layers.Embedding(vocab_size, word_vector_dim, input_shape=(None,)))\n",
    "model.add(Bidirectional(LSTM(32, return_sequences=True)))\n",
    "model.add(Dropout(0.5))\n",
    "model.add(Bidirectional(LSTM(16)))\n",
    "model.add(Dropout(0.5))\n",
    "model.add(Dense(24, activation='relu'))\n",
    "model.add(Dense(1, activation='sigmoid'))\n",
    "\n",
    "model.compile(optimizer='adam',\n",
    "              loss='binary_crossentropy',\n",
    "              metrics=['accuracy'])\n",
    "\n",
    "epochs=5\n",
    "\n",
    "history = model.fit(partial_X_train,\n",
    "                    partial_y_train,\n",
    "                    epochs=epochs,\n",
    "                    batch_size=512,\n",
    "                    validation_data=(X_val, y_val),\n",
    "                    verbose=1)\n",
    "\n",
    "results = model.evaluate(X_test,  y_test, verbose=2)\n",
    "\n",
    "print(results)"
   ]
  },
  {
   "cell_type": "code",
   "execution_count": 29,
   "id": "9f52e350",
   "metadata": {},
   "outputs": [
    {
     "name": "stdout",
     "output_type": "stream",
     "text": [
      "Epoch 1/5\n",
      "237/237 [==============================] - 10s 22ms/step - loss: 0.4292 - accuracy: 0.7946 - val_loss: 0.3542 - val_accuracy: 0.8444\n",
      "Epoch 2/5\n",
      "237/237 [==============================] - 4s 17ms/step - loss: 0.3313 - accuracy: 0.8591 - val_loss: 0.3429 - val_accuracy: 0.8479\n",
      "Epoch 3/5\n",
      "237/237 [==============================] - 4s 17ms/step - loss: 0.3065 - accuracy: 0.8703 - val_loss: 0.3401 - val_accuracy: 0.8516\n",
      "Epoch 4/5\n",
      "237/237 [==============================] - 4s 17ms/step - loss: 0.2837 - accuracy: 0.8787 - val_loss: 0.3490 - val_accuracy: 0.8538\n",
      "Epoch 5/5\n",
      "237/237 [==============================] - 4s 17ms/step - loss: 0.2650 - accuracy: 0.8880 - val_loss: 0.3499 - val_accuracy: 0.8511\n",
      "1537/1537 - 7s - loss: 0.3571 - accuracy: 0.8467\n",
      "[0.35710036754608154, 0.8466545939445496]\n"
     ]
    }
   ],
   "source": [
    "model = tf.keras.Sequential()\n",
    "model.add(tf.keras.layers.Embedding(vocab_size, word_vector_dim, input_shape=(None,)))\n",
    "model.add(Bidirectional(LSTM(64, return_sequences=True)))\n",
    "model.add(Dropout(0.5))\n",
    "model.add(Bidirectional(LSTM(32)))\n",
    "model.add(Dropout(0.5))\n",
    "model.add(Dense(24, activation='relu'))\n",
    "model.add(Dense(1, activation='sigmoid'))\n",
    "\n",
    "model.compile(optimizer='adam',\n",
    "              loss='binary_crossentropy',\n",
    "              metrics=['accuracy'])\n",
    "\n",
    "epochs=5\n",
    "\n",
    "history = model.fit(partial_X_train,\n",
    "                    partial_y_train,\n",
    "                    epochs=epochs,\n",
    "                    batch_size=512,\n",
    "                    validation_data=(X_val, y_val),\n",
    "                    verbose=1)\n",
    "\n",
    "results = model.evaluate(X_test,  y_test, verbose=2)\n",
    "\n",
    "print(results)"
   ]
  },
  {
   "cell_type": "code",
   "execution_count": 30,
   "id": "c489dcab",
   "metadata": {},
   "outputs": [
    {
     "data": {
      "image/png": "[encoded data removed]",
      "text/plain": [
       "<Figure size 432x288 with 1 Axes>"
      ]
     },
     "metadata": {
      "needs_background": "light"
     },
     "output_type": "display_data"
    }
   ],
   "source": [
    "history_dict = history.history\n",
    "acc = history_dict['accuracy']\n",
    "val_acc = history_dict['val_accuracy']\n",
    "loss = history_dict['loss']\n",
    "val_loss = history_dict['val_loss']\n",
    "\n",
    "epochs = range(1, len(acc) + 1)\n",
    "plt.plot(epochs, acc, 'bo', label='Training acc')\n",
    "plt.plot(epochs, val_acc, 'b', label='Validation acc')\n",
    "plt.title('Training and validation accuracy')\n",
    "plt.xlabel('Epochs')\n",
    "plt.ylabel('Accuracy')\n",
    "plt.legend()\n",
    "\n",
    "plt.show()"
   ]
  },
  {
   "cell_type": "code",
   "execution_count": 31,
   "id": "4f82d259",
   "metadata": {},
   "outputs": [],
   "source": [
    "import os\n",
    "embedding_layer = model.layers[0]\n",
    "weights = embedding_layer.get_weights()[0]\n",
    "word2vec_file_path = os.getenv('HOME')+'/aiffel/sentiment_classification/data/word2vec.txt'\n",
    "f = open(word2vec_file_path, 'w')\n",
    "f.write('{} {}\\n'.format(10000-4, 41))  \n",
    "\n",
    "vectors = model.get_weights()[0]\n",
    "for i in range(4,10000):\n",
    "    f.write('{} {}\\n'.format(index_to_word[i], ' '.join(map(str, list(vectors[i, :])))))\n",
    "f.close()"
   ]
  },
  {
   "cell_type": "code",
   "execution_count": 32,
   "id": "9faed241",
   "metadata": {},
   "outputs": [
    {
     "data": {
      "text/plain": [
       "array([-0.01244265,  0.03822076, -0.00243693,  0.06522395, -0.05674441,\n",
       "       -0.0094767 ,  0.01058049,  0.03183682, -0.0868463 , -0.01889734,\n",
       "        0.09385325,  0.04874921, -0.0218068 , -0.06246126, -0.04325496,\n",
       "       -0.03596998, -0.0430422 , -0.05291134, -0.02468675, -0.07243503,\n",
       "       -0.01313094, -0.00391529, -0.04188244,  0.04761432, -0.0142893 ,\n",
       "        0.04251424,  0.03790718,  0.00082239, -0.03341307,  0.0450253 ,\n",
       "        0.00108229,  0.03330708,  0.00586989,  0.01564533, -0.02573377,\n",
       "        0.0264744 ,  0.02565298,  0.00800983,  0.00670762,  0.01306644,\n",
       "       -0.01099802], dtype=float32)"
      ]
     },
     "execution_count": 32,
     "metadata": {},
     "output_type": "execute_result"
    }
   ],
   "source": [
    "from gensim.models.keyedvectors import Word2VecKeyedVectors\n",
    "\n",
    "word_vectors = Word2VecKeyedVectors.load_word2vec_format(word2vec_file_path, binary=False)\n",
    "vector = word_vectors['진짜']\n",
    "vector"
   ]
  },
  {
   "cell_type": "code",
   "execution_count": 33,
   "id": "dd1133d4",
   "metadata": {},
   "outputs": [
    {
     "data": {
      "text/plain": [
       "[('예뻐서', 0.7443243265151978),\n",
       " ('았었', 0.7104976177215576),\n",
       " ('잼', 0.7041564583778381),\n",
       " ('..??', 0.6979959607124329),\n",
       " ('슬픔', 0.6908084750175476),\n",
       " ('메디컬', 0.6884591579437256),\n",
       " ('ㅜㅜㅜ', 0.6880357265472412),\n",
       " ('기뻤', 0.6866378784179688),\n",
       " ('com', 0.6856238842010498),\n",
       " ('유치원', 0.681786060333252)]"
      ]
     },
     "execution_count": 33,
     "metadata": {},
     "output_type": "execute_result"
    }
   ],
   "source": [
    "word_vectors.similar_by_word(\"진짜\")"
   ]
  },
  {
   "cell_type": "markdown",
   "id": "c37b8bdb",
   "metadata": {},
   "source": [
    "나쁘지 않은데?"
   ]
  },
  {
   "cell_type": "code",
   "execution_count": 34,
   "id": "2f2df1a8",
   "metadata": {},
   "outputs": [],
   "source": [
    "# Kyubyong\n",
    "\n",
    "import gensim\n",
    "model = gensim.models.Word2Vec.load('sentiment_classification/ko.bin')"
   ]
  },
  {
   "cell_type": "code",
   "execution_count": 35,
   "id": "cb10a7b6",
   "metadata": {},
   "outputs": [
    {
     "data": {
      "text/plain": [
       "'/aiffel/aiffel'"
      ]
     },
     "execution_count": 35,
     "metadata": {},
     "output_type": "execute_result"
    }
   ],
   "source": [
    "%pwd"
   ]
  },
  {
   "cell_type": "code",
   "execution_count": 36,
   "id": "fff66d18",
   "metadata": {},
   "outputs": [
    {
     "name": "stdout",
     "output_type": "stream",
     "text": [
      "Requirement already satisfied: gensim in /opt/conda/lib/python3.9/site-packages (3.8.3)\n",
      "Collecting gensim\n",
      "  Using cached gensim-4.3.2-cp39-cp39-manylinux_2_17_x86_64.manylinux2014_x86_64.whl (26.6 MB)\n",
      "Requirement already satisfied: smart-open>=1.8.1 in /opt/conda/lib/python3.9/site-packages (from gensim) (5.2.1)\n",
      "Requirement already satisfied: scipy>=1.7.0 in /opt/conda/lib/python3.9/site-packages (from gensim) (1.7.1)\n",
      "Requirement already satisfied: numpy>=1.18.5 in /opt/conda/lib/python3.9/site-packages (from gensim) (1.21.4)\n",
      "Installing collected packages: gensim\n",
      "  Attempting uninstall: gensim\n",
      "    Found existing installation: gensim 3.8.3\n",
      "    Uninstalling gensim-3.8.3:\n",
      "      Successfully uninstalled gensim-3.8.3\n",
      "Successfully installed gensim-4.3.2\n",
      "\u001b[33mWARNING: Running pip as the 'root' user can result in broken permissions and conflicting behaviour with the system package manager. It is recommended to use a virtual environment instead: https://pip.pypa.io/warnings/venv\u001b[0m\n",
      "Note: you may need to restart the kernel to use updated packages.\n"
     ]
    }
   ],
   "source": [
    "pip install --upgrade gensim"
   ]
  },
  {
   "cell_type": "code",
   "execution_count": 37,
   "id": "e3974687",
   "metadata": {},
   "outputs": [
    {
     "ename": "SyntaxError",
     "evalue": "invalid syntax (2287109894.py, line 1)",
     "output_type": "error",
     "traceback": [
      "\u001b[0;36m  File \u001b[0;32m\"/tmp/ipykernel_907/2287109894.py\"\u001b[0;36m, line \u001b[0;32m1\u001b[0m\n\u001b[0;31m    gensim 버전 호환성 문제 인거같다..\u001b[0m\n\u001b[0m           ^\u001b[0m\n\u001b[0;31mSyntaxError\u001b[0m\u001b[0;31m:\u001b[0m invalid syntax\n"
     ]
    }
   ],
   "source": [
    "gensim 버전 호환성 문제 인거같다.. "
   ]
  },
  {
   "cell_type": "code",
   "execution_count": null,
   "id": "a28cd6e8",
   "metadata": {},
   "outputs": [],
   "source": [
    "pip install --upgrade gensim==3.8.3"
   ]
  },
  {
   "cell_type": "code",
   "execution_count": 40,
   "id": "67a38a1e",
   "metadata": {},
   "outputs": [],
   "source": [
    "# Kyubyong\n",
    "\n",
    "import gensim\n",
    "vecmodel = gensim.models.Word2Vec.load('sentiment_classification/ko.bin')"
   ]
  },
  {
   "cell_type": "code",
   "execution_count": 41,
   "id": "c4d48c8b",
   "metadata": {},
   "outputs": [
    {
     "name": "stdout",
     "output_type": "stream",
     "text": [
      "(200,)\n"
     ]
    },
    {
     "name": "stderr",
     "output_type": "stream",
     "text": [
      "/tmp/ipykernel_907/649148002.py:1: DeprecationWarning: Call to deprecated `__getitem__` (Method will be removed in 4.0.0, use self.wv.__getitem__() instead).\n",
      "  vector = vecmodel['컴퓨터']\n"
     ]
    }
   ],
   "source": [
    "vector = vecmodel['컴퓨터']\n",
    "print(vector.shape)"
   ]
  },
  {
   "cell_type": "code",
   "execution_count": 42,
   "id": "df169da2",
   "metadata": {},
   "outputs": [
    {
     "name": "stderr",
     "output_type": "stream",
     "text": [
      "/tmp/ipykernel_907/4137427437.py:1: DeprecationWarning: Call to deprecated `similar_by_word` (Method will be removed in 4.0.0, use self.wv.similar_by_word() instead).\n",
      "  vecmodel.similar_by_word(\"사랑\")\n"
     ]
    },
    {
     "data": {
      "text/plain": [
       "[('슬픔', 0.7216662764549255),\n",
       " ('행복', 0.6759077310562134),\n",
       " ('절망', 0.6468985080718994),\n",
       " ('기쁨', 0.6458414196968079),\n",
       " ('이별', 0.6334798336029053),\n",
       " ('추억', 0.6320937275886536),\n",
       " ('인생', 0.6216273307800293),\n",
       " ('애정', 0.6206069588661194),\n",
       " ('연인', 0.6186063289642334),\n",
       " ('유혹', 0.5965287685394287)]"
      ]
     },
     "execution_count": 42,
     "metadata": {},
     "output_type": "execute_result"
    }
   ],
   "source": [
    "vecmodel.similar_by_word(\"사랑\")"
   ]
  },
  {
   "cell_type": "code",
   "execution_count": 43,
   "id": "a0cfaf48",
   "metadata": {},
   "outputs": [
    {
     "name": "stderr",
     "output_type": "stream",
     "text": [
      "/tmp/ipykernel_907/2681527375.py:1: DeprecationWarning: Call to deprecated `similar_by_word` (Method will be removed in 4.0.0, use self.wv.similar_by_word() instead).\n",
      "  vecmodel.similar_by_word(\"진짜\")\n"
     ]
    },
    {
     "data": {
      "text/plain": [
       "[('가짜', 0.5982679128646851),\n",
       " ('정말로', 0.5857688188552856),\n",
       " ('바보', 0.5664166212081909),\n",
       " ('그저', 0.5368781089782715),\n",
       " ('엄마', 0.5301429033279419),\n",
       " ('당신', 0.5208492875099182),\n",
       " ('강아지', 0.5187654495239258),\n",
       " ('프라이빗', 0.5174241065979004),\n",
       " ('수수께끼', 0.5051365494728088),\n",
       " ('약혼자', 0.504402756690979)]"
      ]
     },
     "execution_count": 43,
     "metadata": {},
     "output_type": "execute_result"
    }
   ],
   "source": [
    "vecmodel.similar_by_word(\"진짜\")"
   ]
  },
  {
   "cell_type": "code",
   "execution_count": 46,
   "id": "6f8cefb0",
   "metadata": {},
   "outputs": [
    {
     "name": "stderr",
     "output_type": "stream",
     "text": [
      "/tmp/ipykernel_907/2907448986.py:9: DeprecationWarning: Call to deprecated `__contains__` (Method will be removed in 4.0.0, use self.wv.__contains__() instead).\n",
      "  if index_to_word[i] in vecmodel:\n",
      "/tmp/ipykernel_907/2907448986.py:10: DeprecationWarning: Call to deprecated `__getitem__` (Method will be removed in 4.0.0, use self.wv.__getitem__() instead).\n",
      "  embedding_matrix[i] = vecmodel[index_to_word[i]]\n"
     ]
    },
    {
     "name": "stdout",
     "output_type": "stream",
     "text": [
      "Model: \"sequential_11\"\n",
      "_________________________________________________________________\n",
      "Layer (type)                 Output Shape              Param #   \n",
      "=================================================================\n",
      "embedding_11 (Embedding)     (None, 41, 200)           2000000   \n",
      "_________________________________________________________________\n",
      "conv1d_4 (Conv1D)            (None, 35, 16)            22416     \n",
      "_________________________________________________________________\n",
      "max_pooling1d_2 (MaxPooling1 (None, 7, 16)             0         \n",
      "_________________________________________________________________\n",
      "conv1d_5 (Conv1D)            (None, 1, 16)             1808      \n",
      "_________________________________________________________________\n",
      "global_max_pooling1d_4 (Glob (None, 16)                0         \n",
      "_________________________________________________________________\n",
      "dense_22 (Dense)             (None, 8)                 136       \n",
      "_________________________________________________________________\n",
      "dense_23 (Dense)             (None, 1)                 9         \n",
      "=================================================================\n",
      "Total params: 2,024,369\n",
      "Trainable params: 2,024,369\n",
      "Non-trainable params: 0\n",
      "_________________________________________________________________\n",
      "Epoch 1/20\n",
      "237/237 [==============================] - 5s 9ms/step - loss: 0.5950 - accuracy: 0.6624 - val_loss: 0.4589 - val_accuracy: 0.7879\n",
      "Epoch 2/20\n",
      "237/237 [==============================] - 2s 7ms/step - loss: 0.4028 - accuracy: 0.8200 - val_loss: 0.3791 - val_accuracy: 0.8312\n",
      "Epoch 3/20\n",
      "237/237 [==============================] - 2s 7ms/step - loss: 0.3364 - accuracy: 0.8563 - val_loss: 0.3610 - val_accuracy: 0.8410\n",
      "Epoch 4/20\n",
      "237/237 [==============================] - 2s 7ms/step - loss: 0.2996 - accuracy: 0.8748 - val_loss: 0.3553 - val_accuracy: 0.8442\n",
      "Epoch 5/20\n",
      "237/237 [==============================] - 2s 7ms/step - loss: 0.2744 - accuracy: 0.8876 - val_loss: 0.3695 - val_accuracy: 0.8401\n",
      "Epoch 6/20\n",
      "237/237 [==============================] - 2s 7ms/step - loss: 0.2511 - accuracy: 0.8993 - val_loss: 0.3651 - val_accuracy: 0.8484\n",
      "Epoch 7/20\n",
      "237/237 [==============================] - 2s 7ms/step - loss: 0.2267 - accuracy: 0.9110 - val_loss: 0.3776 - val_accuracy: 0.8452\n",
      "Epoch 8/20\n",
      "237/237 [==============================] - 2s 7ms/step - loss: 0.2059 - accuracy: 0.9218 - val_loss: 0.3999 - val_accuracy: 0.8408\n",
      "Epoch 9/20\n",
      "237/237 [==============================] - 2s 7ms/step - loss: 0.1835 - accuracy: 0.9327 - val_loss: 0.4259 - val_accuracy: 0.8418\n",
      "Epoch 10/20\n",
      "237/237 [==============================] - 2s 7ms/step - loss: 0.1640 - accuracy: 0.9411 - val_loss: 0.4516 - val_accuracy: 0.8392\n",
      "Epoch 11/20\n",
      "237/237 [==============================] - 2s 7ms/step - loss: 0.1459 - accuracy: 0.9492 - val_loss: 0.4909 - val_accuracy: 0.8364\n",
      "Epoch 12/20\n",
      "237/237 [==============================] - 2s 7ms/step - loss: 0.1270 - accuracy: 0.9573 - val_loss: 0.5128 - val_accuracy: 0.8341\n",
      "Epoch 13/20\n",
      "237/237 [==============================] - 2s 7ms/step - loss: 0.1114 - accuracy: 0.9637 - val_loss: 0.5649 - val_accuracy: 0.8309\n",
      "Epoch 14/20\n",
      "237/237 [==============================] - 2s 7ms/step - loss: 0.0984 - accuracy: 0.9678 - val_loss: 0.6033 - val_accuracy: 0.8283\n",
      "Epoch 15/20\n",
      "237/237 [==============================] - 2s 7ms/step - loss: 0.0859 - accuracy: 0.9734 - val_loss: 0.6336 - val_accuracy: 0.8284\n",
      "Epoch 16/20\n",
      "237/237 [==============================] - 2s 7ms/step - loss: 0.0763 - accuracy: 0.9764 - val_loss: 0.6749 - val_accuracy: 0.8290\n",
      "Epoch 17/20\n",
      "237/237 [==============================] - 2s 7ms/step - loss: 0.0688 - accuracy: 0.9793 - val_loss: 0.7203 - val_accuracy: 0.8304\n",
      "Epoch 18/20\n",
      "237/237 [==============================] - 2s 7ms/step - loss: 0.0631 - accuracy: 0.9810 - val_loss: 0.7411 - val_accuracy: 0.8279\n",
      "Epoch 19/20\n",
      "237/237 [==============================] - 2s 7ms/step - loss: 0.0585 - accuracy: 0.9825 - val_loss: 0.7659 - val_accuracy: 0.8270\n",
      "Epoch 20/20\n",
      "237/237 [==============================] - 2s 7ms/step - loss: 0.0569 - accuracy: 0.9825 - val_loss: 0.8275 - val_accuracy: 0.8258\n",
      "1537/1537 - 3s - loss: 0.8420 - accuracy: 0.8238\n",
      "[0.8420485258102417, 0.8238094449043274]\n"
     ]
    }
   ],
   "source": [
    "import numpy as np\n",
    "\n",
    "vocab_size = 10000    # 어휘 사전의 크기입니다(10,000개의 단어)\n",
    "word_vector_dim = 200  # 워드 벡터의 차원수\n",
    "embedding_matrix = np.random.rand(vocab_size, word_vector_dim)\n",
    "\n",
    "# embedding_matrix에 Word2Vec 워드 벡터를 단어 하나씩마다 차례차례 카피한다.\n",
    "for i in range(4,vocab_size):\n",
    "    if index_to_word[i] in vecmodel:\n",
    "        embedding_matrix[i] = vecmodel[index_to_word[i]]\n",
    "    from tensorflow.keras.initializers import Constant\n",
    "\n",
    "vocab_size = 10000    # 어휘 사전의 크기입니다(10,000개의 단어)\n",
    "word_vector_dim = 200  # 워드 벡터의 차원 수 \n",
    "\n",
    "# 모델 구성\n",
    "model = tf.keras.Sequential()\n",
    "model.add(tf.keras.layers.Embedding(vocab_size, \n",
    "                                 word_vector_dim, \n",
    "                                 embeddings_initializer=Constant(embedding_matrix),  # 카피한 임베딩을 여기서 활용\n",
    "                                 input_length=maxlen, \n",
    "                                 trainable=True))   # trainable을 True로 주면 Fine-tuning\n",
    "model.add(tf.keras.layers.Conv1D(16, 7, activation='relu'))\n",
    "model.add(tf.keras.layers.MaxPooling1D(5))\n",
    "model.add(tf.keras.layers.Conv1D(16, 7, activation='relu'))\n",
    "model.add(tf.keras.layers.GlobalMaxPooling1D())\n",
    "model.add(tf.keras.layers.Dense(8, activation='relu'))\n",
    "model.add(tf.keras.layers.Dense(1, activation='sigmoid')) \n",
    "\n",
    "\n",
    "model.summary()\n",
    "\n",
    "model.compile(optimizer='adam',\n",
    "              loss='binary_crossentropy',\n",
    "              metrics=['accuracy'])\n",
    "              \n",
    "epochs=20  # 몇 epoch를 훈련하면 좋을지 결과를 보면서 바꾸어 봅시다. \n",
    "\n",
    "history = model.fit(partial_X_train,\n",
    "                    partial_y_train,\n",
    "                    epochs=epochs,\n",
    "                    batch_size=512,\n",
    "                    validation_data=(X_val, y_val),\n",
    "                    verbose=1)\n",
    "\n",
    "results = model.evaluate(X_test,  y_test, verbose=2)\n",
    "\n",
    "print(results)"
   ]
  },
  {
   "cell_type": "code",
   "execution_count": 48,
   "id": "36144814",
   "metadata": {},
   "outputs": [
    {
     "name": "stdout",
     "output_type": "stream",
     "text": [
      "Epoch 1/5\n",
      "237/237 [==============================] - 2s 8ms/step - loss: 0.5822 - accuracy: 0.6759 - val_loss: 0.4501 - val_accuracy: 0.7938\n",
      "Epoch 2/5\n",
      "237/237 [==============================] - 2s 7ms/step - loss: 0.4011 - accuracy: 0.8198 - val_loss: 0.3892 - val_accuracy: 0.8268\n",
      "Epoch 3/5\n",
      "237/237 [==============================] - 2s 7ms/step - loss: 0.3358 - accuracy: 0.8558 - val_loss: 0.3606 - val_accuracy: 0.8420\n",
      "Epoch 4/5\n",
      "237/237 [==============================] - 2s 7ms/step - loss: 0.3008 - accuracy: 0.8748 - val_loss: 0.3582 - val_accuracy: 0.8458\n",
      "Epoch 5/5\n",
      "237/237 [==============================] - 2s 7ms/step - loss: 0.2730 - accuracy: 0.8891 - val_loss: 0.3622 - val_accuracy: 0.8466\n",
      "1537/1537 - 3s - loss: 0.3678 - accuracy: 0.8445\n",
      "[0.36776024103164673, 0.8444575667381287]\n"
     ]
    }
   ],
   "source": [
    "model = tf.keras.Sequential()\n",
    "model.add(tf.keras.layers.Embedding(vocab_size, \n",
    "                                 word_vector_dim, \n",
    "                                 embeddings_initializer=Constant(embedding_matrix), \n",
    "                                 input_length=maxlen, \n",
    "                                 trainable=True))   \n",
    "model.add(tf.keras.layers.Conv1D(16, 7, activation='relu'))\n",
    "model.add(tf.keras.layers.MaxPooling1D(5))\n",
    "model.add(tf.keras.layers.Conv1D(16, 7, activation='relu'))\n",
    "model.add(tf.keras.layers.GlobalMaxPooling1D())\n",
    "model.add(tf.keras.layers.Dense(8, activation='relu'))\n",
    "model.add(tf.keras.layers.Dense(1, activation='sigmoid')) \n",
    "\n",
    "model.compile(optimizer='adam',\n",
    "              loss='binary_crossentropy',\n",
    "              metrics=['accuracy'])\n",
    "              \n",
    "epochs=5\n",
    "history = model.fit(partial_X_train,\n",
    "                    partial_y_train,\n",
    "                    epochs=epochs,\n",
    "                    batch_size=512,\n",
    "                    validation_data=(X_val, y_val),\n",
    "                    verbose=1)\n",
    "\n",
    "results = model.evaluate(X_test,  y_test, verbose=2)\n",
    "\n",
    "print(results)"
   ]
  },
  {
   "cell_type": "code",
   "execution_count": 49,
   "id": "381d3520",
   "metadata": {},
   "outputs": [
    {
     "name": "stdout",
     "output_type": "stream",
     "text": [
      "Epoch 1/5\n",
      "237/237 [==============================] - 4s 10ms/step - loss: 0.4742 - accuracy: 0.7675 - val_loss: 0.3743 - val_accuracy: 0.8336\n",
      "Epoch 2/5\n",
      "237/237 [==============================] - 2s 8ms/step - loss: 0.3416 - accuracy: 0.8518 - val_loss: 0.3554 - val_accuracy: 0.8435\n",
      "Epoch 3/5\n",
      "237/237 [==============================] - 2s 8ms/step - loss: 0.2992 - accuracy: 0.8734 - val_loss: 0.3345 - val_accuracy: 0.8557\n",
      "Epoch 4/5\n",
      "237/237 [==============================] - 2s 8ms/step - loss: 0.2759 - accuracy: 0.8851 - val_loss: 0.3288 - val_accuracy: 0.8577\n",
      "Epoch 5/5\n",
      "237/237 [==============================] - 2s 8ms/step - loss: 0.2530 - accuracy: 0.8960 - val_loss: 0.3353 - val_accuracy: 0.8591\n",
      "1537/1537 - 3s - loss: 0.3417 - accuracy: 0.8571\n",
      "[0.34170445799827576, 0.8570905327796936]\n"
     ]
    }
   ],
   "source": [
    "model = tf.keras.Sequential()\n",
    "model.add(tf.keras.layers.Embedding(vocab_size, \n",
    "                                 word_vector_dim, \n",
    "                                 embeddings_initializer=Constant(embedding_matrix), \n",
    "                                 input_length=maxlen, \n",
    "                                 trainable=True))   \n",
    "model.add(tf.keras.layers.LSTM(41))   \n",
    "model.add(tf.keras.layers.Dense(41, activation='relu'))\n",
    "model.add(tf.keras.layers.Dense(1, activation='sigmoid'))\n",
    "\n",
    "model.compile(optimizer='adam',\n",
    "              loss='binary_crossentropy',\n",
    "              metrics=['accuracy'])\n",
    "              \n",
    "epochs=5\n",
    "history = model.fit(partial_X_train,\n",
    "                    partial_y_train,\n",
    "                    epochs=epochs,\n",
    "                    batch_size=512,\n",
    "                    validation_data=(X_val, y_val),\n",
    "                    verbose=1)\n",
    "\n",
    "results = model.evaluate(X_test,  y_test, verbose=2)\n",
    "\n",
    "print(results)\n"
   ]
  },
  {
   "cell_type": "markdown",
   "id": "2937b08d",
   "metadata": {},
   "source": [
    "85.7% 달성"
   ]
  }
 ],
 "metadata": {
  "kernelspec": {
   "display_name": "Python 3 (ipykernel)",
   "language": "python",
   "name": "python3"
  },
  "language_info": {
   "codemirror_mode": {
    "name": "ipython",
    "version": 3
   },
   "file_extension": ".py",
   "mimetype": "text/x-python",
   "name": "python",
   "nbconvert_exporter": "python",
   "pygments_lexer": "ipython3",
   "version": "3.9.7"
  }
 },
 "nbformat": 4,
 "nbformat_minor": 5
}
