{
 "cells": [
  {
   "cell_type": "markdown",
   "id": "cf80abba",
   "metadata": {},
   "source": [
    "# 케라스 모델 만드는 방법"
   ]
  },
  {
   "cell_type": "markdown",
   "id": "8a759707",
   "metadata": {},
   "source": [
    "## Sequential 모델"
   ]
  },
  {
   "cell_type": "markdown",
   "id": "6f2f8671",
   "metadata": {},
   "source": [
    "### 7-1"
   ]
  },
  {
   "cell_type": "code",
   "execution_count": 2,
   "id": "2f378701",
   "metadata": {},
   "outputs": [],
   "source": [
    "from tensorflow import keras\n",
    "from tensorflow.keras import layers\n",
    "\n",
    "model = keras.Sequential([\n",
    "    layers.Dense(64, activation=\"relu\"),\n",
    "    layers.Dense(10, activation=\"softmax\")\n",
    "])"
   ]
  },
  {
   "cell_type": "markdown",
   "id": "a7bc27ca",
   "metadata": {},
   "source": [
    "### 7-2"
   ]
  },
  {
   "cell_type": "code",
   "execution_count": 3,
   "id": "8b5b9947",
   "metadata": {},
   "outputs": [],
   "source": [
    "model = keras.Sequential()\n",
    "model.add(layers.Dense(64, activation=\"relu\"))\n",
    "model.add(layers.Dense(10, activation=\"softmax\"))"
   ]
  },
  {
   "cell_type": "code",
   "execution_count": 4,
   "id": "4c344fb9",
   "metadata": {},
   "outputs": [],
   "source": [
    "# 여기서 summary()를 해봤는데 에러가 난다. build 메서드를 호출 하기 전에는 summary 메서드 호출이 불가"
   ]
  },
  {
   "cell_type": "markdown",
   "id": "c975c91e",
   "metadata": {},
   "source": [
    "### 7-4"
   ]
  },
  {
   "cell_type": "code",
   "execution_count": 5,
   "id": "580da018",
   "metadata": {},
   "outputs": [
    {
     "data": {
      "text/plain": [
       "[<tf.Variable 'dense_2/kernel:0' shape=(3, 64) dtype=float32, numpy=\n",
       " array([[-0.22194451, -0.25931036, -0.19071332, -0.14757802, -0.22411583,\n",
       "         -0.00274268,  0.1452058 , -0.15788679, -0.06106791,  0.14621508,\n",
       "          0.03414237, -0.10568352,  0.03055519,  0.0417217 , -0.12742494,\n",
       "          0.0684281 , -0.12203492,  0.25167692,  0.23038691,  0.23833728,\n",
       "          0.0926196 , -0.10030228,  0.12258607, -0.10568866, -0.16835582,\n",
       "          0.06213549, -0.03305492,  0.13493162,  0.19571343,  0.1484172 ,\n",
       "          0.13544339,  0.21171391, -0.29413757, -0.19509435,  0.00664186,\n",
       "         -0.21475491,  0.13804108,  0.2820418 ,  0.09512076, -0.2798221 ,\n",
       "          0.26242185, -0.16775785, -0.10208419, -0.02303773, -0.05152291,\n",
       "          0.22777408,  0.11583468, -0.10906203, -0.23112579,  0.26727754,\n",
       "         -0.14222461, -0.10417481, -0.20828933, -0.296822  ,  0.16000596,\n",
       "          0.0696243 ,  0.13503665,  0.12480149,  0.10826701, -0.1310929 ,\n",
       "         -0.2728206 , -0.2526795 ,  0.21936971, -0.08876283],\n",
       "        [-0.18660313, -0.08275396,  0.22820312,  0.23050511, -0.2768047 ,\n",
       "          0.27085334,  0.13504505, -0.17182808, -0.09818141,  0.1065006 ,\n",
       "         -0.26249218, -0.21997468,  0.12294567, -0.19930327, -0.27616513,\n",
       "          0.08871868,  0.11907628,  0.20330888,  0.03895706,  0.17275217,\n",
       "          0.22205663,  0.06508321, -0.265231  ,  0.06681445, -0.06403296,\n",
       "          0.08527467, -0.02813223, -0.24450836, -0.2663199 ,  0.18494716,\n",
       "          0.1874758 ,  0.14457816, -0.0395354 , -0.2433802 , -0.03403422,\n",
       "          0.29226142,  0.19131163,  0.264987  , -0.08117233,  0.26292282,\n",
       "          0.22352457, -0.15109737,  0.01192716,  0.03583747, -0.10137285,\n",
       "          0.12783134,  0.01669303,  0.23544538,  0.14513245, -0.23467588,\n",
       "         -0.23421499, -0.01301086, -0.13813804,  0.08001935, -0.01747191,\n",
       "          0.2934236 ,  0.09378713,  0.2777565 ,  0.06325155,  0.15890521,\n",
       "         -0.02946177, -0.17517969,  0.08119851, -0.05157363],\n",
       "        [-0.04940139,  0.28604442, -0.0166007 ,  0.07686788,  0.16023633,\n",
       "          0.16708598, -0.24351642,  0.08345646,  0.00642276, -0.02623051,\n",
       "         -0.24164683,  0.25222027,  0.00310275,  0.2866128 ,  0.09349716,\n",
       "          0.22916704, -0.02424663,  0.01359305, -0.13970347, -0.0311535 ,\n",
       "         -0.18530034,  0.1304844 ,  0.09428319, -0.01154244, -0.13679485,\n",
       "          0.05131221,  0.15476477, -0.11158331, -0.2795747 , -0.21493948,\n",
       "          0.0772844 ,  0.25457472, -0.09372212, -0.151998  ,  0.2710896 ,\n",
       "          0.27154404, -0.11594349,  0.16517693,  0.08417818,  0.1313703 ,\n",
       "          0.2138381 , -0.09636255,  0.2709766 , -0.11050668,  0.14650932,\n",
       "          0.26902092, -0.05716528, -0.2894618 , -0.22575283, -0.0377664 ,\n",
       "         -0.08976178,  0.05362794, -0.25376484,  0.1494526 , -0.27511662,\n",
       "         -0.18386553,  0.07586715, -0.24856809, -0.08055609, -0.13068181,\n",
       "         -0.09202313,  0.09782282,  0.21495366, -0.01410082]],\n",
       "       dtype=float32)>,\n",
       " <tf.Variable 'dense_2/bias:0' shape=(64,) dtype=float32, numpy=\n",
       " array([0., 0., 0., 0., 0., 0., 0., 0., 0., 0., 0., 0., 0., 0., 0., 0., 0.,\n",
       "        0., 0., 0., 0., 0., 0., 0., 0., 0., 0., 0., 0., 0., 0., 0., 0., 0.,\n",
       "        0., 0., 0., 0., 0., 0., 0., 0., 0., 0., 0., 0., 0., 0., 0., 0., 0.,\n",
       "        0., 0., 0., 0., 0., 0., 0., 0., 0., 0., 0., 0., 0.], dtype=float32)>,\n",
       " <tf.Variable 'dense_3/kernel:0' shape=(64, 10) dtype=float32, numpy=\n",
       " array([[-2.19429687e-01,  1.40425354e-01, -1.94799542e-01,\n",
       "          2.71946102e-01,  7.31693506e-02, -6.24322742e-02,\n",
       "         -1.11846834e-01,  2.09136307e-02,  9.25129652e-02,\n",
       "          1.89042598e-01],\n",
       "        [-2.76323706e-01, -1.29503891e-01, -1.42139748e-01,\n",
       "         -1.29885361e-01,  2.11385161e-01, -1.48884058e-02,\n",
       "         -5.70473820e-02, -2.84617037e-01,  2.42373556e-01,\n",
       "         -1.22102976e-01],\n",
       "        [ 7.89963305e-02,  9.18983221e-02, -2.62988329e-01,\n",
       "         -2.41092622e-01,  1.93491250e-01, -2.82394081e-01,\n",
       "         -2.65090108e-01, -1.07099116e-02,  1.27616584e-01,\n",
       "         -2.36212611e-02],\n",
       "        [ 2.74781674e-01, -8.97949040e-02,  3.93466055e-02,\n",
       "          1.75698549e-01, -2.68336564e-01,  2.61444598e-01,\n",
       "          3.20830941e-03,  4.12127376e-02, -1.54776886e-01,\n",
       "          1.40749305e-01],\n",
       "        [-2.82263458e-01, -1.00306168e-01, -4.09508198e-02,\n",
       "          2.00393587e-01, -2.54760861e-01, -1.01256609e-01,\n",
       "          7.28226304e-02,  2.84631342e-01, -1.30984485e-02,\n",
       "          8.42627585e-02],\n",
       "        [ 2.33236700e-01, -1.42726600e-02,  1.07013941e-01,\n",
       "          1.53417617e-01, -2.50106752e-02, -1.06402203e-01,\n",
       "         -1.07694671e-01,  1.23273432e-01, -1.65484086e-01,\n",
       "          2.83217877e-01],\n",
       "        [ 2.62734443e-01, -2.46410981e-01, -1.22032762e-02,\n",
       "          1.89001054e-01,  2.34008819e-01, -2.74517268e-01,\n",
       "         -1.83658898e-02,  2.81799436e-02, -1.98631942e-01,\n",
       "          3.04311514e-03],\n",
       "        [ 1.40676796e-01,  1.20303035e-01, -1.01450101e-01,\n",
       "          9.43459272e-02, -1.75649583e-01,  1.35065764e-01,\n",
       "         -6.23408407e-02,  2.58163601e-01, -9.84566659e-02,\n",
       "          2.14397281e-01],\n",
       "        [ 2.74998337e-01, -2.84741431e-01,  2.20440298e-01,\n",
       "         -2.15569109e-01,  2.47923762e-01, -1.84131786e-01,\n",
       "          1.91227019e-01,  1.98669493e-01,  1.12866312e-01,\n",
       "         -2.33643830e-01],\n",
       "        [-2.81707644e-02, -2.08556652e-04, -1.70451939e-01,\n",
       "         -1.98136836e-01,  2.28512555e-01,  2.56580144e-01,\n",
       "          8.72904062e-03, -1.49392337e-01, -2.03703940e-01,\n",
       "         -3.18137705e-02],\n",
       "        [ 2.06456095e-01,  1.21050835e-01, -2.65773952e-01,\n",
       "         -2.60993361e-01, -2.74173528e-01,  2.19321996e-01,\n",
       "         -2.80061215e-01,  2.47823864e-01,  3.11141014e-02,\n",
       "         -2.56921768e-01],\n",
       "        [-1.97368726e-01,  2.14735359e-01, -1.80699378e-01,\n",
       "         -8.48836750e-02,  2.53213853e-01,  1.71158582e-01,\n",
       "         -1.70396268e-02, -2.63767421e-01,  8.05146098e-02,\n",
       "         -2.43484885e-01],\n",
       "        [ 2.79821604e-01,  2.38982052e-01,  7.24733472e-02,\n",
       "          2.00049281e-02,  8.28827024e-02,  8.64936709e-02,\n",
       "         -1.73423022e-01,  2.23217517e-01, -6.60773069e-02,\n",
       "          1.07008845e-01],\n",
       "        [ 1.78262442e-01,  1.30148232e-02, -1.45352527e-01,\n",
       "         -4.39358354e-02, -9.19443369e-03, -9.50055271e-02,\n",
       "         -7.54523873e-02, -1.85220450e-01,  2.56217748e-01,\n",
       "         -2.63488621e-01],\n",
       "        [ 1.19573891e-01, -3.26150060e-02, -1.68239638e-01,\n",
       "          1.41869485e-01,  2.14510649e-01,  3.27173173e-02,\n",
       "         -1.43796712e-01, -1.44805416e-01, -1.71408221e-01,\n",
       "         -1.94142371e-01],\n",
       "        [-2.91242003e-02, -2.48793274e-01, -1.63493440e-01,\n",
       "         -7.10413605e-02, -1.34070247e-01,  1.52236015e-01,\n",
       "          2.56101102e-01,  1.96015239e-01,  9.94548202e-03,\n",
       "         -1.63005859e-01],\n",
       "        [ 8.56459439e-02, -4.91401553e-03, -1.28472254e-01,\n",
       "         -2.25272298e-01, -4.24191952e-02,  5.54936826e-02,\n",
       "         -1.43764809e-01, -3.09021473e-02, -2.69399643e-01,\n",
       "          1.36482835e-01],\n",
       "        [-1.44657493e-02,  7.85780549e-02, -2.12724209e-01,\n",
       "         -2.67515391e-01, -2.21506551e-01, -4.96231765e-02,\n",
       "          1.65038466e-01, -1.24027699e-01,  4.56196070e-02,\n",
       "         -4.07417268e-02],\n",
       "        [ 1.45335495e-01, -1.83275223e-01,  1.81953371e-01,\n",
       "          2.05261707e-01,  6.01500571e-02, -3.82727385e-02,\n",
       "          2.51622528e-01, -1.33063197e-02,  2.28969246e-01,\n",
       "          2.12154031e-01],\n",
       "        [ 2.13817507e-01,  1.36061788e-01, -1.23289123e-01,\n",
       "         -1.97109118e-01, -1.62040681e-01, -4.67762351e-03,\n",
       "         -1.23185053e-01, -1.33503079e-02,  5.83205223e-02,\n",
       "          2.43846148e-01],\n",
       "        [ 1.66586548e-01, -2.51676381e-01,  3.76686454e-02,\n",
       "          1.00821644e-01,  1.22649938e-01,  2.74038047e-01,\n",
       "          3.69450152e-02, -2.20046401e-01, -1.94626153e-01,\n",
       "         -7.04936385e-02],\n",
       "        [ 1.80903792e-01,  2.70720810e-01,  2.78894752e-01,\n",
       "          8.62782598e-02, -1.20346606e-01,  2.63110131e-01,\n",
       "          2.28172928e-01,  1.85373217e-01,  2.08610415e-01,\n",
       "          2.23686427e-01],\n",
       "        [-1.84212178e-01, -1.86219305e-01, -9.09215212e-02,\n",
       "         -3.95240039e-02, -2.23417491e-01, -9.52292830e-02,\n",
       "         -2.39267766e-01,  2.20107466e-01,  4.57781553e-03,\n",
       "         -2.14306712e-02],\n",
       "        [ 2.62062997e-01, -9.83379334e-02,  2.06661850e-01,\n",
       "          1.93457723e-01,  1.22945338e-01, -1.86835736e-01,\n",
       "         -1.56481385e-01,  2.31513888e-01, -1.64969757e-01,\n",
       "          7.79608786e-02],\n",
       "        [ 1.55365229e-01, -1.85513496e-03,  5.45452833e-02,\n",
       "          1.27180725e-01,  1.65502131e-01, -2.48189062e-01,\n",
       "          1.01065904e-01,  1.95818633e-01, -1.90926731e-01,\n",
       "         -2.80832082e-01],\n",
       "        [-1.89024150e-01, -1.03838101e-01,  1.30695224e-01,\n",
       "         -7.82377422e-02, -1.04891390e-01,  1.85164392e-01,\n",
       "          1.66561067e-01, -1.66492239e-01,  1.24388784e-01,\n",
       "          1.45042211e-01],\n",
       "        [-4.16273326e-02,  1.43843770e-01,  6.72109127e-02,\n",
       "         -2.46285647e-01,  2.71142751e-01, -7.31065422e-02,\n",
       "          9.71733630e-02,  8.59993696e-02,  5.63792884e-02,\n",
       "          1.16129816e-02],\n",
       "        [ 1.57226861e-01, -2.82363802e-01,  1.94829881e-01,\n",
       "          8.08190107e-02,  2.53346413e-01,  6.19613230e-02,\n",
       "          2.81390280e-01,  2.69402057e-01,  2.11849958e-01,\n",
       "          5.35664558e-02],\n",
       "        [-1.04228318e-01, -2.02920899e-01, -7.38844872e-02,\n",
       "         -1.96566686e-01, -1.25164285e-01,  2.78757483e-01,\n",
       "         -2.58420348e-01,  5.77975512e-02,  3.88788581e-02,\n",
       "         -1.73751682e-01],\n",
       "        [-1.51077747e-01, -1.29193649e-01, -1.25497356e-01,\n",
       "          5.21501303e-02,  2.09906220e-01,  8.75162184e-02,\n",
       "          2.95137465e-02, -1.07287750e-01, -1.60727575e-01,\n",
       "          9.53299701e-02],\n",
       "        [-2.35607713e-01,  6.55113757e-02, -8.87321681e-02,\n",
       "          1.17626488e-01,  8.45676363e-02, -6.57307357e-02,\n",
       "          1.86041653e-01,  1.49656236e-01,  2.38753706e-01,\n",
       "         -1.53155968e-01],\n",
       "        [ 1.23188108e-01, -3.85744274e-02, -1.11940458e-01,\n",
       "          2.53380239e-02, -1.48130819e-01,  1.81960344e-01,\n",
       "         -1.36987865e-02,  2.60708362e-01, -2.74190426e-01,\n",
       "          2.36644596e-01],\n",
       "        [ 1.98510349e-01, -8.98536295e-02,  3.78773510e-02,\n",
       "         -1.29984826e-01,  1.71727031e-01,  1.98939085e-01,\n",
       "         -2.20848098e-01,  1.30296081e-01,  1.73736602e-01,\n",
       "         -4.31263298e-02],\n",
       "        [ 2.70527333e-01,  1.86483264e-02, -4.26179022e-02,\n",
       "          6.21048510e-02, -1.63929552e-01, -2.18509585e-01,\n",
       "         -2.63224512e-01,  2.55065233e-01,  3.97252738e-02,\n",
       "          9.75490510e-02],\n",
       "        [-2.63107747e-01,  2.04689264e-01,  9.83207524e-02,\n",
       "          5.03784418e-03,  2.01623827e-01, -2.64655024e-01,\n",
       "         -1.33988559e-02,  2.42052108e-01,  2.33524740e-02,\n",
       "          2.76129097e-01],\n",
       "        [-3.32100391e-02,  8.05076957e-03, -2.08605528e-02,\n",
       "         -1.80731967e-01, -1.12589300e-02, -2.73191720e-01,\n",
       "         -1.21414959e-02,  2.28857666e-01, -2.81819195e-01,\n",
       "         -1.65225968e-01],\n",
       "        [ 1.40237838e-01, -1.86695486e-01,  8.91966522e-02,\n",
       "          2.07686454e-01, -1.45209625e-01, -1.74293712e-01,\n",
       "         -2.70796597e-01,  2.40413278e-01, -1.62120253e-01,\n",
       "          8.84776413e-02],\n",
       "        [-2.07247064e-01,  3.80621552e-02, -1.30944639e-01,\n",
       "          1.56346083e-01,  2.42132872e-01, -5.14016002e-02,\n",
       "         -2.35547513e-01, -5.70933521e-02,  9.33113694e-03,\n",
       "         -1.49266407e-01],\n",
       "        [ 2.07225531e-01,  1.94412440e-01,  3.01990211e-02,\n",
       "          1.79341137e-01, -5.47756851e-02, -6.02871925e-02,\n",
       "          2.45375603e-01,  4.82121110e-03,  1.26320243e-01,\n",
       "         -7.46163279e-02],\n",
       "        [ 1.30640149e-01, -9.59807634e-03, -3.33651602e-02,\n",
       "         -1.78755224e-02, -2.47498691e-01, -3.72272432e-02,\n",
       "         -5.84779531e-02, -2.53660589e-01, -2.47932702e-01,\n",
       "          1.28186971e-01],\n",
       "        [ 7.17804134e-02,  2.02769101e-01, -2.23177373e-01,\n",
       "          2.76047498e-01, -2.73344874e-01, -1.97850257e-01,\n",
       "         -2.09833562e-01,  2.51010388e-01, -5.65568209e-02,\n",
       "         -1.67933464e-01],\n",
       "        [-6.91507161e-02, -1.24647990e-01,  9.42087770e-02,\n",
       "         -2.67290592e-01, -2.22730324e-01,  1.99342817e-01,\n",
       "         -2.34268755e-01,  1.99395627e-01, -1.52358338e-01,\n",
       "         -1.07038110e-01],\n",
       "        [-2.58434266e-01,  1.06292754e-01, -1.60825536e-01,\n",
       "          1.11456215e-02,  3.12496126e-02,  1.62512183e-01,\n",
       "          1.57627612e-01, -2.44225502e-01,  7.82855451e-02,\n",
       "          1.35350704e-01],\n",
       "        [ 2.21088529e-03,  1.48119420e-01,  8.78366530e-02,\n",
       "         -8.30322057e-02,  1.85916513e-01,  1.80712640e-02,\n",
       "         -2.73426473e-01, -2.65902758e-01, -2.33561754e-01,\n",
       "         -1.60575777e-01],\n",
       "        [-7.70451277e-02,  1.81949139e-01, -4.95329499e-02,\n",
       "          1.39434308e-01, -1.55225307e-01,  1.49918616e-01,\n",
       "         -1.40771642e-01,  1.36482090e-01,  1.42767727e-01,\n",
       "          1.96011901e-01],\n",
       "        [-2.76184827e-01, -1.61155611e-01, -3.05888057e-03,\n",
       "         -1.98370159e-01,  2.18296260e-01, -6.17702901e-02,\n",
       "          1.36114925e-01,  1.95633292e-01,  9.32081640e-02,\n",
       "         -2.35153943e-01],\n",
       "        [ 2.38775104e-01, -8.89748335e-03,  7.36111104e-02,\n",
       "         -2.01139495e-01,  2.68478096e-02, -2.59494096e-01,\n",
       "         -7.09610432e-02, -2.55733788e-01,  2.79195577e-01,\n",
       "         -1.95128590e-01],\n",
       "        [-2.32508585e-01,  2.20258027e-01,  2.85804868e-02,\n",
       "          2.17034072e-01, -2.18826428e-01,  1.58738762e-01,\n",
       "         -5.79012930e-02,  2.54745036e-01, -1.47970676e-01,\n",
       "         -7.24858344e-02],\n",
       "        [ 2.38599569e-01,  1.71935588e-01,  2.45778650e-01,\n",
       "         -1.14693046e-02, -4.46285754e-02,  3.65067422e-02,\n",
       "          2.61657506e-01, -2.49722943e-01, -8.84264708e-04,\n",
       "         -4.08318192e-02],\n",
       "        [ 9.83589590e-02,  2.69734174e-01,  1.56661958e-01,\n",
       "         -1.05070755e-01,  2.22826034e-01,  2.64688998e-01,\n",
       "         -2.68409133e-01,  2.63995856e-01, -1.21970654e-01,\n",
       "         -1.40649647e-01],\n",
       "        [ 1.90301061e-01, -1.83356553e-01, -2.40410879e-01,\n",
       "         -6.79355711e-02, -1.01997286e-01,  2.27566630e-01,\n",
       "          1.13383293e-01,  5.66228628e-02,  9.82239544e-02,\n",
       "          1.86481565e-01],\n",
       "        [ 1.85268849e-01,  1.18445843e-01, -1.90926462e-01,\n",
       "          6.24570549e-02,  1.02347314e-01,  2.24043638e-01,\n",
       "         -1.94159210e-01,  2.32971996e-01,  1.58218950e-01,\n",
       "         -2.81088650e-01],\n",
       "        [-1.80608213e-01, -2.56868958e-01,  2.26334661e-01,\n",
       "          2.69603223e-01, -1.64035946e-01, -1.71050996e-01,\n",
       "          2.80179769e-01, -1.58087298e-01,  1.84981495e-01,\n",
       "         -2.70213157e-01],\n",
       "        [-5.01648635e-02,  1.06408387e-01, -1.29107222e-01,\n",
       "          2.20166475e-01,  1.68827951e-01,  1.16094947e-02,\n",
       "         -2.40796894e-01, -2.15275019e-01,  1.78408206e-01,\n",
       "          2.25242823e-01],\n",
       "        [ 5.96837997e-02,  1.08013749e-01, -2.53504574e-01,\n",
       "          1.40284747e-01, -1.84601724e-01, -6.30452484e-02,\n",
       "          4.24968600e-02,  1.14620775e-01, -1.88650817e-01,\n",
       "         -2.22750694e-01],\n",
       "        [-1.55286536e-01, -7.87099004e-02, -2.33776569e-02,\n",
       "         -1.76106751e-01, -2.38227427e-01,  1.16667777e-01,\n",
       "         -8.37345868e-02, -2.50512302e-01, -7.57978708e-02,\n",
       "          1.92107856e-02],\n",
       "        [-1.75123453e-01,  8.82568657e-02, -1.44214571e-01,\n",
       "          1.99156314e-01, -2.81064004e-01,  2.07485437e-01,\n",
       "          1.69391304e-01, -7.80268013e-02, -2.55580962e-01,\n",
       "          7.20539689e-03],\n",
       "        [ 2.45745689e-01, -1.91502571e-01,  2.75186092e-01,\n",
       "          9.98064280e-02,  5.34559786e-02, -4.33121324e-02,\n",
       "          7.04131722e-02, -1.41615868e-02,  2.52797157e-01,\n",
       "         -1.06595010e-01],\n",
       "        [ 1.40717894e-01, -1.79612890e-01,  2.39114761e-02,\n",
       "         -7.54539520e-02,  1.47107869e-01, -4.81829047e-02,\n",
       "          5.48953116e-02, -2.64303684e-01, -1.82219148e-01,\n",
       "         -1.94440201e-01],\n",
       "        [ 6.77573681e-02, -1.10150561e-01, -4.24131453e-02,\n",
       "          1.93168819e-02,  7.32264519e-02,  2.60678798e-01,\n",
       "          6.35675788e-02,  2.18054205e-01, -1.89324215e-01,\n",
       "         -8.19325447e-03],\n",
       "        [ 1.91436440e-01,  1.97622627e-01, -5.94825745e-02,\n",
       "         -1.51909605e-01,  1.16817802e-01,  4.00019288e-02,\n",
       "          1.53481692e-01, -1.95599809e-01,  8.34283233e-03,\n",
       "          4.79730070e-02],\n",
       "        [ 1.68268830e-01, -1.64177299e-01,  1.49192005e-01,\n",
       "         -2.31038451e-01, -3.93189788e-02,  2.79002279e-01,\n",
       "          1.44046694e-01,  4.17490005e-02, -9.93146449e-02,\n",
       "         -2.40524724e-01],\n",
       "        [-2.13586390e-02,  2.10275382e-01, -1.59066871e-01,\n",
       "          1.37311220e-02, -1.91628307e-01,  1.11700475e-01,\n",
       "         -8.05987120e-02, -1.41408443e-01, -1.80759430e-02,\n",
       "         -1.17903754e-01],\n",
       "        [-2.36865029e-01, -1.07437968e-02,  1.31959110e-01,\n",
       "         -1.31292775e-01,  8.13405514e-02,  2.69754022e-01,\n",
       "         -2.17590645e-01,  1.76218241e-01, -6.05556220e-02,\n",
       "         -1.60632521e-01]], dtype=float32)>,\n",
       " <tf.Variable 'dense_3/bias:0' shape=(10,) dtype=float32, numpy=array([0., 0., 0., 0., 0., 0., 0., 0., 0., 0.], dtype=float32)>]"
      ]
     },
     "execution_count": 5,
     "metadata": {},
     "output_type": "execute_result"
    }
   ],
   "source": [
    "model.build(input_shape=(None, 3))\n",
    "model.weights"
   ]
  },
  {
   "cell_type": "markdown",
   "id": "a2d7a470",
   "metadata": {},
   "source": [
    "### 7-5"
   ]
  },
  {
   "cell_type": "code",
   "execution_count": 6,
   "id": "da4d0b83",
   "metadata": {},
   "outputs": [
    {
     "name": "stdout",
     "output_type": "stream",
     "text": [
      "Model: \"sequential_1\"\n",
      "_________________________________________________________________\n",
      "Layer (type)                 Output Shape              Param #   \n",
      "=================================================================\n",
      "dense_2 (Dense)              (None, 64)                256       \n",
      "_________________________________________________________________\n",
      "dense_3 (Dense)              (None, 10)                650       \n",
      "=================================================================\n",
      "Total params: 906\n",
      "Trainable params: 906\n",
      "Non-trainable params: 0\n",
      "_________________________________________________________________\n"
     ]
    }
   ],
   "source": [
    "model.summary()"
   ]
  },
  {
   "cell_type": "markdown",
   "id": "f5a51cf9",
   "metadata": {},
   "source": [
    "### 7-6"
   ]
  },
  {
   "cell_type": "code",
   "execution_count": 7,
   "id": "c10ea9d1",
   "metadata": {},
   "outputs": [
    {
     "name": "stdout",
     "output_type": "stream",
     "text": [
      "Model: \"내 모델\"\n",
      "_________________________________________________________________\n",
      "Layer (type)                 Output Shape              Param #   \n",
      "=================================================================\n",
      "1floor (Dense)               (None, 64)                256       \n",
      "_________________________________________________________________\n",
      "2floor (Dense)               (None, 10)                650       \n",
      "=================================================================\n",
      "Total params: 906\n",
      "Trainable params: 906\n",
      "Non-trainable params: 0\n",
      "_________________________________________________________________\n"
     ]
    }
   ],
   "source": [
    "model = keras.Sequential(name=\"내 모델\")\n",
    "model.add(layers.Dense(64, activation=\"relu\", name=\"1floor\"))\n",
    "model.add(layers.Dense(10, activation=\"softmax\", name=\"2floor\"))\n",
    "model.build((None, 3))\n",
    "model.summary()"
   ]
  },
  {
   "cell_type": "code",
   "execution_count": 8,
   "id": "f7c3bf98",
   "metadata": {},
   "outputs": [],
   "source": [
    "# 모델 명에는 한글이 들어가도 되는데, add 메서드 안의 layer name으로는 한글이 못들어가는 듯 하다."
   ]
  },
  {
   "cell_type": "markdown",
   "id": "9f4b10c4",
   "metadata": {},
   "source": [
    "### 7-7 "
   ]
  },
  {
   "cell_type": "code",
   "execution_count": 9,
   "id": "f7cc3c0d",
   "metadata": {},
   "outputs": [],
   "source": [
    "model = keras.Sequential()\n",
    "model.add(keras.Input(shape=(3,)))\n",
    "model.add(layers.Dense(64, activation=\"relu\"))"
   ]
  },
  {
   "cell_type": "code",
   "execution_count": 10,
   "id": "c35fc5be",
   "metadata": {},
   "outputs": [
    {
     "name": "stdout",
     "output_type": "stream",
     "text": [
      "Model: \"sequential_2\"\n",
      "_________________________________________________________________\n",
      "Layer (type)                 Output Shape              Param #   \n",
      "=================================================================\n",
      "dense_4 (Dense)              (None, 64)                256       \n",
      "=================================================================\n",
      "Total params: 256\n",
      "Trainable params: 256\n",
      "Non-trainable params: 0\n",
      "_________________________________________________________________\n"
     ]
    }
   ],
   "source": [
    "model.summary()\n"
   ]
  },
  {
   "cell_type": "code",
   "execution_count": 11,
   "id": "63fb302c",
   "metadata": {},
   "outputs": [],
   "source": [
    "# input layer를 사용하면 summary를 바로 활용할 수 있다."
   ]
  },
  {
   "cell_type": "code",
   "execution_count": 12,
   "id": "901a159e",
   "metadata": {},
   "outputs": [
    {
     "name": "stdout",
     "output_type": "stream",
     "text": [
      "Model: \"sequential_2\"\n",
      "_________________________________________________________________\n",
      "Layer (type)                 Output Shape              Param #   \n",
      "=================================================================\n",
      "dense_4 (Dense)              (None, 64)                256       \n",
      "_________________________________________________________________\n",
      "dense_5 (Dense)              (None, 10)                650       \n",
      "=================================================================\n",
      "Total params: 906\n",
      "Trainable params: 906\n",
      "Non-trainable params: 0\n",
      "_________________________________________________________________\n"
     ]
    }
   ],
   "source": [
    "model.add(layers.Dense(10, activation=\"softmax\"))\n",
    "model.summary()"
   ]
  },
  {
   "cell_type": "markdown",
   "id": "49700800",
   "metadata": {},
   "source": [
    "## 함수형 API"
   ]
  },
  {
   "cell_type": "markdown",
   "id": "7fe5794d",
   "metadata": {},
   "source": [
    "### 7-8"
   ]
  },
  {
   "cell_type": "code",
   "execution_count": 13,
   "id": "bb477e49",
   "metadata": {},
   "outputs": [],
   "source": [
    "inputs = keras.Input(shape=(3,), name=\"my_input\")\n",
    "features = layers.Dense(64, activation=\"relu\")(inputs)\n",
    "outputs = layers.Dense(10, activation=\"softmax\")(features)\n",
    "model = keras.Model(inputs=inputs, outputs=outputs)"
   ]
  },
  {
   "cell_type": "code",
   "execution_count": 14,
   "id": "68edb6ba",
   "metadata": {},
   "outputs": [
    {
     "data": {
      "text/plain": [
       "TensorShape([None, 10])"
      ]
     },
     "execution_count": 14,
     "metadata": {},
     "output_type": "execute_result"
    }
   ],
   "source": [
    "outputs.shape"
   ]
  },
  {
   "cell_type": "code",
   "execution_count": 15,
   "id": "8fbe72f4",
   "metadata": {},
   "outputs": [
    {
     "name": "stdout",
     "output_type": "stream",
     "text": [
      "Model: \"model\"\n",
      "_________________________________________________________________\n",
      "Layer (type)                 Output Shape              Param #   \n",
      "=================================================================\n",
      "my_input (InputLayer)        [(None, 3)]               0         \n",
      "_________________________________________________________________\n",
      "dense_6 (Dense)              (None, 64)                256       \n",
      "_________________________________________________________________\n",
      "dense_7 (Dense)              (None, 10)                650       \n",
      "=================================================================\n",
      "Total params: 906\n",
      "Trainable params: 906\n",
      "Non-trainable params: 0\n",
      "_________________________________________________________________\n"
     ]
    }
   ],
   "source": [
    "model.summary()"
   ]
  },
  {
   "cell_type": "markdown",
   "id": "cfdbfb21",
   "metadata": {},
   "source": [
    "### 7-9"
   ]
  },
  {
   "cell_type": "code",
   "execution_count": 16,
   "id": "2971e0c2",
   "metadata": {},
   "outputs": [],
   "source": [
    "vocab = 10000\n",
    "num_tags = 100\n",
    "num_departm = 4 \n",
    "\n",
    "title = keras.Input(shape=(vocab,), name=\"title\")\n",
    "text_body = keras.Input(shape=(vocab,), name=\"text_body\")\n",
    "tags = keras.Input(shape=(num_tags,), name=\"tags\")\n",
    "\n",
    "features = layers.Concatenate()([title, text_body, tags])\n",
    "features = layers.Dense(64, activation=\"relu\")(features)\n",
    "\n",
    "priority = layers.Dense(1, activation=\"sigmoid\", name=\"priority\")(features)\n",
    "department = layers.Dense(\n",
    "    num_departm, activation=\"softmax\", name=\"department\")(features)\n",
    "\n",
    "model = keras.Model(inputs=[title, text_body, tags], outputs=[priority, department])\n",
    "\n"
   ]
  },
  {
   "cell_type": "markdown",
   "id": "bd5e1e2f",
   "metadata": {},
   "source": [
    "### 7-10"
   ]
  },
  {
   "cell_type": "code",
   "execution_count": 17,
   "id": "8e9a2f13",
   "metadata": {},
   "outputs": [
    {
     "name": "stdout",
     "output_type": "stream",
     "text": [
      "40/40 [==============================] - 2s 22ms/step - loss: 43.1841 - priority_loss: 0.3128 - department_loss: 42.8713 - priority_mean_absolute_error: 0.4816 - department_accuracy: 0.2750\n",
      "40/40 [==============================] - 1s 7ms/step - loss: 46.7357 - priority_loss: 0.3327 - department_loss: 46.4030 - priority_mean_absolute_error: 0.5003 - department_accuracy: 0.1203\n"
     ]
    }
   ],
   "source": [
    "import numpy as np\n",
    "\n",
    "num_samples = 1280\n",
    "\n",
    "title_data = np.random.randint(0, 2, size=(num_samples, vocab))\n",
    "text_body_data = np.random.randint(0, 2, size=(num_samples, vocab))\n",
    "tags_data = np.random.randint(0, 2, size=(num_samples, num_tags))\n",
    "\n",
    "priority_data = np.random.random(size=(num_samples, 1))\n",
    "department_data = np.random.randint(0, 2, size=(num_samples, num_departm))\n",
    "\n",
    "model.compile(optimizer=\"rmsprop\",\n",
    "              loss=[\"mean_squared_error\", \"categorical_crossentropy\"],\n",
    "              metrics=[[\"mean_absolute_error\"], [\"accuracy\"]])\n",
    "model.fit([title_data, text_body_data, tags_data],\n",
    "          [priority_data, department_data],\n",
    "          epochs=1)\n",
    "model.evaluate([title_data, text_body_data, tags_data],\n",
    "               [priority_data, department_data])\n",
    "priority_preds, department_preds = model.predict([title_data, text_body_data, tags_data])"
   ]
  },
  {
   "cell_type": "code",
   "execution_count": 18,
   "id": "0799705f",
   "metadata": {},
   "outputs": [
    {
     "name": "stdout",
     "output_type": "stream",
     "text": [
      "40/40 [==============================] - 2s 24ms/step - loss: 42.6207 - priority_loss: 0.3296 - department_loss: 42.2911 - priority_mean_absolute_error: 0.4972 - department_accuracy: 0.2766\n",
      "40/40 [==============================] - 0s 7ms/step - loss: 51.1718 - priority_loss: 0.3321 - department_loss: 50.8397 - priority_mean_absolute_error: 0.4996 - department_accuracy: 0.5688\n"
     ]
    }
   ],
   "source": [
    "model.compile(optimizer=\"rmsprop\",\n",
    "              loss={\"priority\": \"mean_squared_error\", \"department\": \"categorical_crossentropy\"},\n",
    "              metrics={\"priority\": [\"mean_absolute_error\"], \"department\": [\"accuracy\"]})\n",
    "model.fit({\"text_body\": text_body_data, \"title\": title_data, \"tags\": tags_data},\n",
    "          {\"priority\": priority_data, \"department\": department_data},\n",
    "          epochs=1)\n",
    "model.evaluate({\"title\": title_data, \"tags\": tags_data, \"text_body\": text_body_data},\n",
    "               {\"priority\": priority_data, \"department\": department_data})\n",
    "priority_preds, department_preds = model.predict(\n",
    "    {\"text_body\": text_body_data, \"title\": title_data, \"tags\": tags_data})"
   ]
  },
  {
   "cell_type": "code",
   "execution_count": 19,
   "id": "74635ad6",
   "metadata": {},
   "outputs": [],
   "source": [
    "# 입출력이 굉장히 많은 경우, 순서를 하나하나 지켜가면서 추가하기 어려우니까 쓰는 방법"
   ]
  },
  {
   "cell_type": "code",
   "execution_count": 20,
   "id": "e6003185",
   "metadata": {},
   "outputs": [
    {
     "data": {
      "image/png": "[encoded data removed]",
      "text/plain": [
       "<IPython.core.display.Image object>"
      ]
     },
     "execution_count": 20,
     "metadata": {},
     "output_type": "execute_result"
    }
   ],
   "source": [
    "keras.utils.plot_model(model, \"ticket_classifier.png\")"
   ]
  },
  {
   "cell_type": "code",
   "execution_count": 21,
   "id": "e94bde83",
   "metadata": {},
   "outputs": [
    {
     "data": {
      "image/png": "[encoded data removed]",
      "text/plain": [
       "<IPython.core.display.Image object>"
      ]
     },
     "execution_count": 21,
     "metadata": {},
     "output_type": "execute_result"
    }
   ],
   "source": [
    "keras.utils.plot_model(model, \"ticket_classifier_with_shape_info.png\", show_shapes=True)"
   ]
  },
  {
   "cell_type": "code",
   "execution_count": 22,
   "id": "2e849ce0",
   "metadata": {},
   "outputs": [
    {
     "data": {
      "text/plain": [
       "[<keras.engine.input_layer.InputLayer at 0x7cd27c442e50>,\n",
       " <keras.engine.input_layer.InputLayer at 0x7cd27c442eb0>,\n",
       " <keras.engine.input_layer.InputLayer at 0x7cd27c49ddf0>,\n",
       " <keras.layers.merge.Concatenate at 0x7cd27c43ffd0>,\n",
       " <keras.layers.core.Dense at 0x7cd27c43f4f0>,\n",
       " <keras.layers.core.Dense at 0x7cd27c4a9bb0>,\n",
       " <keras.layers.core.Dense at 0x7cd27c4a93d0>]"
      ]
     },
     "execution_count": 22,
     "metadata": {},
     "output_type": "execute_result"
    }
   ],
   "source": [
    "model.layers"
   ]
  },
  {
   "cell_type": "code",
   "execution_count": 23,
   "id": "a5717dac",
   "metadata": {},
   "outputs": [
    {
     "data": {
      "text/plain": [
       "<KerasTensor: shape=(None, 10000) dtype=float32 (created by layer 'title')>"
      ]
     },
     "execution_count": 23,
     "metadata": {},
     "output_type": "execute_result"
    }
   ],
   "source": [
    "model.layers[0].input"
   ]
  },
  {
   "cell_type": "code",
   "execution_count": 24,
   "id": "3d1ad5e1",
   "metadata": {},
   "outputs": [
    {
     "data": {
      "text/plain": [
       "<KerasTensor: shape=(None, 64) dtype=float32 (created by layer 'dense_8')>"
      ]
     },
     "execution_count": 24,
     "metadata": {},
     "output_type": "execute_result"
    }
   ],
   "source": [
    "model.layers[4].output"
   ]
  },
  {
   "cell_type": "markdown",
   "id": "c11d9e0d",
   "metadata": {},
   "source": [
    "### 7-13"
   ]
  },
  {
   "cell_type": "code",
   "execution_count": 25,
   "id": "a4ee7437",
   "metadata": {},
   "outputs": [],
   "source": [
    "features = model.layers[4].output\n",
    "difficulty = layers.Dense(3, activation=\"softmax\", name=\"difficulty\")(features)\n",
    "\n",
    "new_model = keras.Model(\n",
    "    inputs=[title, text_body, tags],\n",
    "    outputs=[priority, department, difficulty])"
   ]
  },
  {
   "cell_type": "code",
   "execution_count": 26,
   "id": "55f82e25",
   "metadata": {},
   "outputs": [
    {
     "data": {
      "image/png": "[encoded data removed]",
      "text/plain": [
       "<IPython.core.display.Image object>"
      ]
     },
     "execution_count": 26,
     "metadata": {},
     "output_type": "execute_result"
    }
   ],
   "source": [
    "keras.utils.plot_model(new_model, \"ticket_classifier_with_shape_info.png\", show_shapes=True)"
   ]
  },
  {
   "cell_type": "markdown",
   "id": "7ab1b3fb",
   "metadata": {},
   "source": [
    "### 7-14"
   ]
  },
  {
   "cell_type": "code",
   "execution_count": 27,
   "id": "90d51b9e",
   "metadata": {},
   "outputs": [
    {
     "name": "stdout",
     "output_type": "stream",
     "text": [
      "40/40 [==============================] - 2s 24ms/step - loss: 29.7178 - output_1_loss: 0.3282 - output_2_loss: 29.3896 - output_1_mean_absolute_error: 0.4960 - output_2_accuracy: 0.1977\n",
      "40/40 [==============================] - 1s 8ms/step - loss: 28.0537 - output_1_loss: 0.3321 - output_2_loss: 27.7216 - output_1_mean_absolute_error: 0.4996 - output_2_accuracy: 0.0688\n"
     ]
    }
   ],
   "source": [
    "class CustomerTicketModel(keras.Model):   # keras.Model 클래스를 상속받음. keras.Model이 갖는 모든 속성과 메서드를 사용할 수 있게 된다.\n",
    "\n",
    "    def __init__(self, num_departments):\n",
    "        super().__init__()    # 상속받은 클래스의 init 초기화 method를 수행한다.\n",
    "        self.concat_layer = layers.Concatenate()\n",
    "        self.mixing_layer = layers.Dense(64, activation=\"relu\")\n",
    "        self.priority_scorer = layers.Dense(1, activation=\"sigmoid\")\n",
    "        self.department_classifier = layers.Dense(\n",
    "            num_departments, activation=\"softmax\")\n",
    "\n",
    "    def call(self, inputs):\n",
    "        title = inputs[\"title\"]\n",
    "        text_body = inputs[\"text_body\"]\n",
    "        tags = inputs[\"tags\"]\n",
    "\n",
    "        features = self.concat_layer([title, text_body, tags])\n",
    "        features = self.mixing_layer(features)\n",
    "        priority = self.priority_scorer(features)\n",
    "        department = self.department_classifier(features)\n",
    "        return priority, department  # forward passing\n",
    "    \n",
    "model = CustomerTicketModel(num_departments=4)\n",
    "\n",
    "priority, department = model(\n",
    "    {\"title\": title_data, \"text_body\": text_body_data, \"tags\": tags_data})\n",
    "\n",
    "\n",
    "model.compile(optimizer=\"rmsprop\",\n",
    "              loss=[\"mean_squared_error\", \"categorical_crossentropy\"],\n",
    "              metrics=[[\"mean_absolute_error\"], [\"accuracy\"]])\n",
    "model.fit({\"title\": title_data,\n",
    "           \"text_body\": text_body_data,\n",
    "           \"tags\": tags_data},\n",
    "          [priority_data, department_data],\n",
    "          epochs=1)\n",
    "model.evaluate({\"title\": title_data,\n",
    "                \"text_body\": text_body_data,\n",
    "                \"tags\": tags_data},\n",
    "               [priority_data, department_data])\n",
    "priority_preds, department_preds = model.predict({\"title\": title_data,\n",
    "                                                  \"text_body\": text_body_data,\n",
    "                                                  \"tags\": tags_data})"
   ]
  },
  {
   "cell_type": "markdown",
   "id": "7fafec4e",
   "metadata": {},
   "source": [
    "### 7-15"
   ]
  },
  {
   "cell_type": "code",
   "execution_count": 28,
   "id": "eaf68044",
   "metadata": {},
   "outputs": [],
   "source": [
    "class Classifier(keras.Model):\n",
    "\n",
    "    def __init__(self, num_classes=2):\n",
    "        super().__init__()\n",
    "        if num_classes == 2:\n",
    "            num_units = 1\n",
    "            activation = \"sigmoid\"\n",
    "        else:\n",
    "            num_units = num_classes\n",
    "            activation = \"softmax\"\n",
    "        self.dense = layers.Dense(num_units, activation=activation)   # 이진 분류와 다중 분류 구분\n",
    "\n",
    "    def call(self, inputs):\n",
    "        return self.dense(inputs)\n",
    "\n",
    "inputs = keras.Input(shape=(3,))\n",
    "features = layers.Dense(64, activation=\"relu\")(inputs)\n",
    "outputs = Classifier(num_classes=10)(features)   \n",
    "model = keras.Model(inputs=inputs, outputs=outputs)"
   ]
  },
  {
   "cell_type": "code",
   "execution_count": 29,
   "id": "fd347177",
   "metadata": {},
   "outputs": [],
   "source": [
    "inputs = keras.Input(shape=(64,))\n",
    "outputs = layers.Dense(1, activation=\"sigmoid\")(inputs)\n",
    "binary_classifier = keras.Model(inputs=inputs, outputs=outputs)\n",
    "\n",
    "class MyModel(keras.Model):\n",
    "\n",
    "    def __init__(self, num_classes=2):\n",
    "        super().__init__()\n",
    "        self.dense = layers.Dense(64, activation=\"relu\")\n",
    "        self.classifier = binary_classifier\n",
    "\n",
    "    def call(self, inputs):\n",
    "        features = self.dense(inputs)\n",
    "        return self.classifier(features)\n",
    "\n",
    "model = MyModel()"
   ]
  },
  {
   "cell_type": "markdown",
   "id": "f47a4f5b",
   "metadata": {},
   "source": [
    "### 7-17"
   ]
  },
  {
   "cell_type": "code",
   "execution_count": 30,
   "id": "5fcd50e1",
   "metadata": {},
   "outputs": [
    {
     "name": "stdout",
     "output_type": "stream",
     "text": [
      "Epoch 1/3\n",
      "1563/1563 [==============================] - 10s 6ms/step - loss: 0.2913 - accuracy: 0.9146 - val_loss: 0.1468 - val_accuracy: 0.9579\n",
      "Epoch 2/3\n",
      "1563/1563 [==============================] - 10s 6ms/step - loss: 0.1638 - accuracy: 0.9532 - val_loss: 0.1237 - val_accuracy: 0.9668\n",
      "Epoch 3/3\n",
      "1563/1563 [==============================] - 10s 6ms/step - loss: 0.1391 - accuracy: 0.9634 - val_loss: 0.1084 - val_accuracy: 0.9719\n",
      "313/313 [==============================] - 1s 2ms/step - loss: 0.1060 - accuracy: 0.9722\n"
     ]
    }
   ],
   "source": [
    "from tensorflow.keras.datasets import mnist\n",
    "\n",
    "def get_mnist_model():\n",
    "    inputs = keras.Input(shape=(28 * 28,))\n",
    "    features = layers.Dense(512, activation=\"relu\")(inputs)\n",
    "    features = layers.Dropout(0.5)(features)\n",
    "    outputs = layers.Dense(10, activation=\"softmax\")(features)\n",
    "    model = keras.Model(inputs, outputs)\n",
    "    return model\n",
    "\n",
    "(images, labels), (test_images, test_labels) = mnist.load_data()\n",
    "images = images.reshape((60000, 28 * 28)).astype(\"float32\") / 255\n",
    "test_images = test_images.reshape((10000, 28 * 28)).astype(\"float32\") / 255\n",
    "train_images, val_images = images[10000:], images[:10000]\n",
    "train_labels, val_labels = labels[10000:], labels[:10000]\n",
    "\n",
    "model = get_mnist_model()\n",
    "model.compile(optimizer=\"rmsprop\",\n",
    "              loss=\"sparse_categorical_crossentropy\",\n",
    "              metrics=[\"accuracy\"])\n",
    "model.fit(train_images, train_labels,\n",
    "          epochs=3,\n",
    "          validation_data=(val_images, val_labels))\n",
    "test_metrics = model.evaluate(test_images, test_labels)\n",
    "predictions = model.predict(test_images)"
   ]
  },
  {
   "cell_type": "markdown",
   "id": "05eae856",
   "metadata": {},
   "source": [
    "### 7-18"
   ]
  },
  {
   "cell_type": "code",
   "execution_count": 31,
   "id": "01c946c1",
   "metadata": {},
   "outputs": [],
   "source": [
    "import tensorflow as tf\n",
    "\n",
    "class RootMeanSquaredError(keras.metrics.Metric):\n",
    "\n",
    "    def __init__(self, name=\"rmse\", **kwargs):\n",
    "        super().__init__(name=name, **kwargs)\n",
    "        self.mse_sum = self.add_weight(name=\"mse_sum\", initializer=\"zeros\")\n",
    "        self.total_samples = self.add_weight(\n",
    "            name=\"total_samples\", initializer=\"zeros\", dtype=\"int32\")\n",
    "\n",
    "    def update_state(self, y_true, y_pred, sample_weight=None):\n",
    "        y_true = tf.one_hot(y_true, depth=tf.shape(y_pred)[1])\n",
    "        mse = tf.reduce_sum(tf.square(y_true - y_pred))\n",
    "        self.mse_sum.assign_add(mse)\n",
    "        num_samples = tf.shape(y_pred)[0]\n",
    "        self.total_samples.assign_add(num_samples)\n",
    "\n",
    "    def result(self):\n",
    "        return tf.sqrt(self.mse_sum / tf.cast(self.total_samples, tf.float32))\n",
    "\n",
    "    def reset_state(self):\n",
    "        self.mse_sum.assign(0.)\n",
    "        self.total_samples.assign(0)"
   ]
  },
  {
   "cell_type": "code",
   "execution_count": 32,
   "id": "92b7e198",
   "metadata": {},
   "outputs": [
    {
     "name": "stdout",
     "output_type": "stream",
     "text": [
      "Epoch 1/3\n",
      "1563/1563 [==============================] - 10s 6ms/step - loss: 0.2983 - accuracy: 0.9111 - rmse: 7.1778 - val_loss: 0.1498 - val_accuracy: 0.9576 - val_rmse: 7.3627\n",
      "Epoch 2/3\n",
      "1563/1563 [==============================] - 10s 6ms/step - loss: 0.1628 - accuracy: 0.9546 - rmse: 7.3573 - val_loss: 0.1302 - val_accuracy: 0.9665 - val_rmse: 7.4030\n",
      "Epoch 3/3\n",
      "1563/1563 [==============================] - 10s 6ms/step - loss: 0.1392 - accuracy: 0.9627 - rmse: 7.3885 - val_loss: 0.1213 - val_accuracy: 0.9687 - val_rmse: 7.4233\n",
      "313/313 [==============================] - 1s 2ms/step - loss: 0.1164 - accuracy: 0.9689 - rmse: 7.4337\n"
     ]
    }
   ],
   "source": [
    "model = get_mnist_model()\n",
    "model.compile(optimizer=\"rmsprop\",\n",
    "              loss=\"sparse_categorical_crossentropy\",\n",
    "              metrics=[\"accuracy\", RootMeanSquaredError()])\n",
    "model.fit(train_images, train_labels,\n",
    "          epochs=3,\n",
    "          validation_data=(val_images, val_labels))\n",
    "test_metrics = model.evaluate(test_images, test_labels)"
   ]
  },
  {
   "cell_type": "markdown",
   "id": "8706808b",
   "metadata": {},
   "source": [
    "### 7-19 Early stopping 과 ModelCheckpoint "
   ]
  },
  {
   "cell_type": "code",
   "execution_count": 33,
   "id": "07afbb65",
   "metadata": {},
   "outputs": [
    {
     "name": "stdout",
     "output_type": "stream",
     "text": [
      "Epoch 1/10\n",
      "1563/1563 [==============================] - 10s 6ms/step - loss: 0.2933 - accuracy: 0.9140 - val_loss: 0.1565 - val_accuracy: 0.9551\n",
      "Epoch 2/10\n",
      "1563/1563 [==============================] - 10s 6ms/step - loss: 0.1656 - accuracy: 0.9543 - val_loss: 0.1198 - val_accuracy: 0.9676\n",
      "Epoch 3/10\n",
      "1563/1563 [==============================] - 10s 6ms/step - loss: 0.1384 - accuracy: 0.9616 - val_loss: 0.1139 - val_accuracy: 0.9714\n",
      "Epoch 4/10\n",
      "1563/1563 [==============================] - 10s 6ms/step - loss: 0.1273 - accuracy: 0.9678 - val_loss: 0.1175 - val_accuracy: 0.9722\n",
      "Epoch 5/10\n",
      "1563/1563 [==============================] - 10s 6ms/step - loss: 0.1187 - accuracy: 0.9703 - val_loss: 0.1164 - val_accuracy: 0.9730\n",
      "Epoch 6/10\n",
      "1563/1563 [==============================] - 10s 6ms/step - loss: 0.1116 - accuracy: 0.9727 - val_loss: 0.1111 - val_accuracy: 0.9751\n",
      "Epoch 7/10\n",
      "1563/1563 [==============================] - 10s 6ms/step - loss: 0.1075 - accuracy: 0.9750 - val_loss: 0.1111 - val_accuracy: 0.9768\n",
      "Epoch 8/10\n",
      "1563/1563 [==============================] - 10s 6ms/step - loss: 0.0987 - accuracy: 0.9760 - val_loss: 0.1148 - val_accuracy: 0.9780\n",
      "Epoch 9/10\n",
      "1563/1563 [==============================] - 10s 6ms/step - loss: 0.0971 - accuracy: 0.9774 - val_loss: 0.1229 - val_accuracy: 0.9779\n",
      "Epoch 10/10\n",
      "1563/1563 [==============================] - 10s 6ms/step - loss: 0.0997 - accuracy: 0.9780 - val_loss: 0.1172 - val_accuracy: 0.9785\n"
     ]
    },
    {
     "data": {
      "text/plain": [
       "<keras.callbacks.History at 0x7cd275ae35b0>"
      ]
     },
     "execution_count": 33,
     "metadata": {},
     "output_type": "execute_result"
    }
   ],
   "source": [
    "callbacks_list = [\n",
    "    keras.callbacks.EarlyStopping(\n",
    "        monitor=\"val_accuracy\",\n",
    "        patience=2,\n",
    "    ),\n",
    "    keras.callbacks.ModelCheckpoint(\n",
    "        filepath=\"checkpoint_path.h5\",\n",
    "        monitor=\"val_loss\",\n",
    "        save_best_only=True,\n",
    "    )\n",
    "]\n",
    "model = get_mnist_model()\n",
    "model.compile(optimizer=\"rmsprop\",\n",
    "              loss=\"sparse_categorical_crossentropy\",\n",
    "              metrics=[\"accuracy\"])\n",
    "model.fit(train_images, train_labels,\n",
    "          epochs=10,\n",
    "          callbacks=callbacks_list,\n",
    "          validation_data=(val_images, val_labels))"
   ]
  },
  {
   "cell_type": "code",
   "execution_count": 34,
   "id": "7178357c",
   "metadata": {},
   "outputs": [],
   "source": [
    "model = keras.models.load_model(\"checkpoint_path.h5\")"
   ]
  },
  {
   "cell_type": "markdown",
   "id": "e5100513",
   "metadata": {},
   "source": [
    "### 7-20 Callback 클래스를 상속하여 사용자 정의 콜백 만들기"
   ]
  },
  {
   "cell_type": "code",
   "execution_count": 35,
   "id": "d5910056",
   "metadata": {},
   "outputs": [],
   "source": [
    "class LossHistory(keras.callbacks.Callback):\n",
    "    def on_train_begin(self, logs):\n",
    "        self.per_batch_losses = []\n",
    "\n",
    "    def on_batch_end(self, batch, logs):\n",
    "        self.per_batch_losses.append(logs.get(\"loss\"))\n",
    "\n",
    "    def on_epoch_end(self, epoch, logs):\n",
    "        plt.clf()\n",
    "        plt.plot(range(len(self.per_batch_losses)), self.per_batch_losses,\n",
    "                 label=\"Training loss for each batch\")\n",
    "        plt.xlabel(f\"Batch (epoch {epoch})\")\n",
    "        plt.ylabel(\"Loss\")\n",
    "        plt.legend()\n",
    "        plt.savefig(f\"plot_at_epoch_{epoch}\")\n",
    "        self.per_batch_losses = []"
   ]
  },
  {
   "cell_type": "code",
   "execution_count": 36,
   "id": "6e3582d4",
   "metadata": {},
   "outputs": [
    {
     "name": "stdout",
     "output_type": "stream",
     "text": [
      "Epoch 1/10\n",
      "1563/1563 [==============================] - 10s 6ms/step - loss: 0.2980 - accuracy: 0.9115 - val_loss: 0.1402 - val_accuracy: 0.9596\n",
      "Epoch 2/10\n",
      "1563/1563 [==============================] - 9s 6ms/step - loss: 0.1689 - accuracy: 0.9524 - val_loss: 0.1231 - val_accuracy: 0.9648\n",
      "Epoch 3/10\n",
      "1563/1563 [==============================] - 9s 6ms/step - loss: 0.1381 - accuracy: 0.9623 - val_loss: 0.1175 - val_accuracy: 0.9705\n",
      "Epoch 4/10\n",
      "1563/1563 [==============================] - 10s 6ms/step - loss: 0.1275 - accuracy: 0.9671 - val_loss: 0.1130 - val_accuracy: 0.9725\n",
      "Epoch 5/10\n",
      "1563/1563 [==============================] - 10s 6ms/step - loss: 0.1187 - accuracy: 0.9700 - val_loss: 0.1074 - val_accuracy: 0.9752\n",
      "Epoch 6/10\n",
      "1563/1563 [==============================] - 10s 6ms/step - loss: 0.1136 - accuracy: 0.9727 - val_loss: 0.1088 - val_accuracy: 0.9766\n",
      "Epoch 7/10\n",
      "1563/1563 [==============================] - 9s 6ms/step - loss: 0.1074 - accuracy: 0.9741 - val_loss: 0.1152 - val_accuracy: 0.9749\n",
      "Epoch 8/10\n",
      "1563/1563 [==============================] - 9s 6ms/step - loss: 0.1040 - accuracy: 0.9750 - val_loss: 0.1239 - val_accuracy: 0.9754\n",
      "Epoch 9/10\n",
      "1563/1563 [==============================] - 9s 6ms/step - loss: 0.1030 - accuracy: 0.9767 - val_loss: 0.1165 - val_accuracy: 0.9770\n",
      "Epoch 10/10\n",
      "1563/1563 [==============================] - 10s 6ms/step - loss: 0.0957 - accuracy: 0.9779 - val_loss: 0.1088 - val_accuracy: 0.9784\n"
     ]
    },
    {
     "data": {
      "text/plain": [
       "<keras.callbacks.History at 0x7cd2517d7880>"
      ]
     },
     "execution_count": 36,
     "metadata": {},
     "output_type": "execute_result"
    },
    {
     "data": {
      "image/png": "[encoded data removed]",
      "text/plain": [
       "<Figure size 432x288 with 1 Axes>"
      ]
     },
     "metadata": {
      "needs_background": "light"
     },
     "output_type": "display_data"
    }
   ],
   "source": [
    "import matplotlib.pyplot as plt\n",
    "model = get_mnist_model()\n",
    "model.compile(optimizer=\"rmsprop\",\n",
    "              loss=\"sparse_categorical_crossentropy\",\n",
    "              metrics=[\"accuracy\"])\n",
    "model.fit(train_images, train_labels,\n",
    "          epochs=10,\n",
    "          callbacks=[LossHistory()],\n",
    "          validation_data=(val_images, val_labels))"
   ]
  },
  {
   "cell_type": "markdown",
   "id": "aafe54ff",
   "metadata": {},
   "source": [
    "### 텐서보드 활용해서 시각화 하기"
   ]
  },
  {
   "cell_type": "code",
   "execution_count": 37,
   "id": "c25f3e93",
   "metadata": {},
   "outputs": [
    {
     "name": "stdout",
     "output_type": "stream",
     "text": [
      "Epoch 1/10\n",
      "1563/1563 [==============================] - 10s 6ms/step - loss: 0.2956 - accuracy: 0.9130 - val_loss: 0.1546 - val_accuracy: 0.9569\n",
      "Epoch 2/10\n",
      "1563/1563 [==============================] - 9s 6ms/step - loss: 0.1656 - accuracy: 0.9531 - val_loss: 0.1256 - val_accuracy: 0.9673\n",
      "Epoch 3/10\n",
      "1563/1563 [==============================] - 10s 6ms/step - loss: 0.1394 - accuracy: 0.9616 - val_loss: 0.1145 - val_accuracy: 0.9710\n",
      "Epoch 4/10\n",
      "1563/1563 [==============================] - 10s 6ms/step - loss: 0.1267 - accuracy: 0.9681 - val_loss: 0.1182 - val_accuracy: 0.9725\n",
      "Epoch 5/10\n",
      "1563/1563 [==============================] - 10s 6ms/step - loss: 0.1149 - accuracy: 0.9716 - val_loss: 0.1071 - val_accuracy: 0.9754\n",
      "Epoch 6/10\n",
      "1563/1563 [==============================] - 10s 6ms/step - loss: 0.1097 - accuracy: 0.9719 - val_loss: 0.1134 - val_accuracy: 0.9767\n",
      "Epoch 7/10\n",
      "1563/1563 [==============================] - 10s 6ms/step - loss: 0.1054 - accuracy: 0.9743 - val_loss: 0.1055 - val_accuracy: 0.9762\n",
      "Epoch 8/10\n",
      "1563/1563 [==============================] - 10s 6ms/step - loss: 0.1027 - accuracy: 0.9760 - val_loss: 0.1108 - val_accuracy: 0.9788\n",
      "Epoch 9/10\n",
      "1563/1563 [==============================] - 10s 6ms/step - loss: 0.1012 - accuracy: 0.9771 - val_loss: 0.1146 - val_accuracy: 0.9768\n",
      "Epoch 10/10\n",
      "1563/1563 [==============================] - 10s 6ms/step - loss: 0.0945 - accuracy: 0.9790 - val_loss: 0.1129 - val_accuracy: 0.9787\n"
     ]
    },
    {
     "data": {
      "text/plain": [
       "<keras.callbacks.History at 0x7cd275e1fdc0>"
      ]
     },
     "execution_count": 37,
     "metadata": {},
     "output_type": "execute_result"
    }
   ],
   "source": [
    "model = get_mnist_model()\n",
    "model.compile(optimizer=\"rmsprop\",\n",
    "              loss=\"sparse_categorical_crossentropy\",\n",
    "              metrics=[\"accuracy\"])\n",
    "\n",
    "tensorboard = keras.callbacks.TensorBoard(\n",
    "    log_dir=\"./tb_logs\",\n",
    ")\n",
    "model.fit(train_images, train_labels,\n",
    "          epochs=10,\n",
    "          validation_data=(val_images, val_labels),\n",
    "          callbacks=[tensorboard])"
   ]
  },
  {
   "cell_type": "code",
   "execution_count": 38,
   "id": "67943629",
   "metadata": {},
   "outputs": [
    {
     "data": {
      "text/html": [
       "\n",
       "      <iframe id=\"tensorboard-frame-68563ae5bde44a1\" width=\"100%\" height=\"800\" frameborder=\"0\">\n",
       "      </iframe>\n",
       "      <script>\n",
       "        (function() {\n",
       "          const frame = document.getElementById(\"tensorboard-frame-68563ae5bde44a1\");\n",
       "          const url = new URL(\"/\", window.location);\n",
       "          const port = 6006;\n",
       "          if (port) {\n",
       "            url.port = port;\n",
       "          }\n",
       "          frame.src = url;\n",
       "        })();\n",
       "      </script>\n",
       "    "
      ],
      "text/plain": [
       "<IPython.core.display.HTML object>"
      ]
     },
     "metadata": {},
     "output_type": "display_data"
    }
   ],
   "source": [
    "%load_ext tensorboard\n",
    "%tensorboard --logdir ./tb_logs"
   ]
  },
  {
   "cell_type": "markdown",
   "id": "7f0290b3",
   "metadata": {},
   "source": [
    "## 사용자 정의 훈련, 평가 루프 만들기"
   ]
  },
  {
   "cell_type": "markdown",
   "id": "79992f50",
   "metadata": {},
   "source": [
    "### 측정 지표의 저수준 사용법"
   ]
  },
  {
   "cell_type": "code",
   "execution_count": 40,
   "id": "d8d84495",
   "metadata": {},
   "outputs": [
    {
     "name": "stdout",
     "output_type": "stream",
     "text": [
      "결과: 1.00\n"
     ]
    },
    {
     "data": {
      "text/plain": [
       "'\\npredictions = [[1, 0, 0], [0, 1, 0], [0, 0, 1]]는 각각 클래스 0, 클래스 1, 클래스 2에 대한 예측 확률 분포를 나타냅니다. \\n여기서 keras.metrics.SparseCategoricalAccuracy 메트릭은 가장 큰 값을 가지는 인덱스를 예측된 클래스로 간주합니다.\\nmetric.update_state(targets, predictions)는 실제 값과 예측된 값을 사용하여 메트릭의 상태를 업데이트합니다.\\ncurrent_result = metric.result()는 현재까지의 정확도를 계산하여 반환합니다. \\n'"
      ]
     },
     "execution_count": 40,
     "metadata": {},
     "output_type": "execute_result"
    }
   ],
   "source": [
    "metric = keras.metrics.SparseCategoricalAccuracy()\n",
    "targets = [0, 1, 2]\n",
    "predictions = [[1, 0, 0], [0, 1, 0], [0, 0, 1]]\n",
    "metric.update_state(targets, predictions)\n",
    "current_result = metric.result()\n",
    "print(f\"결과: {current_result:.2f}\")\n",
    "\n",
    "'''\n",
    "predictions = [[1, 0, 0], [0, 1, 0], [0, 0, 1]]는 각각 클래스 0, 클래스 1, 클래스 2에 대한 예측 확률 분포를 나타냅니다. \n",
    "여기서 keras.metrics.SparseCategoricalAccuracy 메트릭은 가장 큰 값을 가지는 인덱스를 예측된 클래스로 간주합니다.\n",
    "metric.update_state(targets, predictions)는 실제 값과 예측된 값을 사용하여 메트릭의 상태를 업데이트합니다.\n",
    "current_result = metric.result()는 현재까지의 정확도를 계산하여 반환합니다. \n",
    "'''"
   ]
  },
  {
   "cell_type": "code",
   "execution_count": 41,
   "id": "5564b19f",
   "metadata": {},
   "outputs": [
    {
     "name": "stdout",
     "output_type": "stream",
     "text": [
      "평균 지표: 2.00\n"
     ]
    }
   ],
   "source": [
    "values = [0, 1, 2, 3, 4]\n",
    "mean_tracker = keras.metrics.Mean()\n",
    "for value in values:\n",
    "    mean_tracker.update_state(value)\n",
    "print(f\"평균 지표: {mean_tracker.result():.2f}\")"
   ]
  },
  {
   "cell_type": "markdown",
   "id": "f1030124",
   "metadata": {},
   "source": [
    "### 완전한 훈련과 평가 루프"
   ]
  },
  {
   "cell_type": "markdown",
   "id": "c03aad64",
   "metadata": {},
   "source": [
    "### 7-21 단계별 훈련 루프 작성하기: 훈련 스텝 함수"
   ]
  },
  {
   "cell_type": "code",
   "execution_count": 42,
   "id": "8672fa66",
   "metadata": {},
   "outputs": [],
   "source": [
    "model = get_mnist_model()\n",
    "\n",
    "loss_fn = keras.losses.SparseCategoricalCrossentropy()\n",
    "optimizer = keras.optimizers.RMSprop()\n",
    "metrics = [keras.metrics.SparseCategoricalAccuracy()]\n",
    "loss_tracking_metric = keras.metrics.Mean()\n",
    "\n",
    "def train_step(inputs, targets):\n",
    "    with tf.GradientTape() as tape:\n",
    "        predictions = model(inputs, training=True)\n",
    "        loss = loss_fn(targets, predictions)\n",
    "    gradients = tape.gradient(loss, model.trainable_weights)\n",
    "    optimizer.apply_gradients(zip(gradients, model.trainable_weights))\n",
    "\n",
    "    logs = {}\n",
    "    for metric in metrics:\n",
    "        metric.update_state(targets, predictions)\n",
    "        logs[metric.name] = metric.result()\n",
    "\n",
    "    loss_tracking_metric.update_state(loss)\n",
    "    logs[\"loss\"] = loss_tracking_metric.result()\n",
    "    return logs"
   ]
  },
  {
   "cell_type": "markdown",
   "id": "6579ce66",
   "metadata": {},
   "source": [
    "### 7-22 단계별 훈련 루프 작성하기: 지표 재설정"
   ]
  },
  {
   "cell_type": "code",
   "execution_count": 43,
   "id": "99105c6b",
   "metadata": {},
   "outputs": [],
   "source": [
    "def reset_metrics():\n",
    "    for metric in metrics:\n",
    "        metric.reset_state()\n",
    "    loss_tracking_metric.reset_state()"
   ]
  },
  {
   "cell_type": "markdown",
   "id": "12f05664",
   "metadata": {},
   "source": [
    "### 7-23 단계별 훈련 루프 작성하기: 훈련 루프 자체"
   ]
  },
  {
   "cell_type": "code",
   "execution_count": 44,
   "id": "2895d056",
   "metadata": {},
   "outputs": [
    {
     "name": "stdout",
     "output_type": "stream",
     "text": [
      "0번째 에포크 결과\n",
      "...sparse_categorical_accuracy: 0.9143\n",
      "...loss: 0.2920\n",
      "1번째 에포크 결과\n",
      "...sparse_categorical_accuracy: 0.9535\n",
      "...loss: 0.1650\n",
      "2번째 에포크 결과\n",
      "...sparse_categorical_accuracy: 0.9629\n",
      "...loss: 0.1389\n"
     ]
    }
   ],
   "source": [
    "training_dataset = tf.data.Dataset.from_tensor_slices((train_images, train_labels))\n",
    "training_dataset = training_dataset.batch(32)\n",
    "epochs = 3\n",
    "for epoch in range(epochs):\n",
    "    reset_metrics()\n",
    "    for inputs_batch, targets_batch in training_dataset:\n",
    "        logs = train_step(inputs_batch, targets_batch)\n",
    "    print(f\"{epoch}번째 에포크 결과\")\n",
    "    for key, value in logs.items():\n",
    "        print(f\"...{key}: {value:.4f}\")"
   ]
  },
  {
   "cell_type": "markdown",
   "id": "16587cd7",
   "metadata": {},
   "source": [
    "### 7-24 단계별 평가 루프 작성하기"
   ]
  },
  {
   "cell_type": "code",
   "execution_count": 45,
   "id": "32642bde",
   "metadata": {},
   "outputs": [
    {
     "name": "stdout",
     "output_type": "stream",
     "text": [
      "평가 결과:\n",
      "...val_sparse_categorical_accuracy: 0.9656\n",
      "...val_loss: 0.1364\n"
     ]
    }
   ],
   "source": [
    "def test_step(inputs, targets):\n",
    "    predictions = model(inputs, training=False)\n",
    "    loss = loss_fn(targets, predictions)\n",
    "\n",
    "    logs = {}\n",
    "    for metric in metrics:\n",
    "        metric.update_state(targets, predictions)\n",
    "        logs[\"val_\" + metric.name] = metric.result()\n",
    "\n",
    "    loss_tracking_metric.update_state(loss)\n",
    "    logs[\"val_loss\"] = loss_tracking_metric.result()\n",
    "    return logs\n",
    "\n",
    "val_dataset = tf.data.Dataset.from_tensor_slices((val_images, val_labels))\n",
    "val_dataset = val_dataset.batch(32)\n",
    "reset_metrics()\n",
    "for inputs_batch, targets_batch in val_dataset:\n",
    "    logs = test_step(inputs_batch, targets_batch)\n",
    "print(\"평가 결과:\")\n",
    "for key, value in logs.items():\n",
    "    print(f\"...{key}: {value:.4f}\")"
   ]
  },
  {
   "cell_type": "markdown",
   "id": "d7f0bbe6",
   "metadata": {},
   "source": [
    "### tf.function으로 성능 높이기"
   ]
  },
  {
   "cell_type": "code",
   "execution_count": 46,
   "id": "14ce252f",
   "metadata": {},
   "outputs": [
    {
     "name": "stdout",
     "output_type": "stream",
     "text": [
      "평가 결과:\n",
      "...val_sparse_categorical_accuracy: 0.9656\n",
      "...val_loss: 0.1364\n"
     ]
    }
   ],
   "source": [
    "@tf.function # 이것만 함수 앞에 추가\n",
    "def test_step(inputs, targets):\n",
    "    predictions = model(inputs, training=False)\n",
    "    loss = loss_fn(targets, predictions)\n",
    "\n",
    "    logs = {}\n",
    "    for metric in metrics:\n",
    "        metric.update_state(targets, predictions)\n",
    "        logs[\"val_\" + metric.name] = metric.result()\n",
    "\n",
    "    loss_tracking_metric.update_state(loss)\n",
    "    logs[\"val_loss\"] = loss_tracking_metric.result()\n",
    "    return logs\n",
    "\n",
    "val_dataset = tf.data.Dataset.from_tensor_slices((val_images, val_labels))\n",
    "val_dataset = val_dataset.batch(32)\n",
    "reset_metrics()\n",
    "for inputs_batch, targets_batch in val_dataset:\n",
    "    logs = test_step(inputs_batch, targets_batch)\n",
    "print(\"평가 결과:\")\n",
    "for key, value in logs.items():\n",
    "    print(f\"...{key}: {value:.4f}\")"
   ]
  },
  {
   "cell_type": "markdown",
   "id": "6377efc2",
   "metadata": {},
   "source": [
    "### 7-26 fit()이 사용할 사용자 정의 훈련 스텝 구현하기"
   ]
  },
  {
   "cell_type": "code",
   "execution_count": 47,
   "id": "9603db0d",
   "metadata": {},
   "outputs": [],
   "source": [
    "## 오버라이딩이란 상속받은 부모 클래스의 메소드를 재정의하여 사용하는 것\n",
    "\n",
    "loss_fn = keras.losses.SparseCategoricalCrossentropy()\n",
    "loss_tracker = keras.metrics.Mean(name=\"loss\")\n",
    "\n",
    "class CustomModel(keras.Model):\n",
    "    def train_step(self, data):\n",
    "        inputs, targets = data\n",
    "        with tf.GradientTape() as tape:\n",
    "            predictions = self(inputs, training=True)\n",
    "            loss = loss_fn(targets, predictions)\n",
    "        gradients = tape.gradient(loss, self.trainable_weights)\n",
    "        self.optimizer.apply_gradients(zip(gradients, self.trainable_weights))\n",
    "\n",
    "        loss_tracker.update_state(loss)\n",
    "        return {\"loss\": loss_tracker.result()}\n",
    "\n",
    "    @property\n",
    "    def metrics(self):\n",
    "        return [loss_tracker]"
   ]
  },
  {
   "cell_type": "code",
   "execution_count": 48,
   "id": "4bb785cd",
   "metadata": {},
   "outputs": [
    {
     "name": "stdout",
     "output_type": "stream",
     "text": [
      "Epoch 1/3\n",
      "1563/1563 [==============================] - 9s 6ms/step - loss: 0.2965\n",
      "Epoch 2/3\n",
      "1563/1563 [==============================] - 9s 6ms/step - loss: 0.1639\n",
      "Epoch 3/3\n",
      "1563/1563 [==============================] - 9s 6ms/step - loss: 0.1358\n"
     ]
    },
    {
     "data": {
      "text/plain": [
       "<keras.callbacks.History at 0x7cd25033e7c0>"
      ]
     },
     "execution_count": 48,
     "metadata": {},
     "output_type": "execute_result"
    }
   ],
   "source": [
    "inputs = keras.Input(shape=(28 * 28,))\n",
    "features = layers.Dense(512, activation=\"relu\")(inputs)\n",
    "features = layers.Dropout(0.5)(features)\n",
    "outputs = layers.Dense(10, activation=\"softmax\")(features)\n",
    "model = CustomModel(inputs, outputs)\n",
    "\n",
    "model.compile(optimizer=keras.optimizers.RMSprop())\n",
    "model.fit(train_images, train_labels, epochs=3)"
   ]
  },
  {
   "cell_type": "code",
   "execution_count": 49,
   "id": "32f734a8",
   "metadata": {},
   "outputs": [],
   "source": [
    "class CustomModel(keras.Model):\n",
    "    def train_step(self, data):\n",
    "        inputs, targets = data\n",
    "        with tf.GradientTape() as tape:\n",
    "            predictions = self(inputs, training=True)\n",
    "            loss = self.compiled_loss(targets, predictions)\n",
    "        gradients = tape.gradient(loss, self.trainable_weights)\n",
    "        self.optimizer.apply_gradients(zip(gradients, self.trainable_weights))\n",
    "        self.compiled_metrics.update_state(targets, predictions)\n",
    "        return {m.name: m.result() for m in self.metrics}"
   ]
  },
  {
   "cell_type": "code",
   "execution_count": 50,
   "id": "13fa4bfa",
   "metadata": {},
   "outputs": [
    {
     "name": "stdout",
     "output_type": "stream",
     "text": [
      "Epoch 1/3\n",
      "1563/1563 [==============================] - 10s 6ms/step - loss: 0.2955 - sparse_categorical_accuracy: 0.9127\n",
      "Epoch 2/3\n",
      "1563/1563 [==============================] - 10s 7ms/step - loss: 0.1665 - sparse_categorical_accuracy: 0.9527\n",
      "Epoch 3/3\n",
      "1563/1563 [==============================] - 10s 7ms/step - loss: 0.1381 - sparse_categorical_accuracy: 0.9632\n"
     ]
    },
    {
     "data": {
      "text/plain": [
       "<keras.callbacks.History at 0x7cd2d55b0430>"
      ]
     },
     "execution_count": 50,
     "metadata": {},
     "output_type": "execute_result"
    }
   ],
   "source": [
    "inputs = keras.Input(shape=(28 * 28,))\n",
    "features = layers.Dense(512, activation=\"relu\")(inputs)\n",
    "features = layers.Dropout(0.5)(features)\n",
    "outputs = layers.Dense(10, activation=\"softmax\")(features)\n",
    "model = CustomModel(inputs, outputs)\n",
    "\n",
    "model.compile(optimizer=keras.optimizers.RMSprop(),\n",
    "              loss=keras.losses.SparseCategoricalCrossentropy(),\n",
    "              metrics=[keras.metrics.SparseCategoricalAccuracy()])\n",
    "model.fit(train_images, train_labels, epochs=3)"
   ]
  },
  {
   "cell_type": "markdown",
   "id": "a924942e",
   "metadata": {},
   "source": [
    "---------------------\n",
    "1. Python class 구조에 익숙해질 정도로 더 공부해야할 필요성을 느꼈다.\n",
    "2. with 문도 다시 한번 꼼꼼히 살펴봐야 GradientTape를 완전히 이해할 수 있어보인다.\n",
    "3. 사용자 정의 루프는 한번 더 구현해보자\n",
    "4. 이론은 충분하니 코딩이랑 코드 읽는 실력도 따라와야 할 듯"
   ]
  },
  {
   "cell_type": "markdown",
   "id": "9af2ef12",
   "metadata": {},
   "source": [
    "### 발표 내용 간단 정리"
   ]
  },
  {
   "cell_type": "markdown",
   "id": "0f288a35",
   "metadata": {},
   "source": [
    "1. sigmoid는 hidden layer가 4가 넘어가면 학습이 안되기 시작했다.\n",
    "2. 데이터가 복잡하지 않으면 과적합 될 가능성이 있지만 , layer가 많을수록 수렴속도가 빨라진다.\n",
    "3. 2번은 일반 네트워크 뿐만 아니라 CNN에서도 마찬가지였다.\n",
    "4. 데이터의 복잡한 정도에 따라서 모델도 적당히 복잡하게 만들어야 할 것 같다. "
   ]
  }
 ],
 "metadata": {
  "kernelspec": {
   "display_name": "Python 3 (ipykernel)",
   "language": "python",
   "name": "python3"
  },
  "language_info": {
   "codemirror_mode": {
    "name": "ipython",
    "version": 3
   },
   "file_extension": ".py",
   "mimetype": "text/x-python",
   "name": "python",
   "nbconvert_exporter": "python",
   "pygments_lexer": "ipython3",
   "version": "3.9.7"
  }
 },
 "nbformat": 4,
 "nbformat_minor": 5
}
